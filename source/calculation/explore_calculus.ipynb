{
 "cells": [
  {
   "cell_type": "code",
   "execution_count": 1,
   "metadata": {},
   "outputs": [
    {
     "ename": "Exception",
     "evalue": "melhor usar código calculate_transfer.py",
     "output_type": "error",
     "traceback": [
      "\u001b[0;31m---------------------------------------------------------------------------\u001b[0m",
      "\u001b[0;31mException\u001b[0m                                 Traceback (most recent call last)",
      "\u001b[0;32m/tmp/ipykernel_170015/3399207599.py\u001b[0m in \u001b[0;36m<module>\u001b[0;34m\u001b[0m\n\u001b[0;32m----> 1\u001b[0;31m \u001b[0;32mraise\u001b[0m \u001b[0mException\u001b[0m\u001b[0;34m(\u001b[0m\u001b[0;34m\"melhor usar código calculate_transfer.py\"\u001b[0m\u001b[0;34m)\u001b[0m\u001b[0;34m\u001b[0m\u001b[0;34m\u001b[0m\u001b[0m\n\u001b[0m",
      "\u001b[0;31mException\u001b[0m: melhor usar código calculate_transfer.py"
     ]
    }
   ],
   "source": [
    "raise Exception(\"Melhor usar código calculate_transfer.py\")"
   ]
  },
  {
   "cell_type": "markdown",
   "metadata": {},
   "source": [
    "## Carregar datasets"
   ]
  },
  {
   "cell_type": "code",
   "execution_count": 2,
   "metadata": {},
   "outputs": [],
   "source": [
    "import os\n",
    "import sys\n",
    "sys.path.append(os.path.abspath('.'))\n",
    "sys.path.append(os.path.abspath(r'./.'))"
   ]
  },
  {
   "cell_type": "code",
   "execution_count": 1,
   "metadata": {},
   "outputs": [
    {
     "data": {
      "text/plain": [
       "'/home/borela/fontes/exqa-complearning/source/calculation'"
      ]
     },
     "execution_count": 1,
     "metadata": {},
     "output_type": "execute_result"
    }
   ],
   "source": [
    "%pwd"
   ]
  },
  {
   "cell_type": "code",
   "execution_count": 3,
   "metadata": {},
   "outputs": [
    {
     "name": "stdout",
     "output_type": "stream",
     "text": [
      "/home/borela/fontes/exqa-complearning\n"
     ]
    }
   ],
   "source": [
    "%cd ../.."
   ]
  },
  {
   "cell_type": "code",
   "execution_count": 4,
   "metadata": {},
   "outputs": [
    {
     "name": "stderr",
     "output_type": "stream",
     "text": [
      "/home/borela/miniconda3/envs/exqa-complearning/lib/python3.7/site-packages/tqdm/auto.py:22: TqdmWarning: IProgress not found. Please update jupyter and ipywidgets. See https://ipywidgets.readthedocs.io/en/stable/user_install.html\n",
      "  from .autonotebook import tqdm as notebook_tqdm\n"
     ]
    }
   ],
   "source": [
    "from source.data_related import squad_related\n"
   ]
  },
  {
   "cell_type": "code",
   "execution_count": 5,
   "metadata": {},
   "outputs": [],
   "source": [
    "from source.calculation import squad_evaluate_v1_1"
   ]
  },
  {
   "cell_type": "code",
   "execution_count": 6,
   "metadata": {},
   "outputs": [
    {
     "name": "stderr",
     "output_type": "stream",
     "text": [
      "Using custom data configuration default-d2cdb99fa46933e9\n",
      "Reusing dataset json (/home/borela/.cache/huggingface/datasets/json/default-d2cdb99fa46933e9/0.0.0/da492aad5680612e4028e7f6ddc04b1dfcec4b64db470ed7cc5f2bb265b9b6b5)\n",
      "100%|██████████| 1/1 [00:00<00:00,  7.93it/s]\n"
     ]
    }
   ],
   "source": [
    "squad_dataset_en = squad_related.load_squad_dataset_1_1(parm_language='en')"
   ]
  },
  {
   "cell_type": "code",
   "execution_count": 5,
   "metadata": {},
   "outputs": [],
   "source": [
    "from source.calculation.context_learning  import teste_trata_reader2"
   ]
  },
  {
   "cell_type": "code",
   "execution_count": 9,
   "metadata": {},
   "outputs": [
    {
     "data": {
      "text/plain": [
       "<module 'source.calculation.context_learning.teste_trata_reader2' from '/home/borela/fontes/exqa-complearning/source/calculation/context_learning/teste_trata_reader2.py'>"
      ]
     },
     "execution_count": 9,
     "metadata": {},
     "output_type": "execute_result"
    }
   ],
   "source": [
    "import importlib\n",
    "importlib.reload(teste_trata_reader2)"
   ]
  },
  {
   "cell_type": "code",
   "execution_count": 6,
   "metadata": {},
   "outputs": [
    {
     "name": "stderr",
     "output_type": "stream",
     "text": [
      "You are using a model of type gpt_neo to instantiate a model of type gptj. This is not supported for all configurations of models and can yield errors.\n",
      "Some weights of the model checkpoint at models/context_learning/EleutherAI/gpt-neo-1.3B were not used when initializing GPTJForCausalLM: ['transformer.h.20.ln_2.bias', 'transformer.h.1.mlp.c_proj.bias', 'transformer.h.14.attn.attention.v_proj.weight', 'transformer.h.16.attn.attention.v_proj.weight', 'transformer.h.0.attn.attention.k_proj.weight', 'transformer.h.8.attn.attention.out_proj.bias', 'transformer.h.9.attn.attention.k_proj.weight', 'transformer.h.15.attn.attention.k_proj.weight', 'transformer.h.12.attn.attention.v_proj.weight', 'transformer.h.1.mlp.c_fc.bias', 'transformer.h.2.attn.attention.q_proj.weight', 'transformer.h.23.attn.attention.v_proj.weight', 'transformer.h.7.ln_2.bias', 'transformer.h.15.mlp.c_proj.weight', 'transformer.h.2.attn.attention.v_proj.weight', 'transformer.h.12.attn.attention.out_proj.bias', 'transformer.h.0.ln_2.bias', 'transformer.h.0.attn.attention.v_proj.weight', 'transformer.h.14.mlp.c_proj.weight', 'transformer.h.12.attn.attention.masked_bias', 'transformer.h.18.attn.attention.out_proj.bias', 'transformer.h.0.mlp.c_fc.weight', 'transformer.h.5.attn.attention.masked_bias', 'transformer.h.14.attn.attention.bias', 'transformer.h.18.attn.attention.q_proj.weight', 'transformer.h.19.ln_2.weight', 'transformer.h.7.attn.attention.out_proj.weight', 'transformer.h.19.attn.attention.out_proj.bias', 'transformer.h.8.mlp.c_proj.weight', 'transformer.h.8.mlp.c_fc.bias', 'transformer.h.14.attn.attention.out_proj.bias', 'transformer.h.8.mlp.c_proj.bias', 'transformer.h.16.mlp.c_proj.weight', 'transformer.h.11.mlp.c_fc.bias', 'transformer.h.6.attn.attention.out_proj.weight', 'transformer.h.20.attn.attention.out_proj.bias', 'transformer.h.7.attn.attention.v_proj.weight', 'transformer.h.22.ln_2.weight', 'transformer.h.21.attn.attention.k_proj.weight', 'transformer.h.20.mlp.c_proj.bias', 'transformer.h.20.attn.attention.q_proj.weight', 'transformer.h.22.mlp.c_proj.bias', 'transformer.h.9.attn.attention.q_proj.weight', 'transformer.h.17.attn.attention.out_proj.bias', 'transformer.h.3.mlp.c_fc.weight', 'transformer.h.20.mlp.c_fc.bias', 'transformer.h.1.mlp.c_proj.weight', 'transformer.h.14.mlp.c_fc.bias', 'transformer.h.0.attn.attention.out_proj.weight', 'transformer.h.21.attn.attention.out_proj.bias', 'transformer.h.8.attn.attention.out_proj.weight', 'transformer.h.10.attn.attention.bias', 'transformer.h.17.mlp.c_proj.weight', 'transformer.h.18.mlp.c_fc.weight', 'transformer.h.6.ln_2.weight', 'transformer.h.4.attn.attention.k_proj.weight', 'transformer.h.13.ln_2.bias', 'transformer.h.7.mlp.c_fc.weight', 'transformer.h.6.ln_2.bias', 'transformer.h.13.mlp.c_fc.weight', 'transformer.h.17.attn.attention.out_proj.weight', 'transformer.h.8.ln_2.bias', 'transformer.h.9.mlp.c_proj.weight', 'transformer.h.10.attn.attention.v_proj.weight', 'transformer.h.1.attn.attention.v_proj.weight', 'transformer.h.22.attn.attention.k_proj.weight', 'transformer.h.2.attn.attention.out_proj.weight', 'transformer.h.23.attn.attention.k_proj.weight', 'transformer.h.12.ln_2.bias', 'transformer.h.5.attn.attention.v_proj.weight', 'transformer.h.8.attn.attention.q_proj.weight', 'transformer.h.1.attn.attention.masked_bias', 'transformer.h.14.attn.attention.out_proj.weight', 'transformer.h.4.attn.attention.out_proj.weight', 'transformer.h.12.mlp.c_proj.weight', 'transformer.h.3.attn.attention.q_proj.weight', 'transformer.h.21.mlp.c_proj.weight', 'transformer.h.16.attn.attention.out_proj.bias', 'transformer.h.3.mlp.c_fc.bias', 'transformer.h.18.attn.attention.bias', 'transformer.h.15.attn.attention.masked_bias', 'transformer.h.17.ln_2.weight', 'transformer.h.13.ln_2.weight', 'transformer.h.6.attn.attention.masked_bias', 'transformer.h.9.attn.attention.masked_bias', 'transformer.h.18.attn.attention.v_proj.weight', 'transformer.h.3.mlp.c_proj.bias', 'transformer.h.0.attn.attention.masked_bias', 'transformer.h.7.mlp.c_proj.weight', 'transformer.h.23.ln_2.weight', 'transformer.h.14.attn.attention.masked_bias', 'transformer.h.23.mlp.c_proj.weight', 'transformer.h.11.attn.attention.masked_bias', 'transformer.h.16.attn.attention.bias', 'transformer.h.20.ln_2.weight', 'transformer.h.4.mlp.c_proj.weight', 'transformer.h.1.attn.attention.out_proj.bias', 'transformer.h.5.mlp.c_fc.weight', 'transformer.h.18.ln_2.weight', 'transformer.h.6.attn.attention.q_proj.weight', 'transformer.h.10.attn.attention.masked_bias', 'transformer.h.20.attn.attention.v_proj.weight', 'transformer.h.15.mlp.c_fc.weight', 'transformer.h.5.attn.attention.out_proj.weight', 'transformer.h.14.ln_2.bias', 'transformer.h.4.mlp.c_fc.weight', 'transformer.h.13.attn.attention.masked_bias', 'transformer.h.11.mlp.c_fc.weight', 'transformer.h.4.ln_2.weight', 'transformer.h.18.mlp.c_fc.bias', 'transformer.h.22.mlp.c_proj.weight', 'transformer.h.23.attn.attention.masked_bias', 'transformer.h.12.attn.attention.out_proj.weight', 'transformer.h.19.attn.attention.k_proj.weight', 'transformer.h.15.ln_2.bias', 'transformer.h.19.mlp.c_proj.weight', 'transformer.h.17.attn.attention.k_proj.weight', 'transformer.h.2.attn.attention.out_proj.bias', 'transformer.h.2.mlp.c_proj.weight', 'transformer.h.17.attn.attention.q_proj.weight', 'transformer.h.4.attn.attention.q_proj.weight', 'transformer.h.17.mlp.c_proj.bias', 'transformer.h.12.mlp.c_fc.weight', 'transformer.h.22.attn.attention.bias', 'transformer.h.12.attn.attention.bias', 'transformer.h.10.mlp.c_proj.bias', 'transformer.h.20.mlp.c_fc.weight', 'transformer.h.21.mlp.c_proj.bias', 'transformer.h.7.attn.attention.k_proj.weight', 'transformer.h.0.mlp.c_fc.bias', 'transformer.h.6.attn.attention.bias', 'transformer.h.16.ln_2.bias', 'transformer.h.10.attn.attention.out_proj.bias', 'transformer.h.0.ln_2.weight', 'transformer.h.9.ln_2.weight', 'transformer.h.19.attn.attention.out_proj.weight', 'transformer.h.16.mlp.c_fc.bias', 'transformer.h.0.mlp.c_proj.weight', 'transformer.h.5.mlp.c_proj.weight', 'transformer.h.3.attn.attention.out_proj.bias', 'transformer.h.5.mlp.c_fc.bias', 'transformer.h.23.attn.attention.q_proj.weight', 'transformer.h.21.ln_2.bias', 'transformer.h.15.mlp.c_proj.bias', 'transformer.h.15.attn.attention.q_proj.weight', 'transformer.h.8.attn.attention.masked_bias', 'transformer.h.14.mlp.c_fc.weight', 'transformer.h.19.mlp.c_fc.bias', 'transformer.h.4.mlp.c_fc.bias', 'transformer.h.16.attn.attention.masked_bias', 'transformer.h.11.attn.attention.out_proj.bias', 'transformer.h.19.mlp.c_proj.bias', 'transformer.h.5.ln_2.bias', 'transformer.h.10.mlp.c_fc.bias', 'transformer.h.13.mlp.c_proj.bias', 'transformer.h.23.mlp.c_fc.bias', 'transformer.h.1.attn.attention.out_proj.weight', 'transformer.h.19.attn.attention.q_proj.weight', 'transformer.h.16.attn.attention.k_proj.weight', 'transformer.h.15.ln_2.weight', 'transformer.h.17.ln_2.bias', 'transformer.h.5.attn.attention.q_proj.weight', 'transformer.h.18.mlp.c_proj.bias', 'transformer.h.7.attn.attention.masked_bias', 'transformer.h.17.mlp.c_fc.bias', 'transformer.h.16.ln_2.weight', 'transformer.h.5.attn.attention.k_proj.weight', 'transformer.h.22.mlp.c_fc.bias', 'transformer.h.5.mlp.c_proj.bias', 'transformer.h.12.mlp.c_fc.bias', 'transformer.h.6.attn.attention.v_proj.weight', 'transformer.h.3.mlp.c_proj.weight', 'transformer.h.16.attn.attention.out_proj.weight', 'transformer.h.11.attn.attention.out_proj.weight', 'transformer.h.10.ln_2.bias', 'transformer.h.1.ln_2.weight', 'transformer.h.21.mlp.c_fc.bias', 'transformer.h.22.mlp.c_fc.weight', 'transformer.h.17.attn.attention.v_proj.weight', 'transformer.h.9.mlp.c_proj.bias', 'transformer.h.8.attn.attention.bias', 'transformer.h.8.attn.attention.v_proj.weight', 'transformer.h.21.attn.attention.out_proj.weight', 'transformer.h.19.attn.attention.v_proj.weight', 'transformer.h.20.attn.attention.masked_bias', 'transformer.h.6.attn.attention.k_proj.weight', 'transformer.h.13.mlp.c_fc.bias', 'transformer.h.8.ln_2.weight', 'transformer.h.22.attn.attention.out_proj.bias', 'transformer.h.16.mlp.c_proj.bias', 'transformer.h.14.attn.attention.k_proj.weight', 'transformer.h.7.mlp.c_fc.bias', 'transformer.h.11.attn.attention.k_proj.weight', 'transformer.h.2.attn.attention.k_proj.weight', 'transformer.h.5.ln_2.weight', 'transformer.h.20.mlp.c_proj.weight', 'transformer.h.14.mlp.c_proj.bias', 'transformer.h.2.ln_2.weight', 'transformer.h.21.ln_2.weight', 'transformer.h.11.mlp.c_proj.weight', 'transformer.h.20.attn.attention.bias', 'transformer.h.15.attn.attention.out_proj.bias', 'transformer.h.8.mlp.c_fc.weight', 'transformer.h.7.mlp.c_proj.bias', 'transformer.h.9.mlp.c_fc.weight', 'transformer.h.3.attn.attention.v_proj.weight', 'transformer.h.18.attn.attention.masked_bias', 'transformer.h.23.attn.attention.out_proj.weight', 'transformer.h.1.attn.attention.q_proj.weight', 'transformer.h.20.attn.attention.out_proj.weight', 'transformer.h.13.attn.attention.out_proj.weight', 'transformer.h.9.ln_2.bias', 'transformer.h.9.attn.attention.out_proj.bias', 'transformer.h.10.attn.attention.out_proj.weight', 'transformer.h.4.attn.attention.v_proj.weight', 'transformer.h.6.mlp.c_fc.weight', 'transformer.h.11.mlp.c_proj.bias', 'transformer.h.1.ln_2.bias', 'transformer.h.6.mlp.c_fc.bias', 'transformer.h.22.attn.attention.q_proj.weight', 'transformer.h.16.attn.attention.q_proj.weight', 'transformer.h.6.attn.attention.out_proj.bias', 'transformer.h.13.attn.attention.out_proj.bias', 'transformer.h.12.attn.attention.q_proj.weight', 'transformer.h.18.attn.attention.k_proj.weight', 'transformer.h.23.mlp.c_proj.bias', 'transformer.h.23.mlp.c_fc.weight', 'transformer.h.2.mlp.c_fc.weight', 'transformer.h.6.mlp.c_proj.bias', 'transformer.h.1.attn.attention.k_proj.weight', 'transformer.h.14.attn.attention.q_proj.weight', 'transformer.h.7.attn.attention.q_proj.weight', 'transformer.h.18.ln_2.bias', 'transformer.h.0.mlp.c_proj.bias', 'transformer.h.4.mlp.c_proj.bias', 'transformer.h.1.mlp.c_fc.weight', 'transformer.h.15.attn.attention.out_proj.weight', 'transformer.h.8.attn.attention.k_proj.weight', 'transformer.h.10.mlp.c_fc.weight', 'transformer.h.11.attn.attention.q_proj.weight', 'transformer.h.0.attn.attention.out_proj.bias', 'transformer.h.15.mlp.c_fc.bias', 'transformer.h.4.ln_2.bias', 'transformer.h.3.ln_2.bias', 'transformer.h.23.attn.attention.out_proj.bias', 'transformer.h.22.attn.attention.v_proj.weight', 'transformer.h.4.attn.attention.masked_bias', 'transformer.h.10.ln_2.weight', 'transformer.h.19.mlp.c_fc.weight', 'transformer.h.2.attn.attention.bias', 'transformer.h.13.attn.attention.k_proj.weight', 'transformer.h.15.attn.attention.v_proj.weight', 'transformer.h.2.ln_2.bias', 'transformer.h.16.mlp.c_fc.weight', 'transformer.h.10.mlp.c_proj.weight', 'transformer.h.20.attn.attention.k_proj.weight', 'transformer.h.3.attn.attention.masked_bias', 'transformer.h.10.attn.attention.k_proj.weight', 'transformer.h.3.attn.attention.out_proj.weight', 'transformer.h.2.mlp.c_fc.bias', 'transformer.h.21.attn.attention.v_proj.weight', 'transformer.h.13.attn.attention.q_proj.weight', 'transformer.h.3.attn.attention.k_proj.weight', 'transformer.h.4.attn.attention.bias', 'transformer.h.22.ln_2.bias', 'transformer.h.9.attn.attention.v_proj.weight', 'transformer.h.7.ln_2.weight', 'transformer.h.13.mlp.c_proj.weight', 'transformer.h.10.attn.attention.q_proj.weight', 'transformer.h.2.mlp.c_proj.bias', 'transformer.h.22.attn.attention.masked_bias', 'transformer.h.21.attn.attention.masked_bias', 'transformer.h.9.mlp.c_fc.bias', 'transformer.h.5.attn.attention.out_proj.bias', 'transformer.h.17.attn.attention.masked_bias', 'transformer.h.19.ln_2.bias', 'transformer.h.17.mlp.c_fc.weight', 'transformer.wpe.weight', 'transformer.h.23.ln_2.bias', 'transformer.h.11.ln_2.weight', 'transformer.h.4.attn.attention.out_proj.bias', 'transformer.h.12.mlp.c_proj.bias', 'transformer.h.3.ln_2.weight', 'transformer.h.19.attn.attention.masked_bias', 'transformer.h.2.attn.attention.masked_bias', 'transformer.h.0.attn.attention.bias', 'transformer.h.12.ln_2.weight', 'transformer.h.21.mlp.c_fc.weight', 'transformer.h.21.attn.attention.q_proj.weight', 'transformer.h.22.attn.attention.out_proj.weight', 'transformer.h.18.mlp.c_proj.weight', 'transformer.h.13.attn.attention.v_proj.weight', 'transformer.h.7.attn.attention.out_proj.bias', 'transformer.h.12.attn.attention.k_proj.weight', 'transformer.h.11.attn.attention.v_proj.weight', 'transformer.h.9.attn.attention.out_proj.weight', 'transformer.h.0.attn.attention.q_proj.weight', 'transformer.h.14.ln_2.weight', 'transformer.h.18.attn.attention.out_proj.weight', 'transformer.h.11.ln_2.bias', 'transformer.h.6.mlp.c_proj.weight']\n",
      "- This IS expected if you are initializing GPTJForCausalLM from the checkpoint of a model trained on another task or with another architecture (e.g. initializing a BertForSequenceClassification model from a BertForPreTraining model).\n",
      "- This IS NOT expected if you are initializing GPTJForCausalLM from the checkpoint of a model that you expect to be exactly identical (initializing a BertForSequenceClassification model from a BertForSequenceClassification model).\n",
      "Some weights of GPTJForCausalLM were not initialized from the model checkpoint at models/context_learning/EleutherAI/gpt-neo-1.3B and are newly initialized: ['transformer.h.24.mlp.fc_out.weight', 'transformer.h.3.mlp.fc_out.weight', 'transformer.h.21.attn.q_proj.weight', 'transformer.h.0.attn.q_proj.weight', 'transformer.h.6.attn.out_proj.weight', 'transformer.h.3.attn.q_proj.weight', 'transformer.h.18.mlp.fc_in.weight', 'transformer.h.16.mlp.fc_in.weight', 'transformer.h.14.mlp.fc_in.weight', 'transformer.h.27.mlp.fc_out.bias', 'transformer.h.23.mlp.fc_out.bias', 'transformer.h.11.mlp.fc_out.bias', 'transformer.h.3.mlp.fc_out.bias', 'transformer.h.19.attn.k_proj.weight', 'transformer.h.4.attn.k_proj.weight', 'transformer.h.1.mlp.fc_out.bias', 'transformer.h.17.attn.v_proj.weight', 'transformer.h.17.attn.out_proj.weight', 'transformer.h.26.mlp.fc_in.weight', 'transformer.h.4.mlp.fc_in.weight', 'transformer.h.27.ln_1.weight', 'transformer.h.1.attn.k_proj.weight', 'transformer.h.22.attn.q_proj.weight', 'transformer.h.18.attn.k_proj.weight', 'transformer.h.9.mlp.fc_in.bias', 'transformer.h.2.attn.v_proj.weight', 'transformer.h.4.attn.q_proj.weight', 'transformer.h.0.attn.k_proj.weight', 'transformer.h.16.attn.q_proj.weight', 'transformer.h.0.mlp.fc_in.bias', 'transformer.h.18.attn.out_proj.weight', 'lm_head.weight', 'transformer.h.21.mlp.fc_in.bias', 'transformer.h.10.mlp.fc_in.bias', 'transformer.h.15.mlp.fc_in.weight', 'transformer.h.20.mlp.fc_in.weight', 'transformer.h.9.attn.out_proj.weight', 'transformer.h.20.attn.out_proj.weight', 'transformer.h.22.mlp.fc_out.weight', 'transformer.h.25.ln_1.bias', 'transformer.h.4.attn.v_proj.weight', 'transformer.h.4.mlp.fc_in.bias', 'transformer.h.17.mlp.fc_in.weight', 'transformer.h.18.mlp.fc_out.bias', 'transformer.h.20.attn.v_proj.weight', 'transformer.h.19.mlp.fc_out.bias', 'transformer.h.10.mlp.fc_out.bias', 'transformer.h.15.mlp.fc_out.bias', 'transformer.h.21.attn.k_proj.weight', 'transformer.h.25.attn.k_proj.weight', 'transformer.h.16.attn.k_proj.weight', 'transformer.h.5.mlp.fc_out.weight', 'transformer.h.19.mlp.fc_out.weight', 'transformer.h.3.mlp.fc_in.weight', 'transformer.h.11.attn.q_proj.weight', 'transformer.h.2.mlp.fc_in.weight', 'transformer.h.20.mlp.fc_out.bias', 'transformer.h.21.mlp.fc_in.weight', 'transformer.h.18.attn.q_proj.weight', 'transformer.h.6.mlp.fc_out.weight', 'transformer.h.22.mlp.fc_in.weight', 'transformer.h.26.mlp.fc_in.bias', 'transformer.h.12.mlp.fc_out.bias', 'transformer.h.24.attn.k_proj.weight', 'transformer.h.10.mlp.fc_out.weight', 'transformer.h.1.mlp.fc_in.weight', 'transformer.h.9.mlp.fc_in.weight', 'transformer.h.10.attn.q_proj.weight', 'transformer.h.23.attn.q_proj.weight', 'transformer.h.5.attn.q_proj.weight', 'transformer.h.23.mlp.fc_in.bias', 'transformer.h.23.mlp.fc_out.weight', 'transformer.h.7.attn.v_proj.weight', 'transformer.h.13.mlp.fc_in.weight', 'transformer.h.11.attn.k_proj.weight', 'transformer.h.6.attn.q_proj.weight', 'transformer.h.15.attn.out_proj.weight', 'transformer.h.22.attn.k_proj.weight', 'transformer.h.26.attn.v_proj.weight', 'transformer.h.15.mlp.fc_in.bias', 'transformer.h.11.mlp.fc_in.bias', 'transformer.h.25.mlp.fc_in.weight', 'transformer.h.14.attn.v_proj.weight', 'transformer.h.0.attn.v_proj.weight', 'transformer.h.25.attn.out_proj.weight', 'transformer.h.1.mlp.fc_in.bias', 'transformer.h.13.attn.out_proj.weight', 'transformer.h.7.mlp.fc_in.bias', 'transformer.h.24.ln_1.bias', 'transformer.h.22.attn.out_proj.weight', 'transformer.h.11.attn.v_proj.weight', 'transformer.h.22.mlp.fc_in.bias', 'transformer.h.17.attn.k_proj.weight', 'transformer.h.26.ln_1.weight', 'transformer.h.7.mlp.fc_in.weight', 'transformer.h.24.mlp.fc_out.bias', 'transformer.h.13.attn.k_proj.weight', 'transformer.h.2.mlp.fc_out.bias', 'transformer.h.21.attn.out_proj.weight', 'transformer.h.26.ln_1.bias', 'transformer.h.5.mlp.fc_in.weight', 'transformer.h.27.attn.out_proj.weight', 'transformer.h.25.ln_1.weight', 'transformer.h.24.attn.out_proj.weight', 'transformer.h.19.attn.out_proj.weight', 'transformer.h.21.attn.v_proj.weight', 'transformer.h.26.attn.q_proj.weight', 'transformer.h.3.attn.k_proj.weight', 'transformer.h.16.attn.v_proj.weight', 'transformer.h.24.attn.v_proj.weight', 'transformer.h.1.attn.out_proj.weight', 'transformer.h.0.attn.out_proj.weight', 'transformer.h.9.mlp.fc_out.weight', 'transformer.h.14.attn.k_proj.weight', 'transformer.h.3.mlp.fc_in.bias', 'transformer.h.1.attn.q_proj.weight', 'transformer.h.16.mlp.fc_out.weight', 'transformer.h.26.mlp.fc_out.weight', 'transformer.h.10.mlp.fc_in.weight', 'transformer.h.1.attn.v_proj.weight', 'transformer.h.17.mlp.fc_out.bias', 'transformer.h.22.attn.v_proj.weight', 'transformer.h.22.mlp.fc_out.bias', 'transformer.h.20.mlp.fc_in.bias', 'transformer.h.18.mlp.fc_out.weight', 'transformer.h.13.attn.q_proj.weight', 'transformer.h.25.mlp.fc_in.bias', 'transformer.h.12.attn.v_proj.weight', 'transformer.h.7.attn.k_proj.weight', 'transformer.h.24.mlp.fc_in.bias', 'transformer.h.15.attn.q_proj.weight', 'transformer.h.14.mlp.fc_in.bias', 'transformer.h.7.mlp.fc_out.weight', 'transformer.h.19.mlp.fc_in.bias', 'transformer.h.0.mlp.fc_out.weight', 'transformer.h.17.attn.q_proj.weight', 'transformer.h.8.mlp.fc_in.weight', 'transformer.h.6.attn.v_proj.weight', 'transformer.h.7.mlp.fc_out.bias', 'transformer.h.12.attn.q_proj.weight', 'transformer.h.2.attn.q_proj.weight', 'transformer.h.27.ln_1.bias', 'transformer.h.3.attn.v_proj.weight', 'transformer.h.16.mlp.fc_in.bias', 'transformer.h.19.attn.v_proj.weight', 'lm_head.bias', 'transformer.h.14.attn.q_proj.weight', 'transformer.h.25.mlp.fc_out.bias', 'transformer.h.4.mlp.fc_out.weight', 'transformer.h.8.attn.q_proj.weight', 'transformer.h.4.attn.out_proj.weight', 'transformer.h.4.mlp.fc_out.bias', 'transformer.h.13.mlp.fc_in.bias', 'transformer.h.2.attn.k_proj.weight', 'transformer.h.26.attn.out_proj.weight', 'transformer.h.17.mlp.fc_in.bias', 'transformer.h.5.attn.v_proj.weight', 'transformer.h.14.attn.out_proj.weight', 'transformer.h.5.attn.k_proj.weight', 'transformer.h.23.attn.out_proj.weight', 'transformer.h.8.attn.k_proj.weight', 'transformer.h.10.attn.v_proj.weight', 'transformer.h.14.mlp.fc_out.weight', 'transformer.h.2.mlp.fc_in.bias', 'transformer.h.16.attn.out_proj.weight', 'transformer.h.21.mlp.fc_out.bias', 'transformer.h.7.attn.out_proj.weight', 'transformer.h.19.mlp.fc_in.weight', 'transformer.h.14.mlp.fc_out.bias', 'transformer.h.12.attn.k_proj.weight', 'transformer.h.27.attn.v_proj.weight', 'transformer.h.0.mlp.fc_out.bias', 'transformer.h.11.mlp.fc_in.weight', 'transformer.h.9.attn.v_proj.weight', 'transformer.h.13.mlp.fc_out.bias', 'transformer.h.11.attn.out_proj.weight', 'transformer.h.18.attn.v_proj.weight', 'transformer.h.5.mlp.fc_out.bias', 'transformer.h.23.mlp.fc_in.weight', 'transformer.h.12.mlp.fc_in.weight', 'transformer.h.23.attn.k_proj.weight', 'transformer.h.5.attn.out_proj.weight', 'transformer.h.9.mlp.fc_out.bias', 'transformer.h.6.attn.k_proj.weight', 'transformer.h.15.attn.k_proj.weight', 'transformer.h.27.mlp.fc_out.weight', 'transformer.h.8.mlp.fc_out.weight', 'transformer.h.20.attn.q_proj.weight', 'transformer.h.3.attn.out_proj.weight', 'transformer.h.8.attn.v_proj.weight', 'transformer.h.12.mlp.fc_in.bias', 'transformer.h.25.attn.v_proj.weight', 'transformer.h.9.attn.k_proj.weight', 'transformer.h.8.mlp.fc_in.bias', 'transformer.h.20.attn.k_proj.weight', 'transformer.h.21.mlp.fc_out.weight', 'transformer.h.25.attn.q_proj.weight', 'transformer.h.1.mlp.fc_out.weight', 'transformer.h.6.mlp.fc_in.bias', 'transformer.h.10.attn.out_proj.weight', 'transformer.h.13.attn.v_proj.weight', 'transformer.h.6.mlp.fc_out.bias', 'transformer.h.8.attn.out_proj.weight', 'transformer.h.24.attn.q_proj.weight', 'transformer.h.25.mlp.fc_out.weight', 'transformer.h.0.mlp.fc_in.weight', 'transformer.h.11.mlp.fc_out.weight', 'transformer.h.9.attn.q_proj.weight', 'transformer.h.18.mlp.fc_in.bias', 'transformer.h.26.attn.k_proj.weight', 'transformer.h.10.attn.k_proj.weight', 'transformer.h.26.mlp.fc_out.bias', 'transformer.h.27.mlp.fc_in.weight', 'transformer.h.24.ln_1.weight', 'transformer.h.24.mlp.fc_in.weight', 'transformer.h.8.mlp.fc_out.bias', 'transformer.h.16.mlp.fc_out.bias', 'transformer.h.6.mlp.fc_in.weight', 'transformer.h.19.attn.q_proj.weight', 'transformer.h.27.mlp.fc_in.bias', 'transformer.h.15.mlp.fc_out.weight', 'transformer.h.23.attn.v_proj.weight', 'transformer.h.2.attn.out_proj.weight', 'transformer.h.7.attn.q_proj.weight', 'transformer.h.27.attn.q_proj.weight', 'transformer.h.2.mlp.fc_out.weight', 'transformer.h.15.attn.v_proj.weight', 'transformer.h.17.mlp.fc_out.weight', 'transformer.h.13.mlp.fc_out.weight', 'transformer.h.12.mlp.fc_out.weight', 'transformer.h.5.mlp.fc_in.bias', 'transformer.h.27.attn.k_proj.weight', 'transformer.h.20.mlp.fc_out.weight', 'transformer.h.12.attn.out_proj.weight']\n",
      "You should probably TRAIN this model on a down-stream task to be able to use it for predictions and inference.\n"
     ]
    }
   ],
   "source": [
    "teste_trata_reader2.teste_context_reader()"
   ]
  },
  {
   "cell_type": "code",
   "execution_count": 10,
   "metadata": {},
   "outputs": [
    {
     "name": "stdout",
     "output_type": "stream",
     "text": [
      "Reader instanciated. Answering...\n",
      "\n",
      "----------------- Prompt -----------------\n",
      "Instrução: Com base no texto abaixo, responda à pergunta:\n",
      "\n",
      "Texto: Por causa da chuva, o Flamengo, melhor time do Brasil, ficou sem jogar a final da Libertadores. Há muitos torcedores pelo Flamengo, o melhor time, na minha Família. Além da bicicleta, em 1990, eu tinha a honra de ser flamenguista.  Ontem, quando reli os documentos do tribunal, descobri que em 1990 quando tomei posse, minha declaração de bens só continha uma bicicleta.\n",
      "\n",
      "Pergunta: Qual o melhor time do Brasil?\n",
      "Resposta:\n",
      "\n",
      "----------------- Answer -----------------\n",
      "O Flamengo\n"
     ]
    }
   ],
   "source": [
    "teste_trata_reader2.teste_context_reader()\n"
   ]
  },
  {
   "cell_type": "code",
   "execution_count": null,
   "metadata": {},
   "outputs": [],
   "source": []
  },
  {
   "cell_type": "code",
   "execution_count": 8,
   "metadata": {},
   "outputs": [
    {
     "name": "stdout",
     "output_type": "stream",
     "text": [
      "Levantando quantitativo e verificando inconsistências no dataset dev-v1.1-pt.json\n",
      "Totais artigos:48 paragrafos:5644 perguntas:10570 respostas:31168\n",
      "Erros perguntas: repetidas 0\n",
      "Erro respostas fora do texto: 0 fora da posição 0\n"
     ]
    }
   ],
   "source": [
    "squad_related.avaliar_dataset_squad_1_1(squad_dataset_pt)"
   ]
  },
  {
   "cell_type": "code",
   "execution_count": 9,
   "metadata": {},
   "outputs": [
    {
     "name": "stdout",
     "output_type": "stream",
     "text": [
      "Levantando quantitativo e verificando inconsistências no dataset dev-v1.1.json\n",
      "Totais artigos:48 paragrafos:2067 perguntas:10570 respostas:34726\n",
      "Erros perguntas: repetidas 0\n",
      "Erro respostas fora do texto: 0 fora da posição 0\n"
     ]
    }
   ],
   "source": [
    "squad_related.avaliar_dataset_squad_1_1(squad_dataset_en)"
   ]
  },
  {
   "cell_type": "markdown",
   "metadata": {},
   "source": [
    "## Avaliação"
   ]
  },
  {
   "cell_type": "code",
   "execution_count": 10,
   "metadata": {},
   "outputs": [
    {
     "data": {
      "text/plain": [
       "<module 'source.calculation.transfer_learning.squad_evaluate_v1_1' from '/home/borela/fontes/exqa-complearning/source/calculation/transfer_learning/squad_evaluate_v1_1.py'>"
      ]
     },
     "execution_count": 10,
     "metadata": {},
     "output_type": "execute_result"
    }
   ],
   "source": [
    "import importlib\n",
    "importlib.reload(squad_evaluate_v1_1)"
   ]
  },
  {
   "cell_type": "code",
   "execution_count": 11,
   "metadata": {},
   "outputs": [],
   "source": [
    "dict_config = {\"doc_stride\":128,\\\n",
    "               \"top_k\":3, \\\n",
    "               \"max_answer_length\":30, \\\n",
    "               \"handle_impossible_answer\":False}"
   ]
  },
  {
   "cell_type": "code",
   "execution_count": 12,
   "metadata": {},
   "outputs": [
    {
     "name": "stdout",
     "output_type": "stream",
     "text": [
      "Evalating model: {'name': 'models/transfer_learning/distilbert-base-cased-distilled-squad', 'device': 'cuda:0', 'top_k': 3, 'doc_stride': 128, 'handle_impossible_answer': False, 'max_answer_length': 30, 'max_seq_len': 512} in dataset <source.data_related.squad_related.SquadDataset object at 0x7fc356dafc90>\n",
      "parm_list_ground_truths:\n",
      " ['Denver Broncos', 'Denver Broncos', 'Denver Broncos']\n",
      "parm_list_answer:\n",
      " [{'texto_resposta': 'Denver Broncos', 'score': 0.615522, 'lista_referencia': [[177, 191]]}, {'texto_resposta': 'Denver Broncos defeated the National Football Conference (NFC) champion Carolina Panthers', 'score': 0.089786, 'lista_referencia': [[177, 266]]}, {'texto_resposta': 'Carolina Panthers', 'score': 0.03689, 'lista_referencia': [[249, 266]]}]\n",
      "ndx=0 em_at_3:1 f1_at_3:1.0\n",
      "ndx=1 em_at_3:1 f1_at_3:1.0\n",
      "ndx=2 em_at_3:1 f1_at_3:1.0\n",
      "metric_calculated {'EM': 1, 'F1': 1.0, 'EM@3': 1, 'F1@3': 1.0}\n",
      "parm_list_ground_truths:\n",
      " ['Carolina Panthers', 'Carolina Panthers', 'Carolina Panthers']\n",
      "parm_list_answer:\n",
      " [{'texto_resposta': 'Carolina Panthers', 'score': 0.796185, 'lista_referencia': [[249, 266]]}, {'texto_resposta': 'Denver Broncos defeated the National Football Conference (NFC) champion Carolina Panthers', 'score': 0.025574, 'lista_referencia': [[177, 266]]}, {'texto_resposta': 'Denver Broncos', 'score': 0.005427, 'lista_referencia': [[177, 191]]}]\n",
      "ndx=0 em_at_3:1 f1_at_3:1.0\n",
      "ndx=1 em_at_3:1 f1_at_3:1.0\n",
      "ndx=2 em_at_3:1 f1_at_3:1.0\n",
      "metric_calculated {'EM': 1, 'F1': 1.0, 'EM@3': 1, 'F1@3': 1.0}\n",
      "parm_list_ground_truths:\n",
      " ['Santa Clara, California', \"Levi's Stadium\", \"Levi's Stadium in the San Francisco Bay Area at Santa Clara, California.\"]\n",
      "parm_list_answer:\n",
      " [{'texto_resposta': \"Levi's Stadium in the San Francisco Bay Area at Santa Clara, California.\", 'score': 0.361034, 'lista_referencia': [[355, 427]]}, {'texto_resposta': \"Levi's Stadium\", 'score': 0.16509, 'lista_referencia': [[355, 369]]}, {'texto_resposta': \"Levi's Stadium in the San Francisco Bay Area\", 'score': 0.105579, 'lista_referencia': [[355, 399]]}]\n",
      "ndx=0 em_at_3:1 f1_at_3:1.0\n",
      "ndx=1 em_at_3:1 f1_at_3:1.0\n",
      "ndx=2 em_at_3:1 f1_at_3:1.0\n",
      "metric_calculated {'EM': 1, 'F1': 1.0, 'EM@3': 1, 'F1@3': 1.0}\n",
      "parm_list_ground_truths:\n",
      " ['Denver Broncos', 'Denver Broncos', 'Denver Broncos']\n",
      "parm_list_answer:\n",
      " [{'texto_resposta': 'Carolina Panthers', 'score': 0.375918, 'lista_referencia': [[249, 266]]}, {'texto_resposta': 'Denver Broncos defeated the National Football Conference (NFC) champion Carolina Panthers', 'score': 0.187439, 'lista_referencia': [[177, 266]]}, {'texto_resposta': 'Denver Broncos', 'score': 0.142889, 'lista_referencia': [[177, 191]]}]\n",
      "ndx=0 em_at_3:0 f1_at_3:0\n",
      "ndx=1 em_at_3:0 f1_at_3:0.33333333333333337\n",
      "ndx=2 em_at_3:1 f1_at_3:1.0\n",
      "metric_calculated {'EM': 0, 'F1': 0, 'EM@3': 1, 'F1@3': 1.0}\n",
      "parm_list_ground_truths:\n",
      " ['gold', 'gold', 'gold']\n",
      "parm_list_answer:\n",
      " [{'texto_resposta': 'gold-themed', 'score': 0.688987, 'lista_referencia': [[521, 532]]}, {'texto_resposta': '\"golden anniversary\" with various gold-themed', 'score': 0.180457, 'lista_referencia': [[487, 532]]}, {'texto_resposta': '\"golden', 'score': 0.023267, 'lista_referencia': [[487, 494]]}]\n",
      "ndx=0 em_at_3:0 f1_at_3:0\n",
      "ndx=1 em_at_3:0 f1_at_3:0\n",
      "ndx=2 em_at_3:0 f1_at_3:0\n",
      "metric_calculated {'EM': 0, 'F1': 0, 'EM@3': 0, 'F1@3': 0}\n",
      "parm_list_ground_truths:\n",
      " ['\"golden anniversary\"', 'gold-themed', '\"golden anniversary']\n",
      "parm_list_answer:\n",
      " [{'texto_resposta': '\"golden anniversary\"', 'score': 0.40127, 'lista_referencia': [[487, 507]]}, {'texto_resposta': '\"golden anniversary\" with various gold-themed', 'score': 0.148682, 'lista_referencia': [[487, 532]]}, {'texto_resposta': 'the \"golden anniversary\"', 'score': 0.101399, 'lista_referencia': [[483, 507]]}]\n",
      "ndx=0 em_at_3:1 f1_at_3:1.0\n",
      "ndx=1 em_at_3:1 f1_at_3:1.0\n",
      "ndx=2 em_at_3:1 f1_at_3:1.0\n",
      "metric_calculated {'EM': 1, 'F1': 1.0, 'EM@3': 1, 'F1@3': 1.0}\n",
      "parm_list_ground_truths:\n",
      " ['February 7, 2016', 'February 7', 'February 7, 2016']\n",
      "parm_list_answer:\n",
      " [{'texto_resposta': 'February 7, 2016,', 'score': 0.964303, 'lista_referencia': [[334, 351]]}, {'texto_resposta': 'February 7,', 'score': 0.019843, 'lista_referencia': [[334, 345]]}, {'texto_resposta': 'February', 'score': 0.009732, 'lista_referencia': [[334, 342]]}]\n",
      "ndx=0 em_at_3:1 f1_at_3:1.0\n",
      "ndx=1 em_at_3:1 f1_at_3:1.0\n",
      "ndx=2 em_at_3:1 f1_at_3:1.0\n",
      "metric_calculated {'EM': 1, 'F1': 1.0, 'EM@3': 1, 'F1@3': 1.0}\n",
      "parm_list_ground_truths:\n",
      " ['American Football Conference', 'American Football Conference', 'American Football Conference']\n",
      "parm_list_answer:\n",
      " [{'texto_resposta': 'Super Bowl 50 was an American football game to determine the champion of the National Football League (NFL) for the 2015 season. The American Football Conference', 'score': 0.468693, 'lista_referencia': [[0, 161]]}, {'texto_resposta': 'American Football Conference', 'score': 0.203817, 'lista_referencia': [[133, 161]]}, {'texto_resposta': 'American Football Conference (AFC) champion Denver Broncos defeated the National Football Conference', 'score': 0.031459, 'lista_referencia': [[133, 233]]}]\n",
      "ndx=0 em_at_3:0 f1_at_3:0.25\n",
      "ndx=1 em_at_3:1 f1_at_3:1.0\n",
      "ndx=2 em_at_3:1 f1_at_3:1.0\n",
      "metric_calculated {'EM': 0, 'F1': 0.25, 'EM@3': 1, 'F1@3': 1.0}\n",
      "parm_list_ground_truths:\n",
      " ['\"golden anniversary\"', 'gold-themed', 'gold']\n",
      "parm_list_answer:\n",
      " [{'texto_resposta': '\"golden anniversary\"', 'score': 0.40127, 'lista_referencia': [[487, 507]]}, {'texto_resposta': '\"golden anniversary\" with various gold-themed', 'score': 0.148682, 'lista_referencia': [[487, 532]]}, {'texto_resposta': 'the \"golden anniversary\"', 'score': 0.101399, 'lista_referencia': [[483, 507]]}]\n",
      "ndx=0 em_at_3:1 f1_at_3:1.0\n",
      "ndx=1 em_at_3:1 f1_at_3:1.0\n",
      "ndx=2 em_at_3:1 f1_at_3:1.0\n",
      "metric_calculated {'EM': 1, 'F1': 1.0, 'EM@3': 1, 'F1@3': 1.0}\n",
      "parm_list_ground_truths:\n",
      " ['American Football Conference', 'American Football Conference', 'American Football Conference']\n",
      "parm_list_answer:\n",
      " [{'texto_resposta': 'American Football Conference', 'score': 0.577827, 'lista_referencia': [[133, 161]]}, {'texto_resposta': 'American Football Conference (AFC) champion Denver Broncos defeated the National Football Conference', 'score': 0.064135, 'lista_referencia': [[133, 233]]}, {'texto_resposta': 'The American Football Conference', 'score': 0.054337, 'lista_referencia': [[129, 161]]}]\n",
      "ndx=0 em_at_3:1 f1_at_3:1.0\n",
      "ndx=1 em_at_3:1 f1_at_3:1.0\n",
      "ndx=2 em_at_3:1 f1_at_3:1.0\n",
      "metric_calculated {'EM': 1, 'F1': 1.0, 'EM@3': 1, 'F1@3': 1.0}\n"
     ]
    },
    {
     "name": "stderr",
     "output_type": "stream",
     "text": [
      "/home/borela/miniconda3/envs/exqa-complearning/lib/python3.7/site-packages/transformers/pipelines/base.py:1015: UserWarning: You seem to be using the pipelines sequentially on GPU. In order to maximize efficiency please use a dataset\n",
      "  UserWarning,\n"
     ]
    },
    {
     "name": "stdout",
     "output_type": "stream",
     "text": [
      "parm_list_ground_truths:\n",
      " ['February 7, 2016', 'February 7', 'February 7, 2016']\n",
      "parm_list_answer:\n",
      " [{'texto_resposta': 'February 7, 2016,', 'score': 0.96745, 'lista_referencia': [[334, 351]]}, {'texto_resposta': 'February 7,', 'score': 0.018203, 'lista_referencia': [[334, 345]]}, {'texto_resposta': 'February', 'score': 0.007769, 'lista_referencia': [[334, 342]]}]\n",
      "ndx=0 em_at_3:1 f1_at_3:1.0\n",
      "ndx=1 em_at_3:1 f1_at_3:1.0\n",
      "ndx=2 em_at_3:1 f1_at_3:1.0\n",
      "metric_calculated {'EM': 1, 'F1': 1.0, 'EM@3': 1, 'F1@3': 1.0}\n",
      "parm_list_ground_truths:\n",
      " ['Denver Broncos', 'Denver Broncos', 'Denver Broncos']\n",
      "parm_list_answer:\n",
      " [{'texto_resposta': 'Denver Broncos', 'score': 0.555891, 'lista_referencia': [[177, 191]]}, {'texto_resposta': 'Denver Broncos defeated the National Football Conference (NFC) champion Carolina Panthers', 'score': 0.136097, 'lista_referencia': [[177, 266]]}, {'texto_resposta': 'Carolina Panthers', 'score': 0.053574, 'lista_referencia': [[249, 266]]}]\n",
      "ndx=0 em_at_3:1 f1_at_3:1.0\n",
      "ndx=1 em_at_3:1 f1_at_3:1.0\n",
      "ndx=2 em_at_3:1 f1_at_3:1.0\n",
      "metric_calculated {'EM': 1, 'F1': 1.0, 'EM@3': 1, 'F1@3': 1.0}\n",
      "parm_list_ground_truths:\n",
      " [\"Levi's Stadium\", \"Levi's Stadium\", \"Levi's Stadium in the San Francisco Bay Area at Santa Clara\"]\n",
      "parm_list_answer:\n",
      " [{'texto_resposta': \"Levi's Stadium\", 'score': 0.97834, 'lista_referencia': [[355, 369]]}, {'texto_resposta': \"Levi's Stadium in the San Francisco Bay Area\", 'score': 0.009458, 'lista_referencia': [[355, 399]]}, {'texto_resposta': \"Levi's Stadium in the San Francisco Bay Area at Santa Clara, California.\", 'score': 0.004244, 'lista_referencia': [[355, 427]]}]\n",
      "ndx=0 em_at_3:1 f1_at_3:1.0\n",
      "ndx=1 em_at_3:1 f1_at_3:1.0\n",
      "ndx=2 em_at_3:1 f1_at_3:1.0\n",
      "metric_calculated {'EM': 1, 'F1': 1.0, 'EM@3': 1, 'F1@3': 1.0}\n",
      "parm_list_ground_truths:\n",
      " ['Santa Clara', 'Santa Clara', 'Santa Clara']\n",
      "parm_list_answer:\n",
      " [{'texto_resposta': 'Santa Clara, California.', 'score': 0.346756, 'lista_referencia': [[403, 427]]}, {'texto_resposta': 'Santa Clara,', 'score': 0.239949, 'lista_referencia': [[403, 415]]}, {'texto_resposta': 'Denver', 'score': 0.034021, 'lista_referencia': [[177, 183]]}]\n",
      "ndx=0 em_at_3:0 f1_at_3:0.8\n",
      "ndx=1 em_at_3:1 f1_at_3:1.0\n",
      "ndx=2 em_at_3:1 f1_at_3:1.0\n",
      "metric_calculated {'EM': 0, 'F1': 0.8, 'EM@3': 1, 'F1@3': 1.0}\n",
      "parm_list_ground_truths:\n",
      " ['Super Bowl L', 'L', 'Super Bowl L']\n",
      "parm_list_answer:\n",
      " [{'texto_resposta': '\"Super Bowl L\"),', 'score': 0.997621, 'lista_referencia': [[692, 708]]}, {'texto_resposta': '\"Super Bowl', 'score': 0.000465, 'lista_referencia': [[692, 703]]}, {'texto_resposta': 'L\"),', 'score': 0.000404, 'lista_referencia': [[704, 708]]}]\n",
      "ndx=0 em_at_3:1 f1_at_3:1.0\n",
      "ndx=1 em_at_3:1 f1_at_3:1.0\n",
      "ndx=2 em_at_3:1 f1_at_3:1.0\n",
      "metric_calculated {'EM': 1, 'F1': 1.0, 'EM@3': 1, 'F1@3': 1.0}\n",
      "parm_list_ground_truths:\n",
      " ['2015', 'the 2015 season', '2015']\n",
      "parm_list_answer:\n",
      " [{'texto_resposta': '2015', 'score': 0.910131, 'lista_referencia': [[116, 120]]}, {'texto_resposta': '2015 season.', 'score': 0.0495, 'lista_referencia': [[116, 128]]}, {'texto_resposta': 'the 2015', 'score': 0.031764, 'lista_referencia': [[112, 120]]}]\n",
      "ndx=0 em_at_3:1 f1_at_3:1.0\n",
      "ndx=1 em_at_3:1 f1_at_3:1.0\n",
      "ndx=2 em_at_3:1 f1_at_3:1.0\n",
      "metric_calculated {'EM': 1, 'F1': 1.0, 'EM@3': 1, 'F1@3': 1.0}\n",
      "parm_list_ground_truths:\n",
      " ['2015', '2016', '2015']\n",
      "parm_list_answer:\n",
      " [{'texto_resposta': '2016,', 'score': 0.850524, 'lista_referencia': [[346, 351]]}, {'texto_resposta': '2015', 'score': 0.005715, 'lista_referencia': [[116, 120]]}, {'texto_resposta': 'February 7, 2016,', 'score': 7.2e-05, 'lista_referencia': [[334, 351]]}]\n",
      "ndx=0 em_at_3:1 f1_at_3:1.0\n",
      "ndx=1 em_at_3:1 f1_at_3:1.0\n",
      "ndx=2 em_at_3:1 f1_at_3:1.0\n",
      "metric_calculated {'EM': 1, 'F1': 1.0, 'EM@3': 1, 'F1@3': 1.0}\n",
      "parm_list_ground_truths:\n",
      " ['Santa Clara', 'Santa Clara', 'Santa Clara']\n",
      "parm_list_answer:\n",
      " [{'texto_resposta': 'Santa Clara, California.', 'score': 0.346756, 'lista_referencia': [[403, 427]]}, {'texto_resposta': 'Santa Clara,', 'score': 0.239949, 'lista_referencia': [[403, 415]]}, {'texto_resposta': 'Denver', 'score': 0.034021, 'lista_referencia': [[177, 183]]}]\n",
      "ndx=0 em_at_3:0 f1_at_3:0.8\n",
      "ndx=1 em_at_3:1 f1_at_3:1.0\n",
      "ndx=2 em_at_3:1 f1_at_3:1.0\n",
      "metric_calculated {'EM': 0, 'F1': 0.8, 'EM@3': 1, 'F1@3': 1.0}\n",
      "parm_list_ground_truths:\n",
      " [\"Levi's Stadium\", \"Levi's Stadium\", \"Levi's Stadium\"]\n",
      "parm_list_answer:\n",
      " [{'texto_resposta': \"Levi's Stadium\", 'score': 0.988194, 'lista_referencia': [[355, 369]]}, {'texto_resposta': \"Levi's\", 'score': 0.008327, 'lista_referencia': [[355, 361]]}, {'texto_resposta': \"Levi's Stadium in the San Francisco Bay Area at Santa Clara, California.\", 'score': 0.001175, 'lista_referencia': [[355, 427]]}]\n",
      "ndx=0 em_at_3:1 f1_at_3:1.0\n",
      "ndx=1 em_at_3:1 f1_at_3:1.0\n",
      "ndx=2 em_at_3:1 f1_at_3:1.0\n",
      "metric_calculated {'EM': 1, 'F1': 1.0, 'EM@3': 1, 'F1@3': 1.0}\n",
      "parm_list_ground_truths:\n",
      " ['24–10', '24–10', '24–10']\n",
      "parm_list_answer:\n",
      " [{'texto_resposta': '24–10', 'score': 0.597245, 'lista_referencia': [[267, 272]]}, {'texto_resposta': '24–10 to earn their third', 'score': 0.067264, 'lista_referencia': [[267, 292]]}, {'texto_resposta': '24–10 to earn their third Super Bowl title.', 'score': 0.027056, 'lista_referencia': [[267, 310]]}]\n",
      "ndx=0 em_at_3:1 f1_at_3:1.0\n",
      "ndx=1 em_at_3:1 f1_at_3:1.0\n",
      "ndx=2 em_at_3:1 f1_at_3:1.0\n",
      "metric_calculated {'EM': 1, 'F1': 1.0, 'EM@3': 1, 'F1@3': 1.0}\n",
      "parm_list_ground_truths:\n",
      " ['February 7, 2016', 'February 7, 2016', 'February 7, 2016']\n",
      "parm_list_answer:\n",
      " [{'texto_resposta': 'February 7, 2016,', 'score': 0.502879, 'lista_referencia': [[334, 351]]}, {'texto_resposta': 'February', 'score': 0.036574, 'lista_referencia': [[334, 342]]}, {'texto_resposta': '2015', 'score': 0.019409, 'lista_referencia': [[116, 120]]}]\n",
      "ndx=0 em_at_3:1 f1_at_3:1.0\n",
      "ndx=1 em_at_3:1 f1_at_3:1.0\n",
      "ndx=2 em_at_3:1 f1_at_3:1.0\n",
      "metric_calculated {'EM': 1, 'F1': 1.0, 'EM@3': 1, 'F1@3': 1.0}\n",
      "parm_list_ground_truths:\n",
      " ['2015', '2016', '2016']\n",
      "parm_list_answer:\n",
      " [{'texto_resposta': '2015', 'score': 0.964922, 'lista_referencia': [[116, 120]]}, {'texto_resposta': '2015 season.', 'score': 0.010854, 'lista_referencia': [[116, 128]]}, {'texto_resposta': 'the 2015', 'score': 0.007927, 'lista_referencia': [[112, 120]]}]\n",
      "ndx=0 em_at_3:1 f1_at_3:1.0\n",
      "ndx=1 em_at_3:1 f1_at_3:1.0\n",
      "ndx=2 em_at_3:1 f1_at_3:1.0\n",
      "metric_calculated {'EM': 1, 'F1': 1.0, 'EM@3': 1, 'F1@3': 1.0}\n",
      "parm_list_ground_truths:\n",
      " ['Denver Broncos', 'Denver Broncos', 'Denver Broncos']\n",
      "parm_list_answer:\n",
      " [{'texto_resposta': 'Denver Broncos', 'score': 0.498455, 'lista_referencia': [[177, 191]]}, {'texto_resposta': 'Denver Broncos defeated the National Football Conference (NFC) champion Carolina Panthers', 'score': 0.10842, 'lista_referencia': [[177, 266]]}, {'texto_resposta': 'Carolina Panthers', 'score': 0.069663, 'lista_referencia': [[249, 266]]}]\n",
      "ndx=0 em_at_3:1 f1_at_3:1.0\n",
      "ndx=1 em_at_3:1 f1_at_3:1.0\n",
      "ndx=2 em_at_3:1 f1_at_3:1.0\n",
      "metric_calculated {'EM': 1, 'F1': 1.0, 'EM@3': 1, 'F1@3': 1.0}\n",
      "parm_list_ground_truths:\n",
      " ['Carolina Panthers', 'Carolina Panthers', 'Carolina Panthers']\n",
      "parm_list_answer:\n",
      " [{'texto_resposta': 'Carolina Panthers', 'score': 0.889189, 'lista_referencia': [[249, 266]]}, {'texto_resposta': 'Denver Broncos defeated the National Football Conference (NFC) champion Carolina Panthers', 'score': 0.017836, 'lista_referencia': [[177, 266]]}, {'texto_resposta': 'Denver Broncos', 'score': 0.001787, 'lista_referencia': [[177, 191]]}]\n",
      "ndx=0 em_at_3:1 f1_at_3:1.0\n",
      "ndx=1 em_at_3:1 f1_at_3:1.0\n",
      "ndx=2 em_at_3:1 f1_at_3:1.0\n",
      "metric_calculated {'EM': 1, 'F1': 1.0, 'EM@3': 1, 'F1@3': 1.0}\n",
      "parm_list_ground_truths:\n",
      " ['Denver Broncos', 'Denver Broncos', 'Denver Broncos']\n",
      "parm_list_answer:\n",
      " [{'texto_resposta': 'Denver Broncos', 'score': 0.555891, 'lista_referencia': [[177, 191]]}, {'texto_resposta': 'Denver Broncos defeated the National Football Conference (NFC) champion Carolina Panthers', 'score': 0.136097, 'lista_referencia': [[177, 266]]}, {'texto_resposta': 'Carolina Panthers', 'score': 0.053574, 'lista_referencia': [[249, 266]]}]\n",
      "ndx=0 em_at_3:1 f1_at_3:1.0\n",
      "ndx=1 em_at_3:1 f1_at_3:1.0\n",
      "ndx=2 em_at_3:1 f1_at_3:1.0\n",
      "metric_calculated {'EM': 1, 'F1': 1.0, 'EM@3': 1, 'F1@3': 1.0}\n",
      "parm_list_ground_truths:\n",
      " ['2015', 'the 2015 season', '2015']\n",
      "parm_list_answer:\n",
      " [{'texto_resposta': '2015', 'score': 0.904823, 'lista_referencia': [[116, 120]]}, {'texto_resposta': '2015 season.', 'score': 0.053059, 'lista_referencia': [[116, 128]]}, {'texto_resposta': 'the 2015', 'score': 0.033395, 'lista_referencia': [[112, 120]]}]\n",
      "ndx=0 em_at_3:1 f1_at_3:1.0\n",
      "ndx=1 em_at_3:1 f1_at_3:1.0\n",
      "ndx=2 em_at_3:1 f1_at_3:1.0\n",
      "metric_calculated {'EM': 1, 'F1': 1.0, 'EM@3': 1, 'F1@3': 1.0}\n",
      "parm_list_ground_truths:\n",
      " ['Denver Broncos', 'Denver Broncos', 'Denver Broncos']\n",
      "parm_list_answer:\n",
      " [{'texto_resposta': 'Carolina Panthers', 'score': 0.455689, 'lista_referencia': [[249, 266]]}, {'texto_resposta': 'Denver Broncos defeated the National Football Conference (NFC) champion Carolina Panthers', 'score': 0.160547, 'lista_referencia': [[177, 266]]}, {'texto_resposta': 'Denver Broncos', 'score': 0.091175, 'lista_referencia': [[177, 191]]}]\n",
      "ndx=0 em_at_3:0 f1_at_3:0\n",
      "ndx=1 em_at_3:0 f1_at_3:0.33333333333333337\n",
      "ndx=2 em_at_3:1 f1_at_3:1.0\n",
      "metric_calculated {'EM': 0, 'F1': 0, 'EM@3': 1, 'F1@3': 1.0}\n",
      "parm_list_ground_truths:\n",
      " ['Santa Clara, California.', \"Levi's Stadium\", \"Levi's Stadium\"]\n",
      "parm_list_answer:\n",
      " [{'texto_resposta': \"Levi's Stadium\", 'score': 0.405422, 'lista_referencia': [[355, 369]]}, {'texto_resposta': \"Levi's Stadium in the San Francisco Bay Area at Santa Clara, California.\", 'score': 0.254049, 'lista_referencia': [[355, 427]]}, {'texto_resposta': \"Levi's Stadium in the San Francisco Bay Area\", 'score': 0.115696, 'lista_referencia': [[355, 399]]}]\n",
      "ndx=0 em_at_3:1 f1_at_3:1.0\n",
      "ndx=1 em_at_3:1 f1_at_3:1.0\n",
      "ndx=2 em_at_3:1 f1_at_3:1.0\n",
      "metric_calculated {'EM': 1, 'F1': 1.0, 'EM@3': 1, 'F1@3': 1.0}\n",
      "parm_list_ground_truths:\n",
      " ['Super Bowl', 'Super Bowl', 'Super Bowl']\n",
      "parm_list_answer:\n",
      " [{'texto_resposta': 'Super Bowl 50', 'score': 0.978786, 'lista_referencia': [[0, 13]]}, {'texto_resposta': 'Super Bowl', 'score': 0.009482, 'lista_referencia': [[0, 10]]}, {'texto_resposta': '50', 'score': 0.004495, 'lista_referencia': [[11, 13]]}]\n",
      "ndx=0 em_at_3:0 f1_at_3:0.8\n",
      "ndx=1 em_at_3:1 f1_at_3:1.0\n",
      "ndx=2 em_at_3:1 f1_at_3:1.0\n",
      "metric_calculated {'EM': 0, 'F1': 0.8, 'EM@3': 1, 'F1@3': 1.0}\n",
      "parm_list_ground_truths:\n",
      " ['Denver Broncos', 'Denver Broncos', 'Denver Broncos']\n",
      "parm_list_answer:\n",
      " [{'texto_resposta': 'Denver Broncos', 'score': 0.410807, 'lista_referencia': [[177, 191]]}, {'texto_resposta': 'Denver Broncos defeated the National Football Conference (NFC) champion Carolina Panthers', 'score': 0.170433, 'lista_referencia': [[177, 266]]}, {'texto_resposta': 'Carolina Panthers', 'score': 0.120811, 'lista_referencia': [[249, 266]]}]\n",
      "ndx=0 em_at_3:1 f1_at_3:1.0\n",
      "ndx=1 em_at_3:1 f1_at_3:1.0\n",
      "ndx=2 em_at_3:1 f1_at_3:1.0\n",
      "metric_calculated {'EM': 1, 'F1': 1.0, 'EM@3': 1, 'F1@3': 1.0}\n",
      "{'EM': 76.67, 'F1': 85.5, 'EM@3': 96.67, 'F1@3': 96.67, 'num_questions': 30, 'duration total': 6.0, 'duration per question': 20.0}\n",
      "{'EM': 76.67, 'F1': 85.5, 'EM@3': 96.67, 'F1@3': 96.67, 'num_questions': 30, 'duration total': 6.0, 'duration per question': 20.0}\n"
     ]
    }
   ],
   "source": [
    "resultado_en = squad_evaluate_v1_1.evaluate_transfer(parm_dataset=squad_dataset_en, parm_dict_config=dict_config)\n",
    "print(resultado_en)"
   ]
  },
  {
   "cell_type": "code",
   "execution_count": null,
   "metadata": {},
   "outputs": [],
   "source": [
    "raise Exception(f\"Cells bellow can not be executed. It is just for history reasons.\")"
   ]
  },
  {
   "cell_type": "markdown",
   "metadata": {},
   "source": [
    "## Outas execuções"
   ]
  },
  {
   "cell_type": "code",
   "execution_count": 10,
   "metadata": {},
   "outputs": [
    {
     "name": "stdout",
     "output_type": "stream",
     "text": [
      "{'doc_stride': 128, 'handle_impossible_answer': False, 'max_answer_length': 30, 'max_seq_len': 512}\n"
     ]
    },
    {
     "name": "stderr",
     "output_type": "stream",
     "text": [
      "/home/borela/miniconda3/envs/exqa-complearning/lib/python3.7/site-packages/transformers/pipelines/base.py:1015: UserWarning: You seem to be using the pipelines sequentially on GPU. In order to maximize efficiency please use a dataset\n",
      "  UserWarning,\n"
     ]
    },
    {
     "name": "stdout",
     "output_type": "stream",
     "text": [
      "{'exact_match': 72.403, 'f1': 83.2874, 'duration total': 2794.6071, 'duration per question': 0.2644}\n",
      "{'exact_match': 72.403, 'f1': 83.2874, 'duration total': 2794.6071, 'duration per question': 0.2644}\n"
     ]
    }
   ],
   "source": [
    "resultado_pt = squad_evaluate_v1_1.evaluate_transfer(squad_dataset_pt)\n",
    "print(resultado_pt)"
   ]
  },
  {
   "cell_type": "code",
   "execution_count": 11,
   "metadata": {},
   "outputs": [
    {
     "name": "stdout",
     "output_type": "stream",
     "text": [
      "{'doc_stride': 128, 'handle_impossible_answer': False, 'max_answer_length': 30, 'max_seq_len': 512}\n",
      "{'exact_match': 78.3822, 'f1': 85.971, 'duration total': 2462.6602, 'duration per question': 0.233}\n",
      "{'exact_match': 78.3822, 'f1': 85.971, 'duration total': 2462.6602, 'duration per question': 0.233}\n"
     ]
    }
   ],
   "source": [
    "resultado_en = squad_evaluate_v1_1.evaluate_transfer(squad_dataset_en)\n",
    "print(resultado_en)"
   ]
  },
  {
   "cell_type": "markdown",
   "metadata": {},
   "source": [
    " self.doc_stride = 30\n",
    " \n",
    " tamanho_max_resposta = 40\n",
    " \n",
    " self.handle_impossible_answer = False"
   ]
  },
  {
   "cell_type": "code",
   "execution_count": null,
   "metadata": {},
   "outputs": [
    {
     "name": "stderr",
     "output_type": "stream",
     "text": [
      "/home/borela/miniconda3/envs/relevar-busca/lib/python3.7/site-packages/transformers/pipelines/base.py:1015: UserWarning: You seem to be using the pipelines sequentially on GPU. In order to maximize efficiency please use a dataset\n",
      "  UserWarning,\n"
     ]
    },
    {
     "name": "stdout",
     "output_type": "stream",
     "text": [
      "{'exact_match': 78.3349, 'f1': 85.9158, 'duration': 2368.3389, 'questions': 10570}\n"
     ]
    }
   ],
   "source": [
    "resultado_en = squad_evaluate_v1_1.evaluate_transfer(squad_dataset_en)\n",
    "print(resultado_en)"
   ]
  },
  {
   "cell_type": "code",
   "execution_count": null,
   "metadata": {},
   "outputs": [
    {
     "name": "stdout",
     "output_type": "stream",
     "text": [
      "{'exact_match': 72.3936, 'f1': 83.2695, 'duration': 2694.1018, 'questions': 10570}\n"
     ]
    }
   ],
   "source": [
    "resultado_pt = squad_evaluate_v1_1.evaluate_transfer(squad_dataset_pt)\n",
    "print(resultado_pt)"
   ]
  }
 ],
 "metadata": {
  "interpreter": {
   "hash": "16b3c0ce748aace455bf65b029a476256c8ff6ef00bd218fbe4819ff37ebf33a"
  },
  "kernelspec": {
   "display_name": "Python 3.7.13 ('exqa-complearning')",
   "language": "python",
   "name": "python3"
  },
  "language_info": {
   "codemirror_mode": {
    "name": "ipython",
    "version": 3
   },
   "file_extension": ".py",
   "mimetype": "text/x-python",
   "name": "python",
   "nbconvert_exporter": "python",
   "pygments_lexer": "ipython3",
   "version": "3.7.13"
  },
  "orig_nbformat": 4,
  "vscode": {
   "interpreter": {
    "hash": "5184730958793e1dccf3f74528df7bd8b01cfba5fc8480fa69f8e22885c01e0d"
   }
  }
 },
 "nbformat": 4,
 "nbformat_minor": 2
}
