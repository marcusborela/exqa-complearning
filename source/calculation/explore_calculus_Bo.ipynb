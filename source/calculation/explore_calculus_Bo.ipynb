{
 "cells": [
  {
   "cell_type": "code",
   "execution_count": 1,
   "metadata": {},
   "outputs": [],
   "source": [
    "import os\n",
    "import sys\n",
    "sys.path.append(os.path.abspath('.'))\n",
    "sys.path.append(os.path.abspath(r'./.'))"
   ]
  },
  {
   "cell_type": "code",
   "execution_count": 2,
   "metadata": {},
   "outputs": [
    {
     "name": "stderr",
     "output_type": "stream",
     "text": [
      "/home/borela/miniconda3/envs/exqa-complearning/lib/python3.7/site-packages/tqdm/auto.py:22: TqdmWarning: IProgress not found. Please update jupyter and ipywidgets. See https://ipywidgets.readthedocs.io/en/stable/user_install.html\n",
      "  from .autonotebook import tqdm as notebook_tqdm\n"
     ]
    }
   ],
   "source": [
    "import torch\n"
   ]
  },
  {
   "cell_type": "code",
   "execution_count": 3,
   "metadata": {},
   "outputs": [],
   "source": [
    "torch.cuda.empty_cache()"
   ]
  },
  {
   "cell_type": "code",
   "execution_count": 4,
   "metadata": {},
   "outputs": [
    {
     "data": {
      "text/plain": [
       "'/home/borela/fontes/exqa-complearning/source/calculation'"
      ]
     },
     "execution_count": 4,
     "metadata": {},
     "output_type": "execute_result"
    }
   ],
   "source": [
    "%pwd"
   ]
  },
  {
   "cell_type": "code",
   "execution_count": 5,
   "metadata": {},
   "outputs": [
    {
     "name": "stdout",
     "output_type": "stream",
     "text": [
      "/home/borela/fontes/exqa-complearning\n"
     ]
    }
   ],
   "source": [
    "%cd ../.."
   ]
  },
  {
   "cell_type": "code",
   "execution_count": 6,
   "metadata": {},
   "outputs": [],
   "source": [
    "# from source.calculation.context_learning.prompt_format import dict_prompt_format    "
   ]
  },
  {
   "cell_type": "code",
   "execution_count": 7,
   "metadata": {},
   "outputs": [],
   "source": [
    "from source.calculation.context_learning import trata_reader_pipe"
   ]
  },
  {
   "cell_type": "code",
   "execution_count": 8,
   "metadata": {},
   "outputs": [],
   "source": [
    "texto_pergunta = 'Qual o melhor time do Brasil?'\n",
    "texto_contexto = 'Por causa da chuva, o Flamengo, melhor time do Brasil, ficou sem jogar a final da Libertadores. Há muitos torcedores pelo Flamengo, o melhor time, na minha Família. Além da bicicleta, em 1990, eu tinha a honra de ser flamenguista.  Ontem, quando reli os documentos do tribunal, descobri que em 1990 quando tomei posse, minha declaração de bens só continha uma bicicleta.'"
   ]
  },
  {
   "cell_type": "code",
   "execution_count": 9,
   "metadata": {},
   "outputs": [],
   "source": [
    "dict_config = {\n",
    "                # parâmetros complementares\n",
    "                \"learning_method\":'context',                \n",
    "                \"num_top_k\": 3,\n",
    "                \"num_max_answer_length\":200,\n",
    "                # parâmetros transfer # deixar branco                \n",
    "                \"num_doc_stride\": \"\",\n",
    "                \"num_factor_multiply_top_k\": \"\",\n",
    "                \"if_handle_impossible_answer\": \"\",\n",
    "                # parâmetros context\n",
    "                'list_stop_words': ['.', '\\n', '\\n','!'],\n",
    "                'cod_prompt_format': 1.,\n",
    "                'if_do_sample': False,\n",
    "                \"val_length_penalty\":0.,                    \n",
    "                'val_temperature': 0.1,\n",
    "}"
   ]
  },
  {
   "cell_type": "code",
   "execution_count": 10,
   "metadata": {},
   "outputs": [],
   "source": [
    "from source.calculation import squad_evaluate_v1_1"
   ]
  },
  {
   "cell_type": "code",
   "execution_count": 11,
   "metadata": {},
   "outputs": [],
   "source": [
    "from source.data_related import squad_related"
   ]
  },
  {
   "cell_type": "code",
   "execution_count": 12,
   "metadata": {},
   "outputs": [
    {
     "name": "stderr",
     "output_type": "stream",
     "text": [
      "Using custom data configuration default-61eba6f0d4a86c5d\n",
      "Reusing dataset json (/home/borela/.cache/huggingface/datasets/json/default-61eba6f0d4a86c5d/0.0.0/da492aad5680612e4028e7f6ddc04b1dfcec4b64db470ed7cc5f2bb265b9b6b5)\n",
      "100%|██████████| 1/1 [00:00<00:00, 449.50it/s]\n"
     ]
    }
   ],
   "source": [
    "squad_dataset =squad_related.load_squad_dataset_1_1('pt')"
   ]
  },
  {
   "cell_type": "code",
   "execution_count": 28,
   "metadata": {},
   "outputs": [
    {
     "data": {
      "text/plain": [
       "<module 'source.calculation.squad_evaluate_v1_1' from '/home/borela/fontes/exqa-complearning/source/calculation/squad_evaluate_v1_1.py'>"
      ]
     },
     "execution_count": 28,
     "metadata": {},
     "output_type": "execute_result"
    }
   ],
   "source": [
    "## Avaliação\n",
    "import importlib\n",
    "importlib.reload(squad_evaluate_v1_1)\n"
   ]
  },
  {
   "cell_type": "code",
   "execution_count": 14,
   "metadata": {},
   "outputs": [
    {
     "data": {
      "text/plain": [
       "<module 'source.calculation.context_learning.trata_reader_pipe' from '/home/borela/fontes/exqa-complearning/source/calculation/context_learning/trata_reader_pipe.py'>"
      ]
     },
     "execution_count": 14,
     "metadata": {},
     "output_type": "execute_result"
    }
   ],
   "source": [
    "import importlib\n",
    "importlib.reload(trata_reader_pipe)"
   ]
  },
  {
   "cell_type": "code",
   "execution_count": 15,
   "metadata": {},
   "outputs": [
    {
     "data": {
      "text/plain": [
       "{'learning_method': 'context',\n",
       " 'num_top_k': 3,\n",
       " 'num_max_answer_length': 200,\n",
       " 'num_doc_stride': '',\n",
       " 'num_factor_multiply_top_k': '',\n",
       " 'if_handle_impossible_answer': '',\n",
       " 'list_stop_words': ['.', '\\n', '\\n', '!'],\n",
       " 'cod_prompt_format': 1.0,\n",
       " 'if_do_sample': False,\n",
       " 'val_length_penalty': 0.0,\n",
       " 'val_temperature': 0.1}"
      ]
     },
     "execution_count": 15,
     "metadata": {},
     "output_type": "execute_result"
    }
   ],
   "source": [
    "dict_config"
   ]
  },
  {
   "cell_type": "code",
   "execution_count": 16,
   "metadata": {},
   "outputs": [
    {
     "name": "stdout",
     "output_type": "stream",
     "text": [
      "reader.info()\n",
      " {'name': 'EleutherAI/gpt-j-6B', 'device': 'cuda:0', 'top_k': 3, 'cod_prompt_format': 1, 'if_do_sample': False, 'val_temperature': 0.1, 'list_stop_words': ['.', '\\n', '\\n', '!'], 'val_length_penalty': 0.0, 'length_penalty': 0.0, 'doc_stride': '', 'factor_multiply_top_k': '', 'handle_impossible_answer': '', 'max_answer_length': 200, 'max_seq_len': 2048}\n"
     ]
    }
   ],
   "source": [
    "name_model = \"EleutherAI/gpt-j-6B\"\n",
    "reader = trata_reader_pipe.Reader(name_model, dict_config)\n",
    "print(f\"reader.info()\\n {reader.info}\")"
   ]
  },
  {
   "cell_type": "code",
   "execution_count": 17,
   "metadata": {},
   "outputs": [
    {
     "name": "stderr",
     "output_type": "stream",
     "text": [
      "The attention mask and the pad token id were not set. As a consequence, you may observe unexpected behavior. Please pass your input's `attention_mask` to obtain reliable results.\n",
      "Setting `pad_token_id` to `eos_token_id`:50256 for open-end generation.\n"
     ]
    }
   ],
   "source": [
    "response = reader.answer_one_question(texto_pergunta, texto_contexto)"
   ]
  },
  {
   "cell_type": "code",
   "execution_count": 18,
   "metadata": {},
   "outputs": [
    {
     "data": {
      "text/plain": [
       "[{'texto_resposta': ' Flamengo\\n\\n'},\n",
       " {'texto_resposta': ' O Flamengo.'},\n",
       " {'texto_resposta': ' Flamengo.\\n'}]"
      ]
     },
     "execution_count": 18,
     "metadata": {},
     "output_type": "execute_result"
    }
   ],
   "source": [
    "response"
   ]
  },
  {
   "cell_type": "code",
   "execution_count": 29,
   "metadata": {},
   "outputs": [],
   "source": [
    "dict_config_eval = {\"num_question_max\":2}"
   ]
  },
  {
   "cell_type": "code",
   "execution_count": 30,
   "metadata": {},
   "outputs": [
    {
     "name": "stderr",
     "output_type": "stream",
     "text": [
      "/home/borela/miniconda3/envs/exqa-complearning/lib/python3.7/site-packages/transformers/pipelines/base.py:1015: UserWarning: You seem to be using the pipelines sequentially on GPU. In order to maximize efficiency please use a dataset\n",
      "  UserWarning,\n",
      "The attention mask and the pad token id were not set. As a consequence, you may observe unexpected behavior. Please pass your input's `attention_mask` to obtain reliable results.\n",
      "Setting `pad_token_id` to `eos_token_id`:50256 for open-end generation.\n"
     ]
    },
    {
     "name": "stdout",
     "output_type": "stream",
     "text": [
      "Evalating in dataset squad-dev-v1.1-pt model \n",
      "{'name': 'EleutherAI/gpt-j-6B', 'device': 'cuda:0', 'top_k': 3, 'cod_prompt_format': 1, 'if_do_sample': False, 'val_temperature': 0.1, 'list_stop_words': ['.', '\\n', '\\n', '!'], 'val_length_penalty': 0.0, 'length_penalty': 0.0, 'doc_stride': '', 'factor_multiply_top_k': '', 'handle_impossible_answer': '', 'max_answer_length': 200, 'max_seq_len': 2048} \n",
      "Evalating in dataset squad-dev-v1.1-pt model \n",
      "{'name': 'EleutherAI/gpt-j-6B', 'device': 'cuda:0', 'top_k': 3, 'cod_prompt_format': 1, 'if_do_sample': False, 'val_temperature': 0.1, 'list_stop_words': ['.', '\\n', '\\n', '!'], 'val_length_penalty': 0.0, 'length_penalty': 0.0, 'doc_stride': '', 'factor_multiply_top_k': '', 'handle_impossible_answer': '', 'max_answer_length': 200, 'max_seq_len': 2048} \n"
     ]
    },
    {
     "name": "stderr",
     "output_type": "stream",
     "text": [
      "The attention mask and the pad token id were not set. As a consequence, you may observe unexpected behavior. Please pass your input's `attention_mask` to obtain reliable results.\n",
      "Setting `pad_token_id` to `eos_token_id`:50256 for open-end generation.\n"
     ]
    },
    {
     "name": "stdout",
     "output_type": "stream",
     "text": [
      "Evaluation result: Evaluation properties: {'name_learning_method': 'context', 'ind_language': 'pt', 'name_model': 'EleutherAI/gpt-j-6B', 'name_device': 'cuda:0', 'descr_filter': \"{'num_question_max': 2}\", 'datetime_execution': '2022-07-17 21:34:14', 'num_top_k': 3, 'num_factor_multiply_top_k': '', 'num_doc_stride': '', 'num_max_answer_length': 200, 'if_handle_impossible_answer': '', 'list_stop_words': \"['.', '\\\\n', '\\\\n', '!']\", 'if_do_sample': False, 'val_length_penalty': 0.0, 'val_temperature': 0.1, 'cod_prompt_format': 1.0, 'num_question': 2, 'time_execution_total': 3, 'time_execution_per_question': 1539}\n",
      "Evaluation metrics: ['EM:0.0', 'F1:23.53', 'EM@3:0.0', 'F1@3:24.26'])\n"
     ]
    }
   ],
   "source": [
    "resultado = squad_evaluate_v1_1.evaluate_learning_method_one_by_one_dataset(parm_dataset=squad_dataset,\n",
    "parm_reader=reader,\n",
    "parm_dict_config_model=dict_config, \n",
    "parm_dict_config_eval=dict_config_eval,\n",
    "parm_if_record=True,\n",
    "parm_interval_print=10)"
   ]
  },
  {
   "cell_type": "code",
   "execution_count": null,
   "metadata": {},
   "outputs": [],
   "source": []
  },
  {
   "cell_type": "code",
   "execution_count": 24,
   "metadata": {},
   "outputs": [
    {
     "name": "stderr",
     "output_type": "stream",
     "text": [
      "The attention mask and the pad token id were not set. As a consequence, you may observe unexpected behavior. Please pass your input's `attention_mask` to obtain reliable results.\n",
      "Setting `pad_token_id` to `eos_token_id`:50256 for open-end generation.\n"
     ]
    },
    {
     "name": "stdout",
     "output_type": "stream",
     "text": [
      "Evalating in dataset squad-dev-v1.1-pt model \n",
      "{'name': 'EleutherAI/gpt-j-6B', 'device': 'cuda:0', 'top_k': 3, 'cod_prompt_format': 1, 'if_do_sample': False, 'val_temperature': 0.1, 'list_stop_words': ['.', '\\n', '\\n', '!'], 'val_length_penalty': 0, 'length_penalty': 0, 'doc_stride': 0, 'factor_multiply_top_k': 0, 'handle_impossible_answer': False, 'max_answer_length': 200, 'max_seq_len': 2048} \n",
      "Evalating in dataset squad-dev-v1.1-pt model \n",
      "{'name': 'EleutherAI/gpt-j-6B', 'device': 'cuda:0', 'top_k': 3, 'cod_prompt_format': 1, 'if_do_sample': False, 'val_temperature': 0.1, 'list_stop_words': ['.', '\\n', '\\n', '!'], 'val_length_penalty': 0, 'length_penalty': 0, 'doc_stride': 0, 'factor_multiply_top_k': 0, 'handle_impossible_answer': False, 'max_answer_length': 200, 'max_seq_len': 2048} \n"
     ]
    },
    {
     "name": "stderr",
     "output_type": "stream",
     "text": [
      "The attention mask and the pad token id were not set. As a consequence, you may observe unexpected behavior. Please pass your input's `attention_mask` to obtain reliable results.\n",
      "Setting `pad_token_id` to `eos_token_id`:50256 for open-end generation.\n"
     ]
    },
    {
     "name": "stdout",
     "output_type": "stream",
     "text": [
      "Em normalize_answer. Antes:  O time da NFL que representou a AFC no Super Bowl 50 foi o Denver Broncos.; Depois: o time da nfl que representou afc no super bowl 50 foi o denver broncos\n",
      "Em normalize_answer. Antes: Denver Broncos; Depois: denver broncos\n",
      "Em normalize_answer. Antes:  O time da NFL que representou a AFC no Super Bowl 50 foi o Denver Broncos.; Depois: o time da nfl que representou afc no super bowl 50 foi o denver broncos\n",
      "Em normalize_answer. Antes: Denver Broncos; Depois: denver broncos\n",
      "Em normalize_answer. Antes:  O time da NFL que representou a AFC no Super Bowl 50 foi o Denver Broncos.; Depois: o time da nfl que representou afc no super bowl 50 foi o denver broncos\n",
      "Em normalize_answer. Antes: Denver Broncos; Depois: denver broncos\n",
      "Em normalize_answer. Antes:  O time da NFL que representou a AFC no Super Bowl 50 foi o Denver Broncos.; Depois: o time da nfl que representou afc no super bowl 50 foi o denver broncos\n",
      "Em normalize_answer. Antes: Denver Broncos; Depois: denver broncos\n",
      "Em normalize_answer. Antes:  O time da NFL que representou a AFC no Super Bowl 50 foi o Denver Broncos.; Depois: o time da nfl que representou afc no super bowl 50 foi o denver broncos\n",
      "Em normalize_answer. Antes: Denver Broncos; Depois: denver broncos\n",
      "Em normalize_answer. Antes:  O time da NFL que representou a AFC no Super Bowl 50 foi o Denver Broncos.; Depois: o time da nfl que representou afc no super bowl 50 foi o denver broncos\n",
      "Em normalize_answer. Antes: Denver Broncos; Depois: denver broncos\n",
      "Em normalize_answer. Antes:  O time da NFL que representou a AFC no Super Bowl 50 foi o Denver Broncos,; Depois: o time da nfl que representou afc no super bowl 50 foi o denver broncos\n",
      "Em normalize_answer. Antes: Denver Broncos; Depois: denver broncos\n",
      "Em normalize_answer. Antes:  O time da NFL que representou a AFC no Super Bowl 50 foi o Denver Broncos,; Depois: o time da nfl que representou afc no super bowl 50 foi o denver broncos\n",
      "Em normalize_answer. Antes: Denver Broncos; Depois: denver broncos\n",
      "Em normalize_answer. Antes:  O time da NFL que representou a AFC no Super Bowl 50 foi o Denver Broncos,; Depois: o time da nfl que representou afc no super bowl 50 foi o denver broncos\n",
      "Em normalize_answer. Antes: Denver Broncos; Depois: denver broncos\n",
      "Em normalize_answer. Antes:  O time da NFL que representou a AFC no Super Bowl 50 foi o Denver Broncos,; Depois: o time da nfl que representou afc no super bowl 50 foi o denver broncos\n",
      "Em normalize_answer. Antes: Denver Broncos; Depois: denver broncos\n",
      "Em normalize_answer. Antes:  O time da NFL que representou a AFC no Super Bowl 50 foi o Denver Broncos,; Depois: o time da nfl que representou afc no super bowl 50 foi o denver broncos\n",
      "Em normalize_answer. Antes: Denver Broncos; Depois: denver broncos\n",
      "Em normalize_answer. Antes:  O time da NFL que representou a AFC no Super Bowl 50 foi o Denver Broncos,; Depois: o time da nfl que representou afc no super bowl 50 foi o denver broncos\n",
      "Em normalize_answer. Antes: Denver Broncos; Depois: denver broncos\n",
      "Em normalize_answer. Antes:  O time da NFL que representou a AFC no Super Bowl 50 foi o Carolina Panthers.; Depois: o time da nfl que representou afc no super bowl 50 foi o carolina panthers\n",
      "Em normalize_answer. Antes: Denver Broncos; Depois: denver broncos\n",
      "Em normalize_answer. Antes:  O time da NFL que representou a AFC no Super Bowl 50 foi o Carolina Panthers.; Depois: o time da nfl que representou afc no super bowl 50 foi o carolina panthers\n",
      "Em normalize_answer. Antes: Denver Broncos; Depois: denver broncos\n",
      "Em normalize_answer. Antes:  O time da NFL que representou a AFC no Super Bowl 50 foi o Carolina Panthers.; Depois: o time da nfl que representou afc no super bowl 50 foi o carolina panthers\n",
      "Em normalize_answer. Antes: Denver Broncos; Depois: denver broncos\n",
      "Em normalize_answer. Antes:  O time da NFL que representou a AFC no Super Bowl 50 foi o Carolina Panthers.; Depois: o time da nfl que representou afc no super bowl 50 foi o carolina panthers\n",
      "Em normalize_answer. Antes: Denver Broncos; Depois: denver broncos\n",
      "Em normalize_answer. Antes:  O time da NFL que representou a AFC no Super Bowl 50 foi o Carolina Panthers.; Depois: o time da nfl que representou afc no super bowl 50 foi o carolina panthers\n",
      "Em normalize_answer. Antes: Denver Broncos; Depois: denver broncos\n",
      "Em normalize_answer. Antes:  O time da NFL que representou a AFC no Super Bowl 50 foi o Carolina Panthers.; Depois: o time da nfl que representou afc no super bowl 50 foi o carolina panthers\n",
      "Em normalize_answer. Antes: Denver Broncos; Depois: denver broncos\n"
     ]
    },
    {
     "name": "stderr",
     "output_type": "stream",
     "text": [
      "The attention mask and the pad token id were not set. As a consequence, you may observe unexpected behavior. Please pass your input's `attention_mask` to obtain reliable results.\n",
      "Setting `pad_token_id` to `eos_token_id`:50256 for open-end generation.\n"
     ]
    },
    {
     "name": "stdout",
     "output_type": "stream",
     "text": [
      "Em normalize_answer. Antes:  O time da NFL que representou a NFC no Super Bowl 50 foi o Carolina Panthers.; Depois: o time da nfl que representou nfc no super bowl 50 foi o carolina panthers\n",
      "Em normalize_answer. Antes: Carolina Panthers; Depois: carolina panthers\n",
      "Em normalize_answer. Antes:  O time da NFL que representou a NFC no Super Bowl 50 foi o Carolina Panthers.; Depois: o time da nfl que representou nfc no super bowl 50 foi o carolina panthers\n",
      "Em normalize_answer. Antes: Carolina Panthers; Depois: carolina panthers\n",
      "Em normalize_answer. Antes:  O time da NFL que representou a NFC no Super Bowl 50 foi o Carolina Panthers.; Depois: o time da nfl que representou nfc no super bowl 50 foi o carolina panthers\n",
      "Em normalize_answer. Antes: Carolina Panthers; Depois: carolina panthers\n",
      "Em normalize_answer. Antes:  O time da NFL que representou a NFC no Super Bowl 50 foi o Carolina Panthers.; Depois: o time da nfl que representou nfc no super bowl 50 foi o carolina panthers\n",
      "Em normalize_answer. Antes: Carolina Panthers; Depois: carolina panthers\n",
      "Em normalize_answer. Antes:  O time da NFL que representou a NFC no Super Bowl 50 foi o Carolina Panthers.; Depois: o time da nfl que representou nfc no super bowl 50 foi o carolina panthers\n",
      "Em normalize_answer. Antes: Carolina Panthers; Depois: carolina panthers\n",
      "Em normalize_answer. Antes:  O time da NFL que representou a NFC no Super Bowl 50 foi o Carolina Panthers.; Depois: o time da nfl que representou nfc no super bowl 50 foi o carolina panthers\n",
      "Em normalize_answer. Antes: Carolina Panthers; Depois: carolina panthers\n",
      "Em normalize_answer. Antes:  O time da NFL que representou a NFC no Super Bowl 50 foi a Carolina Panthers.; Depois: o time da nfl que representou nfc no super bowl 50 foi carolina panthers\n",
      "Em normalize_answer. Antes: Carolina Panthers; Depois: carolina panthers\n",
      "Em normalize_answer. Antes:  O time da NFL que representou a NFC no Super Bowl 50 foi a Carolina Panthers.; Depois: o time da nfl que representou nfc no super bowl 50 foi carolina panthers\n",
      "Em normalize_answer. Antes: Carolina Panthers; Depois: carolina panthers\n",
      "Em normalize_answer. Antes:  O time da NFL que representou a NFC no Super Bowl 50 foi a Carolina Panthers.; Depois: o time da nfl que representou nfc no super bowl 50 foi carolina panthers\n",
      "Em normalize_answer. Antes: Carolina Panthers; Depois: carolina panthers\n",
      "Em normalize_answer. Antes:  O time da NFL que representou a NFC no Super Bowl 50 foi a Carolina Panthers.; Depois: o time da nfl que representou nfc no super bowl 50 foi carolina panthers\n",
      "Em normalize_answer. Antes: Carolina Panthers; Depois: carolina panthers\n",
      "Em normalize_answer. Antes:  O time da NFL que representou a NFC no Super Bowl 50 foi a Carolina Panthers.; Depois: o time da nfl que representou nfc no super bowl 50 foi carolina panthers\n",
      "Em normalize_answer. Antes: Carolina Panthers; Depois: carolina panthers\n",
      "Em normalize_answer. Antes:  O time da NFL que representou a NFC no Super Bowl 50 foi a Carolina Panthers.; Depois: o time da nfl que representou nfc no super bowl 50 foi carolina panthers\n",
      "Em normalize_answer. Antes: Carolina Panthers; Depois: carolina panthers\n",
      "Em normalize_answer. Antes:  O time da NFL que representou a NFC no Super Bowl 50 foi o Carolina Panthers,; Depois: o time da nfl que representou nfc no super bowl 50 foi o carolina panthers\n",
      "Em normalize_answer. Antes: Carolina Panthers; Depois: carolina panthers\n",
      "Em normalize_answer. Antes:  O time da NFL que representou a NFC no Super Bowl 50 foi o Carolina Panthers,; Depois: o time da nfl que representou nfc no super bowl 50 foi o carolina panthers\n",
      "Em normalize_answer. Antes: Carolina Panthers; Depois: carolina panthers\n",
      "Em normalize_answer. Antes:  O time da NFL que representou a NFC no Super Bowl 50 foi o Carolina Panthers,; Depois: o time da nfl que representou nfc no super bowl 50 foi o carolina panthers\n",
      "Em normalize_answer. Antes: Carolina Panthers; Depois: carolina panthers\n",
      "Em normalize_answer. Antes:  O time da NFL que representou a NFC no Super Bowl 50 foi o Carolina Panthers,; Depois: o time da nfl que representou nfc no super bowl 50 foi o carolina panthers\n",
      "Em normalize_answer. Antes: Carolina Panthers; Depois: carolina panthers\n",
      "Em normalize_answer. Antes:  O time da NFL que representou a NFC no Super Bowl 50 foi o Carolina Panthers,; Depois: o time da nfl que representou nfc no super bowl 50 foi o carolina panthers\n",
      "Em normalize_answer. Antes: Carolina Panthers; Depois: carolina panthers\n",
      "Em normalize_answer. Antes:  O time da NFL que representou a NFC no Super Bowl 50 foi o Carolina Panthers,; Depois: o time da nfl que representou nfc no super bowl 50 foi o carolina panthers\n",
      "Em normalize_answer. Antes: Carolina Panthers; Depois: carolina panthers\n"
     ]
    },
    {
     "name": "stderr",
     "output_type": "stream",
     "text": [
      "The attention mask and the pad token id were not set. As a consequence, you may observe unexpected behavior. Please pass your input's `attention_mask` to obtain reliable results.\n",
      "Setting `pad_token_id` to `eos_token_id`:50256 for open-end generation.\n"
     ]
    },
    {
     "name": "stdout",
     "output_type": "stream",
     "text": [
      "Em normalize_answer. Antes:  O Super Bowl 50 foi um jogo de futebol americano para determinar o campeão da Liga Nacional de Futebol Americano (NFL) para a temporada de 2015.; Depois: o super bowl 50 foi um jogo de futebol americano para determinar o campeão da liga nacional de futebol americano nfl para temporada de 2015\n",
      "Em normalize_answer. Antes: Santa Clara, Califórnia; Depois: santa clara califórnia\n",
      "Em normalize_answer. Antes:  O Super Bowl 50 foi um jogo de futebol americano para determinar o campeão da Liga Nacional de Futebol Americano (NFL) para a temporada de 2015.; Depois: o super bowl 50 foi um jogo de futebol americano para determinar o campeão da liga nacional de futebol americano nfl para temporada de 2015\n",
      "Em normalize_answer. Antes: Levi's Stadium na área da Baía de São Francisco em Santa Clara, Califórnia; Depois: levis stadium na área da baía de são francisco em santa clara califórnia\n",
      "Em normalize_answer. Antes:  O Super Bowl 50 foi um jogo de futebol americano para determinar o campeão da Liga Nacional de Futebol Americano (NFL) para a temporada de 2015.; Depois: o super bowl 50 foi um jogo de futebol americano para determinar o campeão da liga nacional de futebol americano nfl para temporada de 2015\n",
      "Em normalize_answer. Antes: Santa Clara, Califórnia; Depois: santa clara califórnia\n",
      "Em normalize_answer. Antes:  O Super Bowl 50 foi um jogo de futebol americano para determinar o campeão da Liga Nacional de Futebol Americano (NFL) para a temporada de 2015.; Depois: o super bowl 50 foi um jogo de futebol americano para determinar o campeão da liga nacional de futebol americano nfl para temporada de 2015\n",
      "Em normalize_answer. Antes: Levi's Stadium na área da Baía de São Francisco em Santa Clara, Califórnia; Depois: levis stadium na área da baía de são francisco em santa clara califórnia\n",
      "Em normalize_answer. Antes:  O Super Bowl 50 foi disputado em 7 de fevereiro de 2016, no Levi's Stadium na área da Baía de São Francisco em Santa Clara, Califórnia. Com; Depois: o super bowl 50 foi disputado em 7 de fevereiro de 2016 no levis stadium na área da baía de são francisco em santa clara califórnia com\n",
      "Em normalize_answer. Antes: Santa Clara, Califórnia; Depois: santa clara califórnia\n",
      "Em normalize_answer. Antes:  O Super Bowl 50 foi disputado em 7 de fevereiro de 2016, no Levi's Stadium na área da Baía de São Francisco em Santa Clara, Califórnia. Com; Depois: o super bowl 50 foi disputado em 7 de fevereiro de 2016 no levis stadium na área da baía de são francisco em santa clara califórnia com\n",
      "Em normalize_answer. Antes: Levi's Stadium na área da Baía de São Francisco em Santa Clara, Califórnia; Depois: levis stadium na área da baía de são francisco em santa clara califórnia\n",
      "Em normalize_answer. Antes:  O Super Bowl 50 foi disputado em 7 de fevereiro de 2016, no Levi's Stadium na área da Baía de São Francisco em Santa Clara, Califórnia. Com; Depois: o super bowl 50 foi disputado em 7 de fevereiro de 2016 no levis stadium na área da baía de são francisco em santa clara califórnia com\n",
      "Em normalize_answer. Antes: Santa Clara, Califórnia; Depois: santa clara califórnia\n",
      "Em normalize_answer. Antes:  O Super Bowl 50 foi disputado em 7 de fevereiro de 2016, no Levi's Stadium na área da Baía de São Francisco em Santa Clara, Califórnia. Com; Depois: o super bowl 50 foi disputado em 7 de fevereiro de 2016 no levis stadium na área da baía de são francisco em santa clara califórnia com\n",
      "Em normalize_answer. Antes: Levi's Stadium na área da Baía de São Francisco em Santa Clara, Califórnia; Depois: levis stadium na área da baía de são francisco em santa clara califórnia\n",
      "Em normalize_answer. Antes:  O Super Bowl 50 foi disputado em 7 de fevereiro de 2016, no Levi's Stadium na área da Baía de São Francisco em Santa Clara, Califórnia.\n",
      "; Depois: o super bowl 50 foi disputado em 7 de fevereiro de 2016 no levis stadium na área da baía de são francisco em santa clara califórnia\n",
      "Em normalize_answer. Antes: Santa Clara, Califórnia; Depois: santa clara califórnia\n",
      "Em normalize_answer. Antes:  O Super Bowl 50 foi disputado em 7 de fevereiro de 2016, no Levi's Stadium na área da Baía de São Francisco em Santa Clara, Califórnia.\n",
      "; Depois: o super bowl 50 foi disputado em 7 de fevereiro de 2016 no levis stadium na área da baía de são francisco em santa clara califórnia\n",
      "Em normalize_answer. Antes: Levi's Stadium na área da Baía de São Francisco em Santa Clara, Califórnia; Depois: levis stadium na área da baía de são francisco em santa clara califórnia\n",
      "Em normalize_answer. Antes:  O Super Bowl 50 foi disputado em 7 de fevereiro de 2016, no Levi's Stadium na área da Baía de São Francisco em Santa Clara, Califórnia.\n",
      "; Depois: o super bowl 50 foi disputado em 7 de fevereiro de 2016 no levis stadium na área da baía de são francisco em santa clara califórnia\n",
      "Em normalize_answer. Antes: Santa Clara, Califórnia; Depois: santa clara califórnia\n",
      "Em normalize_answer. Antes:  O Super Bowl 50 foi disputado em 7 de fevereiro de 2016, no Levi's Stadium na área da Baía de São Francisco em Santa Clara, Califórnia.\n",
      "; Depois: o super bowl 50 foi disputado em 7 de fevereiro de 2016 no levis stadium na área da baía de são francisco em santa clara califórnia\n",
      "Em normalize_answer. Antes: Levi's Stadium na área da Baía de São Francisco em Santa Clara, Califórnia; Depois: levis stadium na área da baía de são francisco em santa clara califórnia\n",
      "Em normalize_answer. Antes:  O time da Carolina Panthers venceu o Super Bowl 50.; Depois: o time da carolina panthers venceu o super bowl 50\n",
      "Em normalize_answer. Antes: Denver Broncos; Depois: denver broncos\n",
      "Em normalize_answer. Antes:  O time da Carolina Panthers venceu o Super Bowl 50.; Depois: o time da carolina panthers venceu o super bowl 50\n",
      "Em normalize_answer. Antes: Denver Broncos; Depois: denver broncos\n",
      "Em normalize_answer. Antes:  O time da Carolina Panthers venceu o Super Bowl 50.; Depois: o time da carolina panthers venceu o super bowl 50\n",
      "Em normalize_answer. Antes: Denver Broncos; Depois: denver broncos\n",
      "Em normalize_answer. Antes:  O time da Carolina Panthers venceu o Super Bowl 50.; Depois: o time da carolina panthers venceu o super bowl 50\n",
      "Em normalize_answer. Antes: Denver Broncos; Depois: denver broncos\n",
      "Em normalize_answer. Antes:  O time da Carolina Panthers venceu o Super Bowl 50.; Depois: o time da carolina panthers venceu o super bowl 50\n",
      "Em normalize_answer. Antes: Denver Broncos; Depois: denver broncos\n",
      "Em normalize_answer. Antes:  O time da Carolina Panthers venceu o Super Bowl 50.; Depois: o time da carolina panthers venceu o super bowl 50\n",
      "Em normalize_answer. Antes: Denver Broncos; Depois: denver broncos\n",
      "Em normalize_answer. Antes:  O time da Carolina Panthers venceu o Super Bowl 50,; Depois: o time da carolina panthers venceu o super bowl 50\n",
      "Em normalize_answer. Antes: Denver Broncos; Depois: denver broncos\n",
      "Em normalize_answer. Antes:  O time da Carolina Panthers venceu o Super Bowl 50,; Depois: o time da carolina panthers venceu o super bowl 50\n",
      "Em normalize_answer. Antes: Denver Broncos; Depois: denver broncos\n",
      "Em normalize_answer. Antes:  O time da Carolina Panthers venceu o Super Bowl 50,; Depois: o time da carolina panthers venceu o super bowl 50\n",
      "Em normalize_answer. Antes: Denver Broncos; Depois: denver broncos\n",
      "Em normalize_answer. Antes:  O time da Carolina Panthers venceu o Super Bowl 50,; Depois: o time da carolina panthers venceu o super bowl 50\n",
      "Em normalize_answer. Antes: Denver Broncos; Depois: denver broncos\n",
      "Em normalize_answer. Antes:  O time da Carolina Panthers venceu o Super Bowl 50,; Depois: o time da carolina panthers venceu o super bowl 50\n",
      "Em normalize_answer. Antes: Denver Broncos; Depois: denver broncos\n",
      "Em normalize_answer. Antes:  O time da Carolina Panthers venceu o Super Bowl 50,; Depois: o time da carolina panthers venceu o super bowl 50\n",
      "Em normalize_answer. Antes: Denver Broncos; Depois: denver broncos\n",
      "Em normalize_answer. Antes:  O time da Carolina Panthers venceu o Super Bowl 50 por; Depois: o time da carolina panthers venceu o super bowl 50 por\n",
      "Em normalize_answer. Antes: Denver Broncos; Depois: denver broncos\n",
      "Em normalize_answer. Antes:  O time da Carolina Panthers venceu o Super Bowl 50 por; Depois: o time da carolina panthers venceu o super bowl 50 por\n",
      "Em normalize_answer. Antes: Denver Broncos; Depois: denver broncos\n",
      "Em normalize_answer. Antes:  O time da Carolina Panthers venceu o Super Bowl 50 por; Depois: o time da carolina panthers venceu o super bowl 50 por\n",
      "Em normalize_answer. Antes: Denver Broncos; Depois: denver broncos\n",
      "Em normalize_answer. Antes:  O time da Carolina Panthers venceu o Super Bowl 50 por; Depois: o time da carolina panthers venceu o super bowl 50 por\n",
      "Em normalize_answer. Antes: Denver Broncos; Depois: denver broncos\n",
      "Em normalize_answer. Antes:  O time da Carolina Panthers venceu o Super Bowl 50 por; Depois: o time da carolina panthers venceu o super bowl 50 por\n",
      "Em normalize_answer. Antes: Denver Broncos; Depois: denver broncos\n",
      "Em normalize_answer. Antes:  O time da Carolina Panthers venceu o Super Bowl 50 por; Depois: o time da carolina panthers venceu o super bowl 50 por\n",
      "Em normalize_answer. Antes: Denver Broncos; Depois: denver broncos\n"
     ]
    },
    {
     "ename": "AssertionError",
     "evalue": "Estrutura esperada de parm_evaluation_qa_data não corresponde ao esperado Key Esperado[cod_format_prompt] not in Encontrado\nKey Esperado[list_stop_word] not in Encontrado\nKey Encontrado[list_stop_words] not in Esperado\nKey Encontrado[cod_prompt_format] not in Esperado\n",
     "output_type": "error",
     "traceback": [
      "\u001b[0;31m---------------------------------------------------------------------------\u001b[0m",
      "\u001b[0;31mAssertionError\u001b[0m                            Traceback (most recent call last)",
      "\u001b[0;32m/tmp/ipykernel_111314/3071328782.py\u001b[0m in \u001b[0;36m<module>\u001b[0;34m\u001b[0m\n\u001b[1;32m      4\u001b[0m \u001b[0mparm_dict_config_eval\u001b[0m\u001b[0;34m=\u001b[0m\u001b[0mdict_config_eval\u001b[0m\u001b[0;34m,\u001b[0m\u001b[0;34m\u001b[0m\u001b[0;34m\u001b[0m\u001b[0m\n\u001b[1;32m      5\u001b[0m \u001b[0mparm_if_record\u001b[0m\u001b[0;34m=\u001b[0m\u001b[0;32mFalse\u001b[0m\u001b[0;34m,\u001b[0m\u001b[0;34m\u001b[0m\u001b[0;34m\u001b[0m\u001b[0m\n\u001b[0;32m----> 6\u001b[0;31m parm_interval_print=10)\n\u001b[0m",
      "\u001b[0;32m~/fontes/exqa-complearning/source/calculation/squad_evaluate_v1_1.py\u001b[0m in \u001b[0;36mevaluate_learning_method_one_by_one_dataset\u001b[0;34m(parm_dataset, parm_reader, parm_dict_config_model, parm_dict_config_eval, parm_if_record, parm_interval_print)\u001b[0m\n\u001b[1;32m    229\u001b[0m     \u001b[0mdict_evaluation\u001b[0m\u001b[0;34m[\u001b[0m\u001b[0;34m'time_execution_total'\u001b[0m\u001b[0;34m]\u001b[0m \u001b[0;34m=\u001b[0m \u001b[0mint\u001b[0m\u001b[0;34m(\u001b[0m\u001b[0mround\u001b[0m\u001b[0;34m(\u001b[0m\u001b[0mtend\u001b[0m \u001b[0;34m-\u001b[0m \u001b[0mtstart\u001b[0m\u001b[0;34m,\u001b[0m \u001b[0;36m0\u001b[0m\u001b[0;34m)\u001b[0m\u001b[0;34m)\u001b[0m\u001b[0;34m\u001b[0m\u001b[0;34m\u001b[0m\u001b[0m\n\u001b[1;32m    230\u001b[0m     \u001b[0mdict_evaluation\u001b[0m\u001b[0;34m[\u001b[0m\u001b[0;34m'time_execution_per_question'\u001b[0m\u001b[0;34m]\u001b[0m \u001b[0;34m=\u001b[0m \u001b[0mint\u001b[0m\u001b[0;34m(\u001b[0m\u001b[0mround\u001b[0m\u001b[0;34m(\u001b[0m\u001b[0;36m1000\u001b[0m\u001b[0;34m*\u001b[0m\u001b[0;34m(\u001b[0m\u001b[0mtend\u001b[0m \u001b[0;34m-\u001b[0m \u001b[0mtstart\u001b[0m\u001b[0;34m)\u001b[0m\u001b[0;34m/\u001b[0m\u001b[0mnum_question\u001b[0m\u001b[0;34m,\u001b[0m \u001b[0;36m0\u001b[0m\u001b[0;34m)\u001b[0m\u001b[0;34m)\u001b[0m\u001b[0;34m\u001b[0m\u001b[0;34m\u001b[0m\u001b[0m\n\u001b[0;32m--> 231\u001b[0;31m     \u001b[0mevaluation\u001b[0m \u001b[0;34m=\u001b[0m \u001b[0mrastro_evaluation_qa\u001b[0m\u001b[0;34m.\u001b[0m\u001b[0mEvaluationQa\u001b[0m\u001b[0;34m(\u001b[0m\u001b[0mdict_evaluation\u001b[0m\u001b[0;34m)\u001b[0m\u001b[0;34m\u001b[0m\u001b[0;34m\u001b[0m\u001b[0m\n\u001b[0m\u001b[1;32m    232\u001b[0m \u001b[0;34m\u001b[0m\u001b[0m\n\u001b[1;32m    233\u001b[0m     \u001b[0;32mfor\u001b[0m \u001b[0mmetric\u001b[0m\u001b[0;34m,\u001b[0m \u001b[0mmetric_value\u001b[0m \u001b[0;32min\u001b[0m \u001b[0mmetric_calculated\u001b[0m\u001b[0;34m.\u001b[0m\u001b[0mitems\u001b[0m\u001b[0;34m(\u001b[0m\u001b[0;34m)\u001b[0m\u001b[0;34m:\u001b[0m\u001b[0;34m\u001b[0m\u001b[0;34m\u001b[0m\u001b[0m\n",
      "\u001b[0;32m~/fontes/exqa-complearning/source/data_related/rastro_evaluation_qa.py\u001b[0m in \u001b[0;36m__init__\u001b[0;34m(self, parm_evaluation_qa_data)\u001b[0m\n\u001b[1;32m    106\u001b[0m         msg_dif = util_modelo.compare_dicionarios_chaves(dtype_evaluation_without_code,\n\u001b[1;32m    107\u001b[0m              parm_evaluation_qa_data, 'Esperado', 'Encontrado')\n\u001b[0;32m--> 108\u001b[0;31m         \u001b[0;32massert\u001b[0m \u001b[0mmsg_dif\u001b[0m \u001b[0;34m==\u001b[0m \u001b[0;34m\"\"\u001b[0m\u001b[0;34m,\u001b[0m \u001b[0;34mf\"Estrutura esperada de parm_evaluation_qa_data não corresponde ao esperado {msg_dif}\"\u001b[0m\u001b[0;34m\u001b[0m\u001b[0;34m\u001b[0m\u001b[0m\n\u001b[0m\u001b[1;32m    109\u001b[0m \u001b[0;34m\u001b[0m\u001b[0m\n\u001b[1;32m    110\u001b[0m         \u001b[0;32mfor\u001b[0m \u001b[0mproperty_name\u001b[0m\u001b[0;34m,\u001b[0m \u001b[0mproperty_type\u001b[0m \u001b[0;32min\u001b[0m \u001b[0mdtype_evaluation_without_code\u001b[0m\u001b[0;34m.\u001b[0m\u001b[0mitems\u001b[0m\u001b[0;34m(\u001b[0m\u001b[0;34m)\u001b[0m\u001b[0;34m:\u001b[0m\u001b[0;34m\u001b[0m\u001b[0;34m\u001b[0m\u001b[0m\n",
      "\u001b[0;31mAssertionError\u001b[0m: Estrutura esperada de parm_evaluation_qa_data não corresponde ao esperado Key Esperado[cod_format_prompt] not in Encontrado\nKey Esperado[list_stop_word] not in Encontrado\nKey Encontrado[list_stop_words] not in Esperado\nKey Encontrado[cod_prompt_format] not in Esperado\n"
     ]
    }
   ],
   "source": [
    "resultado = squad_evaluate_v1_1.evaluate_learning_method_one_by_one_dataset(parm_dataset=squad_dataset,\n",
    "parm_reader=reader,\n",
    "parm_dict_config_model=dict_config, \n",
    "parm_dict_config_eval=dict_config_eval,\n",
    "parm_if_record=False,\n",
    "parm_interval_print=10)"
   ]
  },
  {
   "cell_type": "code",
   "execution_count": 20,
   "metadata": {},
   "outputs": [
    {
     "data": {
      "text/plain": [
       "{'id': '56be4db0acb8001400a502ec',\n",
       " 'title': 'Super_Bowl_50',\n",
       " 'context': 'O Super Bowl 50 foi um jogo de futebol americano para determinar o campeão da Liga Nacional de Futebol Americano (NFL) para a temporada de 2015. O campeão da Conferência Americana de Futebol Americano (AFC), Denver Broncos, derrotou o campeão da Conferência Nacional de Futebol Americano (NFC), Carolina Panthers 24–10, para ganhar seu terceiro título do Super Bowl. O jogo foi disputado em 7 de fevereiro de 2016, no Levi\\'s Stadium na área da Baía de São Francisco em Santa Clara, Califórnia. Como este foi o 50º Super Bowl, a liga enfatizou o \"aniversário de ouro\" com várias iniciativas com temas de ouro, além de suspender temporariamente a tradição de nomear cada jogo do Super Bowl com números romanos (sob os quais o jogo seria conhecido como \" Super Bowl L \"), de modo que o logotipo possa exibir com destaque os algarismos arábicos 50.',\n",
       " 'question': 'Qual time da NFL representou a AFC no Super Bowl 50?',\n",
       " 'answer_start': [208, 208, 208],\n",
       " 'answer_text': ['Denver Broncos', 'Denver Broncos', 'Denver Broncos']}"
      ]
     },
     "execution_count": 20,
     "metadata": {},
     "output_type": "execute_result"
    }
   ],
   "source": [
    "squad_dataset.dataset[0]"
   ]
  },
  {
   "cell_type": "code",
   "execution_count": 1,
   "metadata": {},
   "outputs": [
    {
     "ename": "NameError",
     "evalue": "name 'reader' is not defined",
     "output_type": "error",
     "traceback": [
      "\u001b[0;31m---------------------------------------------------------------------------\u001b[0m",
      "\u001b[0;31mNameError\u001b[0m                                 Traceback (most recent call last)",
      "\u001b[0;32m/tmp/ipykernel_111314/2164785923.py\u001b[0m in \u001b[0;36m<module>\u001b[0;34m\u001b[0m\n\u001b[0;32m----> 1\u001b[0;31m \u001b[0mresponse\u001b[0m \u001b[0;34m=\u001b[0m \u001b[0mreader\u001b[0m\u001b[0;34m.\u001b[0m\u001b[0manswer_one_question\u001b[0m\u001b[0;34m(\u001b[0m\u001b[0mtexto_pergunta\u001b[0m\u001b[0;34m,\u001b[0m \u001b[0mtexto_contexto\u001b[0m\u001b[0;34m)\u001b[0m\u001b[0;34m\u001b[0m\u001b[0;34m\u001b[0m\u001b[0m\n\u001b[0m",
      "\u001b[0;31mNameError\u001b[0m: name 'reader' is not defined"
     ]
    }
   ],
   "source": [
    "response = reader.answer_one_question(texto_pergunta, texto_contexto)"
   ]
  },
  {
   "cell_type": "code",
   "execution_count": 11,
   "metadata": {},
   "outputs": [
    {
     "name": "stderr",
     "output_type": "stream",
     "text": [
      "The attention mask and the pad token id were not set. As a consequence, you may observe unexpected behavior. Please pass your input's `attention_mask` to obtain reliable results.\n",
      "Setting `pad_token_id` to `eos_token_id`:50256 for open-end generation.\n"
     ]
    },
    {
     "name": "stdout",
     "output_type": "stream",
     "text": [
      "chars(prompt): 494\n",
      "tokens(prompt): 184\n",
      "texto gerado: [{'generated_text': ' O Flamengo.'}]\n"
     ]
    }
   ],
   "source": [
    "dict_config['num_top_k'] = 1\n",
    "reader.atualiza_parametros_resposta(dict_config)\n",
    "response = reader.answer_one_question(texto_pergunta, texto_contexto)"
   ]
  },
  {
   "cell_type": "code",
   "execution_count": 13,
   "metadata": {},
   "outputs": [
    {
     "name": "stdout",
     "output_type": "stream",
     "text": [
      "chars(prompt): 494\n",
      "tokens(prompt): 184\n"
     ]
    },
    {
     "name": "stderr",
     "output_type": "stream",
     "text": [
      "The attention mask and the pad token id were not set. As a consequence, you may observe unexpected behavior. Please pass your input's `attention_mask` to obtain reliable results.\n",
      "Setting `pad_token_id` to `eos_token_id`:50256 for open-end generation.\n"
     ]
    },
    {
     "name": "stdout",
     "output_type": "stream",
     "text": [
      "texto gerado: [{'generated_text': ' Flamengo\\n'}, {'generated_text': ' Flamengo\\n'}, {'generated_text': ' Flamengo\\n'}, {'generated_text': ' Flamengo\\n'}]\n"
     ]
    }
   ],
   "source": [
    "dict_config['num_top_k'] = 4\n",
    "reader.atualiza_parametros_resposta(dict_config)\n",
    "response = reader.answer_one_question(texto_pergunta, texto_contexto)"
   ]
  },
  {
   "cell_type": "code",
   "execution_count": 16,
   "metadata": {},
   "outputs": [
    {
     "name": "stderr",
     "output_type": "stream",
     "text": [
      "The attention mask and the pad token id were not set. As a consequence, you may observe unexpected behavior. Please pass your input's `attention_mask` to obtain reliable results.\n",
      "Setting `pad_token_id` to `eos_token_id`:50256 for open-end generation.\n"
     ]
    },
    {
     "name": "stdout",
     "output_type": "stream",
     "text": [
      "chars(prompt): 494\n",
      "tokens(prompt): 184\n",
      "texto gerado: [{'generated_text': ' O Flamengo.'}, {'generated_text': ' Não dá para'}, {'generated_text': ' O Corinthians, um dos'}, {'generated_text': ' Flamengo.\\n'}]\n"
     ]
    }
   ],
   "source": [
    "dict_config['val_temperature'] = 2.\n",
    "reader.atualiza_parametros_resposta(dict_config)\n",
    "response = reader.answer_one_question(texto_pergunta, texto_contexto)"
   ]
  },
  {
   "cell_type": "code",
   "execution_count": 9,
   "metadata": {},
   "outputs": [
    {
     "name": "stderr",
     "output_type": "stream",
     "text": [
      "The attention mask and the pad token id were not set. As a consequence, you may observe unexpected behavior. Please pass your input's `attention_mask` to obtain reliable results.\n",
      "Setting `pad_token_id` to `eos_token_id`:50256 for open-end generation.\n"
     ]
    },
    {
     "name": "stdout",
     "output_type": "stream",
     "text": [
      "chars(prompt): 494\n",
      "tokens(prompt): 184\n",
      "texto gerado: [{'generated_text': ' Flamengo.'}]\n"
     ]
    }
   ],
   "source": [
    "response = reader.answer_one_question(texto_pergunta, texto_contexto)"
   ]
  },
  {
   "cell_type": "code",
   "execution_count": 10,
   "metadata": {},
   "outputs": [
    {
     "name": "stderr",
     "output_type": "stream",
     "text": [
      "The attention mask and the pad token id were not set. As a consequence, you may observe unexpected behavior. Please pass your input's `attention_mask` to obtain reliable results.\n",
      "Setting `pad_token_id` to `eos_token_id`:50256 for open-end generation.\n"
     ]
    },
    {
     "name": "stdout",
     "output_type": "stream",
     "text": [
      "chars(prompt): 494\n",
      "tokens(prompt): 184\n",
      "texto gerado: [{'generated_text': ' Quem sabe se algum dia o Flamengo vai ao mundial porque quando eles fizeram, a gente ficou sem jogar...\\n'}, {'generated_text': ' O Flamengo\\n\\nA:\\n\\nAcho que a pergunta pode ser respondida diretamente pelo texto que está usando.  \\n\\nText'}, {'generated_text': '\\n\\nTexto: A bicicleta e a honra de ser flamenguista, de um Flamengo.\\n\\nPossível dificuldade:\\nQuase'}]\n"
     ]
    }
   ],
   "source": [
    "dict_config['num_top_k'] = 3\n",
    "reader.atualiza_parametros_resposta(dict_config)\n",
    "response = reader.answer_one_question(texto_pergunta, texto_contexto)"
   ]
  },
  {
   "cell_type": "code",
   "execution_count": 14,
   "metadata": {},
   "outputs": [
    {
     "name": "stderr",
     "output_type": "stream",
     "text": [
      "The attention mask and the pad token id were not set. As a consequence, you may observe unexpected behavior. Please pass your input's `attention_mask` to obtain reliable results.\n",
      "Setting `pad_token_id` to `eos_token_id`:50256 for open-end generation.\n"
     ]
    },
    {
     "name": "stdout",
     "output_type": "stream",
     "text": [
      "chars(prompt): 494\n",
      "tokens(prompt): 184\n",
      "texto gerado: [{'generated_text': ' Flamengo\\n'}, {'generated_text': ' Flamengo\\n'}, {'generated_text': ' Flamengo\\n'}]\n"
     ]
    }
   ],
   "source": [
    "dict_config['val_temperature'] = 0.1\n",
    "reader.atualiza_parametros_resposta(dict_config)\n",
    "response = reader.answer_one_question(texto_pergunta, texto_contexto)"
   ]
  },
  {
   "cell_type": "code",
   "execution_count": 15,
   "metadata": {},
   "outputs": [
    {
     "name": "stderr",
     "output_type": "stream",
     "text": [
      "The attention mask and the pad token id were not set. As a consequence, you may observe unexpected behavior. Please pass your input's `attention_mask` to obtain reliable results.\n",
      "Setting `pad_token_id` to `eos_token_id`:50256 for open-end generation.\n"
     ]
    },
    {
     "name": "stdout",
     "output_type": "stream",
     "text": [
      "chars(prompt): 494\n",
      "tokens(prompt): 184\n",
      "texto gerado: [{'generated_text': ' Flamengo\\n'}, {'generated_text': ' Flamengo\\n'}, {'generated_text': ' O Flamengo'}]\n"
     ]
    }
   ],
   "source": [
    "dict_config['num_top_k'] = 3\n",
    "reader.atualiza_parametros_resposta(dict_config)\n",
    "response = reader.answer_one_question(texto_pergunta, texto_contexto)"
   ]
  },
  {
   "cell_type": "code",
   "execution_count": 12,
   "metadata": {},
   "outputs": [
    {
     "name": "stderr",
     "output_type": "stream",
     "text": [
      "The attention mask and the pad token id were not set. As a consequence, you may observe unexpected behavior. Please pass your input's `attention_mask` to obtain reliable results.\n",
      "Setting `pad_token_id` to `eos_token_id`:50256 for open-end generation.\n"
     ]
    },
    {
     "name": "stdout",
     "output_type": "stream",
     "text": [
      "chars(prompt): 494\n",
      "tokens(prompt): 184\n",
      "texto gerado: [{'generated_text': ' Flamengo\\n'}, {'generated_text': ' O Flamengo'}, {'generated_text': ' O Flamengo'}]\n"
     ]
    }
   ],
   "source": [
    "dict_config['val_temperature'] = 0.5\n",
    "reader.atualiza_parametros_resposta(dict_config)\n",
    "response = reader.answer_one_question(texto_pergunta, texto_contexto)"
   ]
  },
  {
   "cell_type": "code",
   "execution_count": 13,
   "metadata": {},
   "outputs": [
    {
     "name": "stderr",
     "output_type": "stream",
     "text": [
      "The attention mask and the pad token id were not set. As a consequence, you may observe unexpected behavior. Please pass your input's `attention_mask` to obtain reliable results.\n",
      "Setting `pad_token_id` to `eos_token_id`:50256 for open-end generation.\n"
     ]
    },
    {
     "name": "stdout",
     "output_type": "stream",
     "text": [
      "chars(prompt): 494\n",
      "tokens(prompt): 184\n",
      "texto gerado: [{'generated_text': ' Flamengo, onnês...\\n'}, {'generated_text': ' Flamengo\\n\\n'}, {'generated_text': ' Palmeiras\\nExplico:\\nEm'}]\n"
     ]
    }
   ],
   "source": [
    "dict_config['val_temperature'] = 1.5\n",
    "reader.atualiza_parametros_resposta(dict_config)\n",
    "response = reader.answer_one_question(texto_pergunta, texto_contexto)"
   ]
  },
  {
   "cell_type": "code",
   "execution_count": null,
   "metadata": {},
   "outputs": [],
   "source": [
    "dict_config['if_do_sample'] = False\n",
    "reader.atualiza_parametros_resposta(dict_config)\n",
    "response = reader.answer_one_question(texto_pergunta, texto_contexto)"
   ]
  },
  {
   "cell_type": "code",
   "execution_count": 16,
   "metadata": {},
   "outputs": [
    {
     "name": "stderr",
     "output_type": "stream",
     "text": [
      "The attention mask and the pad token id were not set. As a consequence, you may observe unexpected behavior. Please pass your input's `attention_mask` to obtain reliable results.\n",
      "Setting `pad_token_id` to `eos_token_id`:50256 for open-end generation.\n"
     ]
    },
    {
     "name": "stdout",
     "output_type": "stream",
     "text": [
      "chars(prompt): 494\n",
      "tokens(prompt): 184\n",
      "texto gerado: [{'generated_text': ' O Flamengo.'}]\n"
     ]
    }
   ],
   "source": [
    "dict_config['num_top_k'] = 1\n",
    "reader.atualiza_parametros_resposta(dict_config)\n",
    "response = reader.answer_one_question(texto_pergunta, texto_contexto)"
   ]
  },
  {
   "cell_type": "code",
   "execution_count": 19,
   "metadata": {},
   "outputs": [
    {
     "name": "stderr",
     "output_type": "stream",
     "text": [
      "/home/borela/miniconda3/envs/exqa-complearning/lib/python3.7/site-packages/transformers/pipelines/base.py:1015: UserWarning: You seem to be using the pipelines sequentially on GPU. In order to maximize efficiency please use a dataset\n",
      "  UserWarning,\n",
      "The attention mask and the pad token id were not set. As a consequence, you may observe unexpected behavior. Please pass your input's `attention_mask` to obtain reliable results.\n",
      "Setting `pad_token_id` to `eos_token_id`:50256 for open-end generation.\n"
     ]
    },
    {
     "name": "stdout",
     "output_type": "stream",
     "text": [
      "chars(prompt): 494\n",
      "tokens(prompt): 184\n",
      "texto gerado: [{'generated_text': ' O Flamengo.'}, {'generated_text': ' O Flamengo.'}, {'generated_text': ' O Flamengo.'}, {'generated_text': ' Flamengo\\n\\n'}]\n"
     ]
    }
   ],
   "source": [
    "dict_config['num_top_k'] = 4\n",
    "dict_config['num_max_answer_length'] = 50\n",
    "dict_config['if_do_sample'] = True\n",
    "reader.atualiza_parametros_resposta(dict_config)\n",
    "response = reader.answer_one_question(texto_pergunta, texto_contexto)"
   ]
  },
  {
   "cell_type": "code",
   "execution_count": null,
   "metadata": {},
   "outputs": [],
   "source": [
    "import importlib\n",
    "importlib.reload(trata_reader2)"
   ]
  },
  {
   "cell_type": "markdown",
   "metadata": {},
   "source": [
    "EleutherAI/gpt-j-6B"
   ]
  },
  {
   "cell_type": "code",
   "execution_count": null,
   "metadata": {},
   "outputs": [],
   "source": [
    "teste_trata_reader2.teste_context_reader(name_model = \"EleutherAI/gpt-j-6B\")"
   ]
  },
  {
   "cell_type": "markdown",
   "metadata": {},
   "source": [
    "gpt-neo-2.7B\n",
    "\n",
    "len(prompt): 487\n",
    "\n",
    "pipe (trata_reader2)\n",
    "carga do modelo : 27s\n",
    "gpu: 12575mb\n",
    "\n",
    "\n",
    "\n",
    "answer_max_length: 100\n",
    "    Tempo: menos de 1s\n",
    "    texto gerado 1 letra\n",
    "\n",
    "answer_max_length: 200\n",
    "    texto gerado 5 letras\n",
    "\n",
    "answer_max_length: 2048\n",
    "\n",
    "Geração de texto:\n",
    "    Tempo: 100 s\n",
    "    Gpu: chegou a 23gb\n",
    "\n",
    "    Resposta enormeeeee\n"
   ]
  },
  {
   "cell_type": "code",
   "execution_count": null,
   "metadata": {},
   "outputs": [],
   "source": [
    "teste_trata_reader2.teste_context_reader(name_model = 'EleutherAI/gpt-neo-2.7B')"
   ]
  },
  {
   "cell_type": "markdown",
   "metadata": {},
   "source": [
    "gpt-neo-1.3b"
   ]
  },
  {
   "cell_type": "code",
   "execution_count": null,
   "metadata": {},
   "outputs": [],
   "source": [
    "teste_trata_reader2.teste_context_reader()\n"
   ]
  },
  {
   "cell_type": "code",
   "execution_count": null,
   "metadata": {},
   "outputs": [],
   "source": []
  },
  {
   "cell_type": "code",
   "execution_count": null,
   "metadata": {},
   "outputs": [],
   "source": [
    "squad_related.avaliar_dataset_squad_1_1(squad_dataset_pt)"
   ]
  },
  {
   "cell_type": "code",
   "execution_count": null,
   "metadata": {},
   "outputs": [],
   "source": [
    "squad_related.avaliar_dataset_squad_1_1(squad_dataset_en)"
   ]
  },
  {
   "cell_type": "markdown",
   "metadata": {},
   "source": [
    "## Avaliação"
   ]
  },
  {
   "cell_type": "code",
   "execution_count": null,
   "metadata": {},
   "outputs": [],
   "source": [
    "import importlib\n",
    "importlib.reload(squad_evaluate_v1_1)"
   ]
  },
  {
   "cell_type": "code",
   "execution_count": null,
   "metadata": {},
   "outputs": [],
   "source": [
    "dict_config = {\"doc_stride\":128,\\\n",
    "               \"top_k\":3, \\\n",
    "               \"max_answer_length\":30, \\\n",
    "               \"handle_impossible_answer\":False}"
   ]
  },
  {
   "cell_type": "code",
   "execution_count": null,
   "metadata": {},
   "outputs": [],
   "source": [
    "resultado_en = squad_evaluate_v1_1.evaluate_transfer(parm_dataset=squad_dataset_en, dict_config=dict_config)\n",
    "print(resultado_en)"
   ]
  },
  {
   "cell_type": "code",
   "execution_count": null,
   "metadata": {},
   "outputs": [],
   "source": [
    "raise Exception(f\"Cells bellow can not be executed. It is just for history reasons.\")"
   ]
  },
  {
   "cell_type": "markdown",
   "metadata": {},
   "source": [
    "## Outas execuções"
   ]
  },
  {
   "cell_type": "code",
   "execution_count": null,
   "metadata": {},
   "outputs": [],
   "source": [
    "resultado_pt = squad_evaluate_v1_1.evaluate_transfer(squad_dataset_pt)\n",
    "print(resultado_pt)"
   ]
  },
  {
   "cell_type": "code",
   "execution_count": null,
   "metadata": {},
   "outputs": [],
   "source": [
    "resultado_en = squad_evaluate_v1_1.evaluate_transfer(squad_dataset_en)\n",
    "print(resultado_en)"
   ]
  },
  {
   "cell_type": "markdown",
   "metadata": {},
   "source": [
    " self.doc_stride = 30\n",
    " \n",
    " tamanho_max_resposta = 40\n",
    " \n",
    " self.handle_impossible_answer = False"
   ]
  },
  {
   "cell_type": "code",
   "execution_count": null,
   "metadata": {},
   "outputs": [],
   "source": [
    "resultado_en = squad_evaluate_v1_1.evaluate_transfer(squad_dataset_en)\n",
    "print(resultado_en)"
   ]
  },
  {
   "cell_type": "code",
   "execution_count": null,
   "metadata": {},
   "outputs": [],
   "source": [
    "resultado_pt = squad_evaluate_v1_1.evaluate_transfer(squad_dataset_pt)\n",
    "print(resultado_pt)"
   ]
  }
 ],
 "metadata": {
  "interpreter": {
   "hash": "16b3c0ce748aace455bf65b029a476256c8ff6ef00bd218fbe4819ff37ebf33a"
  },
  "kernelspec": {
   "display_name": "Python 3.7.13 ('exqa-complearning')",
   "language": "python",
   "name": "python3"
  },
  "language_info": {
   "codemirror_mode": {
    "name": "ipython",
    "version": 3
   },
   "file_extension": ".py",
   "mimetype": "text/x-python",
   "name": "python",
   "nbconvert_exporter": "python",
   "pygments_lexer": "ipython3",
   "version": "3.7.13"
  },
  "orig_nbformat": 4,
  "vscode": {
   "interpreter": {
    "hash": "5184730958793e1dccf3f74528df7bd8b01cfba5fc8480fa69f8e22885c01e0d"
   }
  }
 },
 "nbformat": 4,
 "nbformat_minor": 2
}
