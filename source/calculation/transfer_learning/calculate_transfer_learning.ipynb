{
 "cells": [
  {
   "cell_type": "markdown",
   "metadata": {},
   "source": [
    "## Carregar datasets"
   ]
  },
  {
   "cell_type": "code",
   "execution_count": 1,
   "metadata": {},
   "outputs": [],
   "source": [
    "import os\n",
    "import sys\n",
    "sys.path.append(os.path.abspath('.'))\n",
    "sys.path.append(os.path.abspath(r'./.'))"
   ]
  },
  {
   "cell_type": "code",
   "execution_count": 2,
   "metadata": {},
   "outputs": [
    {
     "data": {
      "text/plain": [
       "'/home/borela/fontes/exqa-complearning/source/calculation/transfer_learning'"
      ]
     },
     "execution_count": 2,
     "metadata": {},
     "output_type": "execute_result"
    }
   ],
   "source": [
    "%pwd"
   ]
  },
  {
   "cell_type": "code",
   "execution_count": 3,
   "metadata": {},
   "outputs": [
    {
     "name": "stdout",
     "output_type": "stream",
     "text": [
      "/home/borela/fontes/exqa-complearning\n"
     ]
    }
   ],
   "source": [
    "%cd ../../.."
   ]
  },
  {
   "cell_type": "code",
   "execution_count": 4,
   "metadata": {},
   "outputs": [],
   "source": [
    "from source.data_related import squad_related\n"
   ]
  },
  {
   "cell_type": "code",
   "execution_count": 5,
   "metadata": {},
   "outputs": [
    {
     "name": "stderr",
     "output_type": "stream",
     "text": [
      "/home/borela/miniconda3/envs/exqa-complearning/lib/python3.7/site-packages/tqdm/auto.py:22: TqdmWarning: IProgress not found. Please update jupyter and ipywidgets. See https://ipywidgets.readthedocs.io/en/stable/user_install.html\n",
      "  from .autonotebook import tqdm as notebook_tqdm\n"
     ]
    }
   ],
   "source": [
    "from source.calculation.transfer_learning import squad_evaluate_v1_1"
   ]
  },
  {
   "cell_type": "code",
   "execution_count": 6,
   "metadata": {},
   "outputs": [
    {
     "data": {
      "text/plain": [
       "<module 'source.calculation.transfer_learning.squad_evaluate_v1_1' from '/home/borela/fontes/exqa-complearning/source/calculation/transfer_learning/squad_evaluate_v1_1.py'>"
      ]
     },
     "execution_count": 6,
     "metadata": {},
     "output_type": "execute_result"
    }
   ],
   "source": [
    "import importlib\n",
    "importlib.reload(squad_evaluate_v1_1)"
   ]
  },
  {
   "cell_type": "code",
   "execution_count": 7,
   "metadata": {},
   "outputs": [],
   "source": [
    "squad_dataset_en = squad_related.carregar_squad_1_1(parm_language='en')"
   ]
  },
  {
   "cell_type": "code",
   "execution_count": 17,
   "metadata": {},
   "outputs": [],
   "source": [
    "squad_dataset_pt = squad_related.carregar_squad_1_1(parm_language='pt')"
   ]
  },
  {
   "cell_type": "code",
   "execution_count": 19,
   "metadata": {},
   "outputs": [
    {
     "name": "stdout",
     "output_type": "stream",
     "text": [
      "Levantando quantitativo e verificando inconsistências no dataset dev-v1.1-pt.json\n",
      "Totais artigos:48 paragrafos:5644 perguntas:10570 respostas:31168\n",
      "Erros perguntas: repetidas 0\n",
      "Erro respostas fora do texto: 0 fora da posição 0\n"
     ]
    }
   ],
   "source": [
    "squad_related.avaliar_dataset_squad_1_1(squad_dataset_pt)"
   ]
  },
  {
   "cell_type": "code",
   "execution_count": 9,
   "metadata": {},
   "outputs": [
    {
     "name": "stdout",
     "output_type": "stream",
     "text": [
      "Levantando quantitativo e verificando inconsistências no dataset dev-v1.1-pt.json\n",
      "Totais artigos:48 paragrafos:5644 perguntas:13075 respostas:34726\n",
      "Erros perguntas: repetidas 2505 excluídas 2505\n",
      "Erro respostas fora do texto: 0 fora da posição 0\n"
     ]
    }
   ],
   "source": [
    "squad_related.excluir_duplicata_dataset_squad_1_1(squad_dataset_pt)"
   ]
  },
  {
   "cell_type": "code",
   "execution_count": 10,
   "metadata": {},
   "outputs": [],
   "source": [
    "import json"
   ]
  },
  {
   "cell_type": "code",
   "execution_count": 13,
   "metadata": {},
   "outputs": [],
   "source": [
    "path_project = '/home/borela/fontes/exqa-complearning/'\n",
    "path_dataset_file = path_project+\"data/dataset/squad/dev-v1.1-pt.json\"\n",
    "dict_json = {\"version\": \"1.1\"}\n"
   ]
  },
  {
   "cell_type": "code",
   "execution_count": 14,
   "metadata": {},
   "outputs": [],
   "source": [
    "dict_json['data']=squad_dataset_pt.data\n"
   ]
  },
  {
   "cell_type": "code",
   "execution_count": 16,
   "metadata": {},
   "outputs": [],
   "source": [
    "with open(path_dataset_file,'w', encoding='utf-8') as dataset_file:\n",
    "    json.dump(dict_json, dataset_file)\n"
   ]
  },
  {
   "cell_type": "markdown",
   "metadata": {},
   "source": [
    "## Avaliação"
   ]
  },
  {
   "cell_type": "code",
   "execution_count": 10,
   "metadata": {},
   "outputs": [
    {
     "name": "stdout",
     "output_type": "stream",
     "text": [
      "{'doc_stride': 128, 'handle_impossible_answer': False, 'max_answer_length': 30, 'max_seq_len': 512}\n"
     ]
    },
    {
     "name": "stderr",
     "output_type": "stream",
     "text": [
      "/home/borela/miniconda3/envs/exqa-complearning/lib/python3.7/site-packages/transformers/pipelines/base.py:1015: UserWarning: You seem to be using the pipelines sequentially on GPU. In order to maximize efficiency please use a dataset\n",
      "  UserWarning,\n"
     ]
    },
    {
     "name": "stdout",
     "output_type": "stream",
     "text": [
      "{'exact_match': 72.403, 'f1': 83.2874, 'duration total': 2794.6071, 'duration per question': 0.2644}\n",
      "{'exact_match': 72.403, 'f1': 83.2874, 'duration total': 2794.6071, 'duration per question': 0.2644}\n"
     ]
    }
   ],
   "source": [
    "resultado_pt = squad_evaluate_v1_1.evaluate_finetuning(squad_dataset_pt)\n",
    "print(resultado_pt)"
   ]
  },
  {
   "cell_type": "code",
   "execution_count": 11,
   "metadata": {},
   "outputs": [
    {
     "name": "stdout",
     "output_type": "stream",
     "text": [
      "{'doc_stride': 128, 'handle_impossible_answer': False, 'max_answer_length': 30, 'max_seq_len': 512}\n",
      "{'exact_match': 78.3822, 'f1': 85.971, 'duration total': 2462.6602, 'duration per question': 0.233}\n",
      "{'exact_match': 78.3822, 'f1': 85.971, 'duration total': 2462.6602, 'duration per question': 0.233}\n"
     ]
    }
   ],
   "source": [
    "resultado_en = squad_evaluate_v1_1.evaluate_finetuning(squad_dataset_en)\n",
    "print(resultado_en)"
   ]
  },
  {
   "cell_type": "markdown",
   "metadata": {},
   "source": [
    "## Outas execuções"
   ]
  },
  {
   "cell_type": "markdown",
   "metadata": {},
   "source": [
    " self.doc_stride = 30\n",
    " \n",
    " tamanho_max_resposta = 40\n",
    " \n",
    " self.handle_impossible_answer = False"
   ]
  },
  {
   "cell_type": "code",
   "execution_count": null,
   "metadata": {},
   "outputs": [
    {
     "name": "stderr",
     "output_type": "stream",
     "text": [
      "/home/borela/miniconda3/envs/relevar-busca/lib/python3.7/site-packages/transformers/pipelines/base.py:1015: UserWarning: You seem to be using the pipelines sequentially on GPU. In order to maximize efficiency please use a dataset\n",
      "  UserWarning,\n"
     ]
    },
    {
     "name": "stdout",
     "output_type": "stream",
     "text": [
      "{'exact_match': 78.3349, 'f1': 85.9158, 'duration': 2368.3389, 'questions': 10570}\n"
     ]
    }
   ],
   "source": [
    "resultado_en = squad_evaluate_v1_1.evaluate_finetuning(squad_dataset_en)\n",
    "print(resultado_en)"
   ]
  },
  {
   "cell_type": "code",
   "execution_count": null,
   "metadata": {},
   "outputs": [
    {
     "name": "stdout",
     "output_type": "stream",
     "text": [
      "{'exact_match': 72.3936, 'f1': 83.2695, 'duration': 2694.1018, 'questions': 10570}\n"
     ]
    }
   ],
   "source": [
    "resultado_pt = squad_evaluate_v1_1.evaluate_finetuning(squad_dataset_pt)\n",
    "print(resultado_pt)"
   ]
  }
 ],
 "metadata": {
  "interpreter": {
   "hash": "16b3c0ce748aace455bf65b029a476256c8ff6ef00bd218fbe4819ff37ebf33a"
  },
  "kernelspec": {
   "display_name": "Python 3.7.13 ('exqa-complearning')",
   "language": "python",
   "name": "python3"
  },
  "language_info": {
   "codemirror_mode": {
    "name": "ipython",
    "version": 3
   },
   "file_extension": ".py",
   "mimetype": "text/x-python",
   "name": "python",
   "nbconvert_exporter": "python",
   "pygments_lexer": "ipython3",
   "version": "3.7.13"
  },
  "orig_nbformat": 4,
  "vscode": {
   "interpreter": {
    "hash": "5184730958793e1dccf3f74528df7bd8b01cfba5fc8480fa69f8e22885c01e0d"
   }
  }
 },
 "nbformat": 4,
 "nbformat_minor": 2
}
