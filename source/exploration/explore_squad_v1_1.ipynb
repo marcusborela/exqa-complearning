{
 "cells": [
  {
   "cell_type": "markdown",
   "metadata": {},
   "source": [
    "## Explore Squad v1.1"
   ]
  },
  {
   "cell_type": "code",
   "execution_count": 1,
   "metadata": {},
   "outputs": [],
   "source": [
    "import json"
   ]
  },
  {
   "cell_type": "code",
   "execution_count": 2,
   "metadata": {},
   "outputs": [
    {
     "name": "stdout",
     "output_type": "stream",
     "text": [
      "['/home/borela/fontes/exqa-complearning/source/exploration', '/home/borela/miniconda3/envs/relevar-busca/lib/python37.zip', '/home/borela/miniconda3/envs/relevar-busca/lib/python3.7', '/home/borela/miniconda3/envs/relevar-busca/lib/python3.7/lib-dynload', '', '/home/borela/miniconda3/envs/relevar-busca/lib/python3.7/site-packages', '/home/borela/miniconda3/envs/relevar-busca/lib/python3.7/site-packages/IPython/extensions', '/home/borela/.ipython', '/home/borela/fontes/exqa-complearning/source/exploration', '/home/borela/fontes/exqa-complearning/source', '/home/borela/fontes/exqa-complearning']\n"
     ]
    }
   ],
   "source": [
    "import os, sys\n",
    "\n",
    "\n",
    "sys.path.append(os.path.abspath('.'))\n",
    "sys.path.append(os.path.abspath('..'))\n",
    "sys.path.append(os.path.abspath(r'../..'))\n",
    "print(sys.path)"
   ]
  },
  {
   "cell_type": "code",
   "execution_count": 11,
   "metadata": {},
   "outputs": [
    {
     "name": "stdout",
     "output_type": "stream",
     "text": [
      "/home/borela/fontes/exqa-complearning\n"
     ]
    }
   ],
   "source": [
    "%cd ../..\n"
   ]
  },
  {
   "cell_type": "code",
   "execution_count": 12,
   "metadata": {},
   "outputs": [
    {
     "data": {
      "text/plain": [
       "'/home/borela/fontes/exqa-complearning'"
      ]
     },
     "execution_count": 12,
     "metadata": {},
     "output_type": "execute_result"
    }
   ],
   "source": [
    "%pwd"
   ]
  },
  {
   "cell_type": "markdown",
   "metadata": {},
   "source": [
    "from datasets import load_dataset\n",
    "\n",
    "dataset = load_dataset(\"squad\")\n"
   ]
  },
  {
   "cell_type": "code",
   "execution_count": 34,
   "metadata": {},
   "outputs": [
    {
     "data": {
      "text/plain": [
       "(48, 48)"
      ]
     },
     "execution_count": 34,
     "metadata": {},
     "output_type": "execute_result"
    }
   ],
   "source": [
    "len(dataset_en),  len(dataset_pt)\n"
   ]
  },
  {
   "cell_type": "code",
   "execution_count": 35,
   "metadata": {},
   "outputs": [
    {
     "data": {
      "text/plain": [
       "(dict_keys(['title', 'paragraphs']), dict_keys(['title', 'paragraphs']))"
      ]
     },
     "execution_count": 35,
     "metadata": {},
     "output_type": "execute_result"
    }
   ],
   "source": [
    "dataset_en[0].keys(),dataset_pt[0].keys()"
   ]
  },
  {
   "cell_type": "code",
   "execution_count": 36,
   "metadata": {},
   "outputs": [
    {
     "data": {
      "text/plain": [
       "(dict_keys(['context', 'qas']),\n",
       " dict_keys(['context', 'qas', 'context_original']))"
      ]
     },
     "execution_count": 36,
     "metadata": {},
     "output_type": "execute_result"
    }
   ],
   "source": [
    "dataset_en[0]['paragraphs'][1].keys(), dataset_pt[0]['paragraphs'][1].keys()"
   ]
  },
  {
   "cell_type": "code",
   "execution_count": 37,
   "metadata": {},
   "outputs": [
    {
     "data": {
      "text/plain": [
       "(dict_keys(['answers', 'question', 'id']),\n",
       " dict_keys(['answers', 'question', 'id', 'question_original']))"
      ]
     },
     "execution_count": 37,
     "metadata": {},
     "output_type": "execute_result"
    }
   ],
   "source": [
    "dataset_en[0]['paragraphs'][1]['qas'][0].keys(), dataset_pt[0]['paragraphs'][1]['qas'][0].keys()"
   ]
  },
  {
   "cell_type": "code",
   "execution_count": 38,
   "metadata": {},
   "outputs": [
    {
     "data": {
      "text/plain": [
       "(dict_keys(['answer_start', 'text']),\n",
       " dict_keys(['answer_start', 'text', 'answer_start_original', 'text_original']))"
      ]
     },
     "execution_count": 38,
     "metadata": {},
     "output_type": "execute_result"
    }
   ],
   "source": [
    "dataset_en[0]['paragraphs'][1]['qas'][0]['answers'][0].keys(), dataset_pt[0]['paragraphs'][1]['qas'][0]['answers'][0].keys()"
   ]
  },
  {
   "cell_type": "code",
   "execution_count": 153,
   "metadata": {},
   "outputs": [
    {
     "ename": "NameError",
     "evalue": "name 'dataset_en' is not defined",
     "output_type": "error",
     "traceback": [
      "\u001b[0;31m---------------------------------------------------------------------------\u001b[0m",
      "\u001b[0;31mNameError\u001b[0m                                 Traceback (most recent call last)",
      "\u001b[0;32m/tmp/ipykernel_3898008/160642258.py\u001b[0m in \u001b[0;36m<module>\u001b[0;34m\u001b[0m\n\u001b[0;32m----> 1\u001b[0;31m \u001b[0mimprimir_exemplo_dataset_squad_1_1\u001b[0m\u001b[0;34m(\u001b[0m\u001b[0mdataset_en\u001b[0m\u001b[0;34m,\u001b[0m \u001b[0mnome_dataset_en\u001b[0m\u001b[0;34m)\u001b[0m\u001b[0;34m\u001b[0m\u001b[0;34m\u001b[0m\u001b[0m\n\u001b[0m",
      "\u001b[0;32m~/fontes/exqa-complearning/source/data_related/squad_related.py\u001b[0m in \u001b[0;36mimprimir_exemplo_dataset_squad_1_1\u001b[0;34m(parm_dataset, parm_nome)\u001b[0m\n\u001b[1;32m     48\u001b[0m \u001b[0;34m\u001b[0m\u001b[0m\n\u001b[1;32m     49\u001b[0m \u001b[0;32mdef\u001b[0m \u001b[0mimprimir_exemplo_dataset_squad_1_1\u001b[0m\u001b[0;34m(\u001b[0m\u001b[0mparm_dataset\u001b[0m\u001b[0;34m,\u001b[0m \u001b[0mparm_nome\u001b[0m\u001b[0;34m)\u001b[0m\u001b[0;34m:\u001b[0m\u001b[0;34m\u001b[0m\u001b[0;34m\u001b[0m\u001b[0m\n\u001b[0;32m---> 50\u001b[0;31m     \u001b[0mprint\u001b[0m\u001b[0;34m(\u001b[0m\u001b[0;34mf\"Dataset {parm_nome} \\n#artigos: {len(dataset_en)}\"\u001b[0m\u001b[0;34m)\u001b[0m\u001b[0;34m\u001b[0m\u001b[0;34m\u001b[0m\u001b[0m\n\u001b[0m\u001b[1;32m     51\u001b[0m     \u001b[0;32mfor\u001b[0m \u001b[0martigo\u001b[0m \u001b[0;32min\u001b[0m \u001b[0mparm_dataset\u001b[0m\u001b[0;34m:\u001b[0m\u001b[0;34m\u001b[0m\u001b[0;34m\u001b[0m\u001b[0m\n\u001b[1;32m     52\u001b[0m         \u001b[0mprint\u001b[0m\u001b[0;34m(\u001b[0m\u001b[0;34mf\"\\n****** artigo ****** \\n  {artigo.keys()} \\n  1o artigo \\n    #paragrafos {len(artigo['paragraphs'])};\\n    Artigo:\\n      {artigo['title']}, \"\u001b[0m\u001b[0;34m)\u001b[0m\u001b[0;34m\u001b[0m\u001b[0;34m\u001b[0m\u001b[0m\n",
      "\u001b[0;31mNameError\u001b[0m: name 'dataset_en' is not defined"
     ]
    }
   ],
   "source": [
    "imprimir_exemplo_dataset_squad_1_1(dataset_en, nome_dataset_en)"
   ]
  },
  {
   "cell_type": "code",
   "execution_count": 108,
   "metadata": {},
   "outputs": [
    {
     "name": "stdout",
     "output_type": "stream",
     "text": [
      "Levantando quantitativo e verificando inconsistências no dataset dev-v1.1.json\n",
      "Totais artigos:48 paragrafos:2067 perguntas:10570 respostas:34726\n",
      "Erros perguntas: repetidas 0 excluídas 0\n",
      "Erro respostas fora do texto: 0 fora da posição 0\n"
     ]
    }
   ],
   "source": [
    "avaliar_dataset_squad_1_1(dataset_en, nome_dataset_en )"
   ]
  },
  {
   "cell_type": "code",
   "execution_count": 111,
   "metadata": {},
   "outputs": [
    {
     "name": "stdout",
     "output_type": "stream",
     "text": [
      "Levantando quantitativo e verificando inconsistências no dataset dev-v1.1-pt.json\n",
      "Totais artigos:48 paragrafos:5644 perguntas:10570 respostas:31168\n",
      "Erros perguntas: repetidas 0 excluídas 0\n",
      "Erro respostas fora do texto: 0 fora da posição 0\n"
     ]
    }
   ],
   "source": [
    "avaliar_dataset_squad_1_1(dataset_pt, nome_dataset_pt )"
   ]
  },
  {
   "cell_type": "code",
   "execution_count": 128,
   "metadata": {},
   "outputs": [
    {
     "name": "stderr",
     "output_type": "stream",
     "text": [
      "/home/borela/miniconda3/envs/relevar-busca/lib/python3.7/site-packages/transformers/pipelines/base.py:1015: UserWarning: You seem to be using the pipelines sequentially on GPU. In order to maximize efficiency please use a dataset\n",
      "  UserWarning,\n"
     ]
    },
    {
     "name": "stdout",
     "output_type": "stream",
     "text": [
      "{'exact_match': 78.3349, 'f1': 85.9158, 'duration': 2368.3389, 'questions': 10570}\n"
     ]
    }
   ],
   "source": [
    " = squad_evaluate_v1_1.evaluate_finetuning(dataset_en, reader_en)resultado_en"
   ]
  },
  {
   "cell_type": "code",
   "execution_count": 129,
   "metadata": {},
   "outputs": [
    {
     "name": "stdout",
     "output_type": "stream",
     "text": [
      "{'exact_match': 78.3349, 'f1': 85.9158, 'duration': 2368.3389, 'questions': 10570}\n"
     ]
    }
   ],
   "source": [
    "print(resultado_en)"
   ]
  },
  {
   "cell_type": "code",
   "execution_count": 130,
   "metadata": {},
   "outputs": [
    {
     "name": "stdout",
     "output_type": "stream",
     "text": [
      "{'exact_match': 72.3936, 'f1': 83.2695, 'duration': 2694.1018, 'questions': 10570}\n"
     ]
    }
   ],
   "source": [
    "resultado_pt = squad_evaluate_v1_1.evaluate_finetuning(dataset_pt, reader_pt)"
   ]
  },
  {
   "cell_type": "code",
   "execution_count": 131,
   "metadata": {},
   "outputs": [
    {
     "name": "stdout",
     "output_type": "stream",
     "text": [
      "{'exact_match': 72.3936, 'f1': 83.2695, 'duration': 2694.1018, 'questions': 10570}\n"
     ]
    }
   ],
   "source": [
    "print(resultado_pt)"
   ]
  }
 ],
 "metadata": {
  "interpreter": {
   "hash": "45978bf3509deeb93161d1472b16f82a40245d44c2beae6c63ad8f9bb3f69171"
  },
  "kernelspec": {
   "display_name": "Python 3.7.11 ('relevar-busca')",
   "language": "python",
   "name": "python3"
  },
  "language_info": {
   "codemirror_mode": {
    "name": "ipython",
    "version": 3
   },
   "file_extension": ".py",
   "mimetype": "text/x-python",
   "name": "python",
   "nbconvert_exporter": "python",
   "pygments_lexer": "ipython3",
   "version": "3.7.13"
  },
  "orig_nbformat": 4,
  "vscode": {
   "interpreter": {
    "hash": "5184730958793e1dccf3f74528df7bd8b01cfba5fc8480fa69f8e22885c01e0d"
   }
  }
 },
 "nbformat": 4,
 "nbformat_minor": 2
}
