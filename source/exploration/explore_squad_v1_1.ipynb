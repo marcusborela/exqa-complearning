{
 "cells": [
  {
   "cell_type": "markdown",
   "metadata": {},
   "source": [
    "## Explore Squad v1.1"
   ]
  },
  {
   "cell_type": "code",
   "execution_count": 112,
   "metadata": {},
   "outputs": [],
   "source": [
    "import json"
   ]
  },
  {
   "cell_type": "code",
   "execution_count": 27,
   "metadata": {},
   "outputs": [
    {
     "name": "stdout",
     "output_type": "stream",
     "text": [
      "['/home/borela/fontes/exqa-complearning/source/exploration', '/home/borela/miniconda3/envs/relevar-busca/lib/python37.zip', '/home/borela/miniconda3/envs/relevar-busca/lib/python3.7', '/home/borela/miniconda3/envs/relevar-busca/lib/python3.7/lib-dynload', '', '/home/borela/miniconda3/envs/relevar-busca/lib/python3.7/site-packages', '/home/borela/miniconda3/envs/relevar-busca/lib/python3.7/site-packages/IPython/extensions', '/home/borela/.ipython', '/home/borela/fontes/exqa-complearning/source/exploration', '/home/borela/fontes/exqa-complearning/source/exploration/.\\\\.', '/home/borela/fontes/exqa-complearning/source/exploration', '/home/borela/fontes/exqa-complearning/source/exploration', '/home/borela/fontes/exqa-complearning/source/exploration', '/home/borela/fontes/exqa-complearning/source/exploration', '/home/borela/fontes/exqa-complearning/source/exploration', '/home/borela/fontes/exqa-complearning/source/exploration/.\\\\.', '/home/borela/fontes/exqa-complearning/source/exploration', '/home/borela/fontes/exqa-complearning/source/exploration', '/home/borela/fontes/exqa-complearning/source/exploration/~/fontes/exqa-complearning', '/home/borela/fontes', '/home/borela/fontes', '/home/borela', '/home/borela/fontes/exqa-complearning', '/home/borela/fontes', '/home/borela']\n"
     ]
    }
   ],
   "source": [
    "import os, sys\n",
    "path_project = '~/fontes/exqa-complearning/'\n",
    "\n",
    "sys.path.append(os.path.abspath('.'))\n",
    "sys.path.append(os.path.abspath('..'))\n",
    "sys.path.append(os.path.abspath(r'../..'))\n",
    "print(sys.path)"
   ]
  },
  {
   "cell_type": "code",
   "execution_count": 23,
   "metadata": {},
   "outputs": [
    {
     "name": "stdout",
     "output_type": "stream",
     "text": [
      "/home/borela/fontes/exqa-complearning\n"
     ]
    }
   ],
   "source": [
    "%cd ..\n"
   ]
  },
  {
   "cell_type": "code",
   "execution_count": 28,
   "metadata": {},
   "outputs": [
    {
     "data": {
      "text/plain": [
       "'/home/borela/fontes/exqa-complearning'"
      ]
     },
     "execution_count": 28,
     "metadata": {},
     "output_type": "execute_result"
    }
   ],
   "source": [
    "%pwd"
   ]
  },
  {
   "cell_type": "code",
   "execution_count": 30,
   "metadata": {},
   "outputs": [
    {
     "name": "stderr",
     "output_type": "stream",
     "text": [
      "100%|██████████| 48/48 [00:02<00:00, 23.14it/s]"
     ]
    },
    {
     "name": "stdout",
     "output_type": "stream",
     "text": [
      "10570\n"
     ]
    },
    {
     "name": "stderr",
     "output_type": "stream",
     "text": [
      "\n"
     ]
    }
   ],
   "source": [
    "from transformers.data.processors.squad import SquadV1Processor # SquadV2Processor\n",
    "\n",
    "processor = SquadV1Processor()\n",
    "examples = processor.get_dev_examples(\"data/dataset/squad/\", filename=\"dev-v1.1.json\")\n",
    "print(len(examples))"
   ]
  },
  {
   "cell_type": "code",
   "execution_count": 31,
   "metadata": {},
   "outputs": [],
   "source": [
    "def display_example(qid):    \n",
    "    from pprint import pprint\n",
    "\n",
    "    idx = qid_to_example_index[qid]\n",
    "    q = examples[idx].question_text\n",
    "    c = examples[idx].context_text\n",
    "    a = [answer['text'] for answer in examples[idx].answers]\n",
    "    \n",
    "    print(f'Example {idx} of {len(examples)}\\n---------------------')\n",
    "    print(f\"Q: {q}\\n\")\n",
    "    print(\"Context:\")\n",
    "    pprint(c)\n",
    "    print(f\"\\nTrue Answers:\\n{a}\")\n",
    "\n"
   ]
  },
  {
   "cell_type": "code",
   "execution_count": 32,
   "metadata": {},
   "outputs": [],
   "source": [
    "    \n",
    "# generate some maps to help us identify examples of interest\n",
    "qid_to_example_index = {example.qas_id: i for i, example in enumerate(examples)}\n",
    "qid_to_has_answer = {example.qas_id: bool(example.answers) for example in examples}\n",
    "answer_qids = [qas_id for qas_id, has_answer in qid_to_has_answer.items() if has_answer]\n",
    "# no_answer_qids = [qas_id for qas_id, has_answer in qid_to_has_answer.items() if not has_answer]\n"
   ]
  },
  {
   "cell_type": "code",
   "execution_count": 33,
   "metadata": {},
   "outputs": [
    {
     "name": "stdout",
     "output_type": "stream",
     "text": [
      "Example 1300 of 10570\n",
      "---------------------\n",
      "Q: Where was the  Continental Edison Company located?\n",
      "\n",
      "Context:\n",
      "('In 1882, Tesla began working for the Continental Edison Company in France, '\n",
      " 'designing and making improvements to electrical equipment. In June 1884, he '\n",
      " 'relocated to New York City:57–60 where he was hired by Thomas Edison to work '\n",
      " \"at his Edison Machine Works on Manhattan's lower east side. Tesla's work for \"\n",
      " 'Edison began with simple electrical engineering and quickly progressed to '\n",
      " 'solving more difficult problems.')\n",
      "\n",
      "True Answers:\n",
      "['France', 'in France', 'France']\n"
     ]
    }
   ],
   "source": [
    "display_example(answer_qids[1300])\n"
   ]
  },
  {
   "cell_type": "code",
   "execution_count": 43,
   "metadata": {},
   "outputs": [
    {
     "data": {
      "text/plain": [
       "('56e0d54a7aa994140058e76a', str)"
      ]
     },
     "execution_count": 43,
     "metadata": {},
     "output_type": "execute_result"
    }
   ],
   "source": [
    "answer_qids[1300], type(answer_qids[1300])"
   ]
  },
  {
   "cell_type": "code",
   "execution_count": 44,
   "metadata": {},
   "outputs": [],
   "source": [
    "qid = answer_qids[1300]"
   ]
  },
  {
   "cell_type": "code",
   "execution_count": 45,
   "metadata": {},
   "outputs": [
    {
     "data": {
      "text/plain": [
       "('Where was the  Continental Edison Company located?',\n",
       " \"In 1882, Tesla began working for the Continental Edison Company in France, designing and making improvements to electrical equipment. In June 1884, he relocated to New York City:57–60 where he was hired by Thomas Edison to work at his Edison Machine Works on Manhattan's lower east side. Tesla's work for Edison began with simple electrical engineering and quickly progressed to solving more difficult problems.\")"
      ]
     },
     "execution_count": 45,
     "metadata": {},
     "output_type": "execute_result"
    }
   ],
   "source": [
    "idx = qid_to_example_index[qid]\n",
    "q = examples[idx].question_text\n",
    "c = examples[idx].context_text\n",
    "a = [answer['text'] for answer in examples[idx].answers]\n",
    "q, c\n"
   ]
  },
  {
   "cell_type": "code",
   "execution_count": 36,
   "metadata": {},
   "outputs": [],
   "source": [
    "import copy\n"
   ]
  },
  {
   "cell_type": "code",
   "execution_count": 37,
   "metadata": {},
   "outputs": [
    {
     "name": "stdout",
     "output_type": "stream",
     "text": [
      "modelo reader inicializados: pierreguillou/bert-large-cased-squad-v1.1-portuguese Hora: [2022-Jun-26 18:46:28]\n"
     ]
    }
   ],
   "source": [
    "from source.fine_tuning.responder_extracao import responder_extracao, json_exemplo  # pylint: disable=wrong-import-position # precisa dos sys.path antes\n",
    "from source.fine_tuning.modelo_reader import lista_modelos_reader"
   ]
  },
  {
   "cell_type": "code",
   "execution_count": 38,
   "metadata": {},
   "outputs": [],
   "source": [
    "json_fine_tuning = copy.deepcopy(json_exemplo)\n",
    "json_fine_tuning[\"tamanho_max_resposta\"] = 30\n",
    "json_fine_tuning['texto_pergunta'] = q\n",
    "json_fine_tuning['texto_contexto'] = c"
   ]
  },
  {
   "cell_type": "code",
   "execution_count": 49,
   "metadata": {},
   "outputs": [
    {
     "data": {
      "text/plain": [
       "{'texto_pergunta': 'Where was the  Continental Edison Company located?',\n",
       " 'top_k_reader': 3,\n",
       " 'tamanho_max_resposta': 30,\n",
       " 'texto_contexto': \"In 1882, Tesla began working for the Continental Edison Company in France, designing and making improvements to electrical equipment. In June 1884, he relocated to New York City:57–60 where he was hired by Thomas Edison to work at his Edison Machine Works on Manhattan's lower east side. Tesla's work for Edison began with simple electrical engineering and quickly progressed to solving more difficult problems.\",\n",
       " 'sigla_modelo_reader': 'pierreguillou/bert-large-cased-squad-v1.1-portuguese'}"
      ]
     },
     "execution_count": 49,
     "metadata": {},
     "output_type": "execute_result"
    }
   ],
   "source": [
    "json_fine_tuning"
   ]
  },
  {
   "cell_type": "code",
   "execution_count": 48,
   "metadata": {},
   "outputs": [
    {
     "name": "stdout",
     "output_type": "stream",
     "text": [
      "resposta {'lista_sugestao_resposta': [{'texto_resposta': 'New York City:57–60', 'score': 0.9129816889762878, 'lista_referencia': [[164, 183]]}, {'texto_resposta': 'New York City:57–60 where he was hired by Thomas Edison to work at his Edison Machine Works', 'score': 0.0031480903271585703, 'lista_referencia': [[164, 255]]}]}\n"
     ]
    }
   ],
   "source": [
    "resposta = responder_extracao(json_fine_tuning)\n",
    "print(f\"resposta {resposta}\")\n"
   ]
  },
  {
   "cell_type": "code",
   "execution_count": 51,
   "metadata": {},
   "outputs": [],
   "source": [
    "json_fine_tuning['texto_pergunta']  = \"Em 1882, Tesla começou a trabalhar para a Continental Edison Company na França, projetando e fazendo melhorias em equipamentos elétricos. Em junho de 1884, ele se mudou para Nova York: 57-60, onde foi contratado por Thomas Edison para trabalhar em sua Edison Machine Works, no lado leste inferior de Manhattan. O trabalho de Tesla para Edison começou com engenharia elétrica simples e rapidamente progrediu para resolver problemas mais difíceis.\"\n",
    "json_fine_tuning['texto_contexto'] = \"Onde estava localizada a Continental Edison Company?\""
   ]
  },
  {
   "cell_type": "code",
   "execution_count": 50,
   "metadata": {},
   "outputs": [
    {
     "data": {
      "text/plain": [
       "['France', 'in France', 'France']"
      ]
     },
     "execution_count": 50,
     "metadata": {},
     "output_type": "execute_result"
    }
   ],
   "source": [
    "a"
   ]
  },
  {
   "cell_type": "code",
   "execution_count": 52,
   "metadata": {},
   "outputs": [
    {
     "name": "stdout",
     "output_type": "stream",
     "text": [
      "resposta {'lista_sugestao_resposta': [{'texto_resposta': '', 'score': 0.22037574648857117, 'lista_referencia': [[0, 0]]}, {'texto_resposta': 'Onde estava localizada a Continental Edison Company?', 'score': 0.02530529536306858, 'lista_referencia': [[0, 51]]}, {'texto_resposta': 'localizada a Continental Edison Company?', 'score': 0.01168345008045435, 'lista_referencia': [[12, 51]]}]}\n"
     ]
    }
   ],
   "source": [
    "resposta = responder_extracao(json_fine_tuning)\n",
    "print(f\"resposta {resposta}\")\n"
   ]
  },
  {
   "cell_type": "code",
   "execution_count": 98,
   "metadata": {},
   "outputs": [],
   "source": [
    "from source.calculation.metric import qa_metric\n",
    "# exact_match_score, f1_score, metric_max_over_ground_truths\n"
   ]
  },
  {
   "cell_type": "code",
   "execution_count": 93,
   "metadata": {},
   "outputs": [],
   "source": [
    "import importlib\n"
   ]
  },
  {
   "cell_type": "code",
   "execution_count": 99,
   "metadata": {},
   "outputs": [
    {
     "name": "stdout",
     "output_type": "stream",
     "text": [
      "nova importação\n",
      "def\n"
     ]
    },
    {
     "data": {
      "text/plain": [
       "<module 'source.calculation.metric.qa_metric' from '/home/borela/fontes/exqa-complearning/source/calculation/metric/qa_metric.py'>"
      ]
     },
     "execution_count": 99,
     "metadata": {},
     "output_type": "execute_result"
    }
   ],
   "source": [
    "importlib.reload(qa_metric)"
   ]
  },
  {
   "cell_type": "code",
   "execution_count": 101,
   "metadata": {},
   "outputs": [
    {
     "data": {
      "text/plain": [
       "0"
      ]
     },
     "execution_count": 101,
     "metadata": {},
     "output_type": "execute_result"
    }
   ],
   "source": [
    "qa_metric.f1_score (prediction=resposta[1]['texto_resposta'],ground_truth=a[0])"
   ]
  },
  {
   "cell_type": "code",
   "execution_count": 104,
   "metadata": {},
   "outputs": [
    {
     "name": "stdout",
     "output_type": "stream",
     "text": [
      "nova importação\n",
      "def\n"
     ]
    },
    {
     "data": {
      "text/plain": [
       "0"
      ]
     },
     "execution_count": 104,
     "metadata": {},
     "output_type": "execute_result"
    }
   ],
   "source": [
    "qa_metric.exact_match_score(prediction=resposta[1]['texto_resposta'],ground_truth=a[0])"
   ]
  },
  {
   "cell_type": "code",
   "execution_count": 55,
   "metadata": {},
   "outputs": [
    {
     "data": {
      "text/plain": [
       "'Onde estava localizada a Continental Edison Company?'"
      ]
     },
     "execution_count": 55,
     "metadata": {},
     "output_type": "execute_result"
    }
   ],
   "source": [
    "resposta[1]['texto_resposta']"
   ]
  },
  {
   "cell_type": "code",
   "execution_count": 109,
   "metadata": {},
   "outputs": [
    {
     "data": {
      "text/plain": [
       "[1.0, 0.6666666666666666, 1.0]"
      ]
     },
     "execution_count": 109,
     "metadata": {},
     "output_type": "execute_result"
    }
   ],
   "source": [
    "qa_metric.metric_score_over_ground_truths(metric_fn= qa_metric.f1_score, prediction='france',ground_truths=a)"
   ]
  },
  {
   "cell_type": "code",
   "execution_count": 106,
   "metadata": {},
   "outputs": [
    {
     "data": {
      "text/plain": [
       "1.0"
      ]
     },
     "execution_count": 106,
     "metadata": {},
     "output_type": "execute_result"
    }
   ],
   "source": [
    "qa_metric.metric_max_over_ground_truths(metric_fn= qa_metric.f1_score, prediction='france',ground_truths=a)"
   ]
  },
  {
   "cell_type": "code",
   "execution_count": 119,
   "metadata": {},
   "outputs": [],
   "source": [
    "path_dataset_file = \"data/dataset/squad/dev-v1.1.json\"\n",
    "\n",
    "expected_version= '1.1'"
   ]
  },
  {
   "cell_type": "code",
   "execution_count": 120,
   "metadata": {},
   "outputs": [],
   "source": [
    "with open(path_dataset_file) as dataset_file:\n",
    "    dataset_json = json.load(dataset_file)\n",
    "    if (dataset_json['version'] != expected_version):\n",
    "        print('Evaluation expects v-' + expected_version +\n",
    "                ', but got dataset with v-' + dataset_json['version'],\n",
    "                file=sys.stderr)\n",
    "    dataset = dataset_json['data']\n"
   ]
  },
  {
   "cell_type": "code",
   "execution_count": 117,
   "metadata": {},
   "outputs": [
    {
     "data": {
      "text/plain": [
       "dict_keys(['data', 'version'])"
      ]
     },
     "execution_count": 117,
     "metadata": {},
     "output_type": "execute_result"
    }
   ],
   "source": [
    "dataset_json.keys()\n"
   ]
  },
  {
   "cell_type": "code",
   "execution_count": 121,
   "metadata": {},
   "outputs": [
    {
     "data": {
      "text/plain": [
       "48"
      ]
     },
     "execution_count": 121,
     "metadata": {},
     "output_type": "execute_result"
    }
   ],
   "source": [
    "len(dataset)\n"
   ]
  },
  {
   "cell_type": "code",
   "execution_count": 127,
   "metadata": {},
   "outputs": [
    {
     "data": {
      "text/plain": [
       "dict_keys(['title', 'paragraphs'])"
      ]
     },
     "execution_count": 127,
     "metadata": {},
     "output_type": "execute_result"
    }
   ],
   "source": [
    "dataset[0].keys()"
   ]
  },
  {
   "cell_type": "code",
   "execution_count": 126,
   "metadata": {},
   "outputs": [
    {
     "data": {
      "text/plain": [
       "dict_keys(['context', 'qas'])"
      ]
     },
     "execution_count": 126,
     "metadata": {},
     "output_type": "execute_result"
    }
   ],
   "source": [
    "dataset[0]['paragraphs'][1].keys()"
   ]
  },
  {
   "cell_type": "code",
   "execution_count": 142,
   "metadata": {},
   "outputs": [
    {
     "name": "stdout",
     "output_type": "stream",
     "text": [
      "Qtd artigos: 48\n",
      "Exemplo 1o artigo - Title: Super_Bowl_50, #paragrafos 54 \n",
      "Exemplo 1o paragrafo: qas: 30 Super Bowl 50 was an American football game to determine the champion of the National Football League (NFL) for the 2015 season. The American Football Conference (AFC) champion Denver Broncos defeated the National Football Conference (NFC) champion Carolina Panthers 24–10 to earn their third Super Bowl title. The game was played on February 7, 2016, at Levi's Stadium in the San Francisco Bay Area at Santa Clara, California. As this was the 50th Super Bowl, the league emphasized the \"golden anniversary\" with various gold-themed initiatives, as well as temporarily suspending the tradition of naming each Super Bowl game with Roman numerals (under which the game would have been known as \"Super Bowl L\"), so that the logo could prominently feature the Arabic numerals 50.\n",
      "pergunta_respostas.keys(): dict_keys(['answers', 'question', 'id']) Exemplo 1a pergunta_respostas: qtd respostas: 3; Which NFL team represented the AFC at Super Bowl 50?\n",
      "Exemplo 1a resposta {'answer_start': 177, 'text': 'Denver Broncos'}\n",
      "Exemplo 1o ground_truths ['Denver Broncos', 'Denver Broncos', 'Denver Broncos']\n"
     ]
    }
   ],
   "source": [
    "print(f\"Qtd artigos: {len(dataset)}\")\n",
    "for artigo in dataset:\n",
    "    print(f\"artigo.keys(): {artigo.keys()} Exemplo 1o artigo - Title: {artigo['title']}, #paragrafos {len(artigo['paragraphs'])} \")\n",
    "    for paragrafo in artigo['paragraphs']:\n",
    "        print(f\"paragrafo.keys(): {paragrafo.keys()} Exemplo 1o paragrafo: qas: {len(paragrafo['qas'])} {paragrafo['context']}\")\n",
    "        for pergunta_respostas in paragrafo['qas']:\n",
    "            print(f\"pergunta_respostas.keys(): {pergunta_respostas.keys()} Exemplo 1a pergunta_respostas: qtd respostas: {len(pergunta_respostas['answers'])}; {pergunta_respostas['question']}\")\n",
    "            for resposta in pergunta_respostas['answers']:\n",
    "                print(f\"resposta.keys(): {resposta.keys()} Exemplo 1a resposta {resposta}\")\n",
    "                break\n",
    "            ground_truths = list(map(lambda x: x['text'], pergunta_respostas['answers']))\n",
    "            print(f\"Exemplo 1o ground_truths {ground_truths}\")\n",
    "            break\n",
    "        break\n",
    "    break"
   ]
  },
  {
   "cell_type": "code",
   "execution_count": null,
   "metadata": {},
   "outputs": [],
   "source": [
    "def evaluate(dataset, predictions):\n",
    "    f1 = exact_match = total = 0\n",
    "    for article in dataset:\n",
    "        for paragraph in article['paragraphs']:\n",
    "            for qa in paragraph['qas']:\n",
    "                total += 1\n",
    "                # calcular resposta\n",
    "\n",
    "                json_fine_tuning = copy.deepcopy(json_exemplo)\n",
    "                json_fine_tuning[\"tamanho_max_resposta\"] = 30\n",
    "                json_fine_tuning['texto_pergunta'] = qa['question']\n",
    "                json_fine_tuning['texto_contexto'] = c\n",
    "\n",
    "\n",
    "                ground_truths = list(map(lambda x: x['text'], qa['answers']))\n",
    "                prediction = predictions[qa['id']]\n",
    "                exact_match += metric_max_over_ground_truths(\n",
    "                    exact_match_score, prediction, ground_truths)\n",
    "                f1 += metric_max_over_ground_truths(\n",
    "                    f1_score, prediction, ground_truths)\n",
    "\n",
    "    exact_match = 100.0 * exact_match / total\n",
    "    f1 = 100.0 * f1 / total\n",
    "\n",
    "    return {'exact_match': exact_match, 'f1': f1}"
   ]
  },
  {
   "cell_type": "code",
   "execution_count": null,
   "metadata": {},
   "outputs": [],
   "source": [
    "with open(args.prediction_file) as prediction_file:\n",
    "    predictions = json.load(prediction_file)\n",
    "print(json.dumps(evaluate(dataset, predictions)))\n"
   ]
  },
  {
   "cell_type": "code",
   "execution_count": null,
   "metadata": {},
   "outputs": [],
   "source": []
  },
  {
   "cell_type": "markdown",
   "metadata": {},
   "source": [
    "## Config ..."
   ]
  }
 ],
 "metadata": {
  "interpreter": {
   "hash": "45978bf3509deeb93161d1472b16f82a40245d44c2beae6c63ad8f9bb3f69171"
  },
  "kernelspec": {
   "display_name": "Python 3.7.11 ('relevar-busca')",
   "language": "python",
   "name": "python3"
  },
  "language_info": {
   "codemirror_mode": {
    "name": "ipython",
    "version": 3
   },
   "file_extension": ".py",
   "mimetype": "text/x-python",
   "name": "python",
   "nbconvert_exporter": "python",
   "pygments_lexer": "ipython3",
   "version": "3.7.13"
  },
  "orig_nbformat": 4,
  "vscode": {
   "interpreter": {
    "hash": "5184730958793e1dccf3f74528df7bd8b01cfba5fc8480fa69f8e22885c01e0d"
   }
  }
 },
 "nbformat": 4,
 "nbformat_minor": 2
}
