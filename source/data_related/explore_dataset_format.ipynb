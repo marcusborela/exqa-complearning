{
 "cells": [
  {
   "cell_type": "markdown",
   "metadata": {},
   "source": [
    "## Explore Squad v1.1"
   ]
  },
  {
   "cell_type": "code",
   "execution_count": 1,
   "metadata": {},
   "outputs": [],
   "source": [
    "import os\n",
    "import sys\n",
    "sys.path.append(os.path.abspath('.'))\n",
    "sys.path.append(os.path.abspath(r'./.'))"
   ]
  },
  {
   "cell_type": "code",
   "execution_count": 2,
   "metadata": {},
   "outputs": [
    {
     "data": {
      "text/plain": [
       "'/home/borela/fontes/exqa-complearning/source/data_related'"
      ]
     },
     "execution_count": 2,
     "metadata": {},
     "output_type": "execute_result"
    }
   ],
   "source": [
    "%pwd"
   ]
  },
  {
   "cell_type": "code",
   "execution_count": 3,
   "metadata": {},
   "outputs": [
    {
     "name": "stdout",
     "output_type": "stream",
     "text": [
      "/home/borela/fontes/exqa-complearning\n"
     ]
    }
   ],
   "source": [
    "%cd ../.."
   ]
  },
  {
   "cell_type": "code",
   "execution_count": 4,
   "metadata": {},
   "outputs": [],
   "source": [
    "import pandas as pd"
   ]
  },
  {
   "cell_type": "code",
   "execution_count": 5,
   "metadata": {},
   "outputs": [
    {
     "name": "stderr",
     "output_type": "stream",
     "text": [
      "/home/borela/miniconda3/envs/exqa-complearning/lib/python3.7/site-packages/tqdm/auto.py:22: TqdmWarning: IProgress not found. Please update jupyter and ipywidgets. See https://ipywidgets.readthedocs.io/en/stable/user_install.html\n",
      "  from .autonotebook import tqdm as notebook_tqdm\n"
     ]
    }
   ],
   "source": [
    "from source.data_related import squad_related"
   ]
  },
  {
   "cell_type": "code",
   "execution_count": 60,
   "metadata": {},
   "outputs": [
    {
     "data": {
      "text/plain": [
       "<module 'source.data_related.squad_related' from '/home/borela/fontes/exqa-complearning/source/data_related/squad_related.py'>"
      ]
     },
     "execution_count": 60,
     "metadata": {},
     "output_type": "execute_result"
    }
   ],
   "source": [
    "import importlib\n",
    "importlib.reload(squad_related)"
   ]
  },
  {
   "cell_type": "code",
   "execution_count": 12,
   "metadata": {},
   "outputs": [
    {
     "name": "stderr",
     "output_type": "stream",
     "text": [
      "Using custom data configuration default-d2cdb99fa46933e9\n",
      "Reusing dataset json (/home/borela/.cache/huggingface/datasets/json/default-d2cdb99fa46933e9/0.0.0/da492aad5680612e4028e7f6ddc04b1dfcec4b64db470ed7cc5f2bb265b9b6b5)\n",
      "100%|██████████| 1/1 [00:00<00:00, 614.10it/s]\n"
     ]
    }
   ],
   "source": [
    "vdataset =squad_related.load_squad_dataset_1_1('en')"
   ]
  },
  {
   "cell_type": "code",
   "execution_count": 9,
   "metadata": {},
   "outputs": [
    {
     "data": {
      "text/plain": [
       "{'id': '56be4db0acb8001400a502ec',\n",
       " 'title': 'Super_Bowl_50',\n",
       " 'context': 'O Super Bowl 50 foi um jogo de futebol americano para determinar o campeão da Liga Nacional de Futebol Americano (NFL) para a temporada de 2015. O campeão da Conferência Americana de Futebol Americano (AFC), Denver Broncos, derrotou o campeão da Conferência Nacional de Futebol Americano (NFC), Carolina Panthers 24–10, para ganhar seu terceiro título do Super Bowl. O jogo foi disputado em 7 de fevereiro de 2016, no Levi\\'s Stadium na área da Baía de São Francisco em Santa Clara, Califórnia. Como este foi o 50º Super Bowl, a liga enfatizou o \"aniversário de ouro\" com várias iniciativas com temas de ouro, além de suspender temporariamente a tradição de nomear cada jogo do Super Bowl com números romanos (sob os quais o jogo seria conhecido como \" Super Bowl L \"), de modo que o logotipo possa exibir com destaque os algarismos arábicos 50.',\n",
       " 'question': 'Qual time da NFL representou a AFC no Super Bowl 50?',\n",
       " 'answer_start': [208, 208, 208],\n",
       " 'answer_text': ['Denver Broncos', 'Denver Broncos', 'Denver Broncos']}"
      ]
     },
     "execution_count": 9,
     "metadata": {},
     "output_type": "execute_result"
    }
   ],
   "source": [
    "vdataset.dataset[0]"
   ]
  },
  {
   "cell_type": "markdown",
   "metadata": {},
   "source": [
    "# Context"
   ]
  },
  {
   "cell_type": "code",
   "execution_count": 6,
   "metadata": {},
   "outputs": [],
   "source": [
    "from source.calculation.context_learning import trata_reader_pipe"
   ]
  },
  {
   "cell_type": "code",
   "execution_count": 7,
   "metadata": {},
   "outputs": [],
   "source": [
    "dict_config_model = {\n",
    "                # parâmetros complementares\n",
    "                \"learning_method\":'context',\n",
    "                \"num_top_k\": 3,\n",
    "                \"num_max_answer_length\":80,\n",
    "                # parâmetros transfer # deixar branco\n",
    "                \"num_doc_stride\": '',\n",
    "                \"num_factor_multiply_top_k\": '',\n",
    "                \"if_handle_impossible_answer\": '',\n",
    "                # parâmetros context\n",
    "                'list_stop_words': ['.', '\\n','!'],\n",
    "                'cod_prompt_format': 102.,\n",
    "                'if_do_sample': False,\n",
    "                \"val_length_penalty\":0.,\n",
    "                'val_temperature': 0.1,\n",
    "}\n"
   ]
  },
  {
   "cell_type": "code",
   "execution_count": null,
   "metadata": {},
   "outputs": [],
   "source": [
    "name_model = \"EleutherAI/gpt-j-6B\""
   ]
  },
  {
   "cell_type": "code",
   "execution_count": 10,
   "metadata": {},
   "outputs": [],
   "source": [
    "model = trata_reader_pipe.Reader(name_model, dict_config_model)"
   ]
  },
  {
   "cell_type": "code",
   "execution_count": 12,
   "metadata": {},
   "outputs": [
    {
     "name": "stdout",
     "output_type": "stream",
     "text": [
      "Answer: number of tokens:\n",
      "       answer_text\n",
      "count        31168\n",
      "unique       12378\n",
      "top           três\n",
      "freq           126\n"
     ]
    },
    {
     "data": {
      "image/png": "[encoded data removed]",
      "text/plain": [
       "<Figure size 432x288 with 1 Axes>"
      ]
     },
     "metadata": {
      "needs_background": "light"
     },
     "output_type": "display_data"
    },
    {
     "name": "stdout",
     "output_type": "stream",
     "text": [
      "Tamanho em caracteres de answer\n",
      "count    31168.00\n",
      "mean        19.29\n",
      "std         19.62\n",
      "min          1.00\n",
      "25%          7.00\n",
      "50%         14.00\n",
      "75%         23.00\n",
      "max        198.00\n",
      "Name: answer_text, dtype: object\n"
     ]
    },
    {
     "data": {
      "image/png": "[encoded data removed]",
      "text/plain": [
       "<Figure size 432x288 with 1 Axes>"
      ]
     },
     "metadata": {
      "needs_background": "light"
     },
     "output_type": "display_data"
    },
    {
     "name": "stdout",
     "output_type": "stream",
     "text": [
      "Number of tokens:\n",
      "       n_tokens_question_context  n_tokens_question\n",
      "count               10570.000000       10570.000000\n",
      "mean                  309.847682          21.827815\n",
      "std                   132.024003           8.044292\n",
      "min                    60.000000           5.000000\n",
      "25%                   233.000000          16.000000\n",
      "50%                   285.000000          21.000000\n",
      "75%                   362.000000          26.000000\n",
      "max                  1602.000000          70.000000\n"
     ]
    },
    {
     "data": {
      "image/png": "[encoded data removed]",
      "text/plain": [
       "<Figure size 432x288 with 1 Axes>"
      ]
     },
     "metadata": {
      "needs_background": "light"
     },
     "output_type": "display_data"
    },
    {
     "data": {
      "image/png": "[encoded data removed]",
      "text/plain": [
       "<Figure size 432x288 with 1 Axes>"
      ]
     },
     "metadata": {
      "needs_background": "light"
     },
     "output_type": "display_data"
    }
   ],
   "source": [
    "vdataset.print_histogram_num_tokens_given_tokenizer(parm_tokenizer=model.tokenizer)"
   ]
  },
  {
   "cell_type": "code",
   "execution_count": 8,
   "metadata": {},
   "outputs": [],
   "source": [
    "name_model = \"EleutherAI/gpt-neo-2.7B\"\n",
    "model = trata_reader_pipe.Reader(name_model, dict_config_model)"
   ]
  },
  {
   "cell_type": "code",
   "execution_count": 13,
   "metadata": {},
   "outputs": [
    {
     "name": "stdout",
     "output_type": "stream",
     "text": [
      "Answer: number of tokens:\n",
      "       answer_text\n",
      "count        34726\n",
      "unique       14884\n",
      "top          three\n",
      "freq           123\n"
     ]
    },
    {
     "data": {
      "image/png": "[encoded data removed]",
      "text/plain": [
       "<Figure size 432x288 with 1 Axes>"
      ]
     },
     "metadata": {
      "needs_background": "light"
     },
     "output_type": "display_data"
    },
    {
     "name": "stdout",
     "output_type": "stream",
     "text": [
      "Tamanho em caracteres de answer\n",
      "count    34726.00\n",
      "mean        18.73\n",
      "std         18.33\n",
      "min          1.00\n",
      "25%          7.00\n",
      "50%         13.00\n",
      "75%         22.00\n",
      "max        160.00\n",
      "Name: answer_text, dtype: object\n"
     ]
    },
    {
     "data": {
      "image/png": "[encoded data removed]",
      "text/plain": [
       "<Figure size 432x288 with 1 Axes>"
      ]
     },
     "metadata": {
      "needs_background": "light"
     },
     "output_type": "display_data"
    },
    {
     "name": "stdout",
     "output_type": "stream",
     "text": [
      "Number of tokens:\n",
      "       n_tokens_question_context  n_tokens_question\n",
      "count               10570.000000       10570.000000\n",
      "mean                  173.366887          12.493661\n",
      "std                    73.010888           4.065530\n",
      "min                    37.000000           4.000000\n",
      "25%                   129.000000          10.000000\n",
      "50%                   159.000000          12.000000\n",
      "75%                   203.000000          15.000000\n",
      "max                   810.000000          40.000000\n"
     ]
    },
    {
     "data": {
      "image/png": "[encoded data removed]",
      "text/plain": [
       "<Figure size 432x288 with 1 Axes>"
      ]
     },
     "metadata": {
      "needs_background": "light"
     },
     "output_type": "display_data"
    },
    {
     "data": {
      "image/png": "[encoded data removed]",
      "text/plain": [
       "<Figure size 432x288 with 1 Axes>"
      ]
     },
     "metadata": {
      "needs_background": "light"
     },
     "output_type": "display_data"
    }
   ],
   "source": [
    "vdataset.print_histogram_num_tokens_given_tokenizer(parm_tokenizer=model.tokenizer)"
   ]
  },
  {
   "cell_type": "markdown",
   "metadata": {},
   "source": [
    "# Transfer"
   ]
  },
  {
   "cell_type": "code",
   "execution_count": null,
   "metadata": {},
   "outputs": [],
   "source": [
    "from source.calculation.transfer_learning.trata_reader import Reader"
   ]
  },
  {
   "cell_type": "code",
   "execution_count": 8,
   "metadata": {},
   "outputs": [],
   "source": [
    "\n",
    "if vdataset._language == 'en':\n",
    "    name_model = 'distilbert-base-cased-distilled-squad'\n",
    "    path_model = \"models/transfer_learning/\"+name_model\n",
    "    model = Reader(pretrained_model_name_or_path=path_model, parm_dict_config=None)\n",
    "else:\n",
    "    name_model = 'pierreguillou/bert-large-cased-squad-v1.1-portuguese'\n",
    "    path_model = \"models/transfer_learning/\"+name_model\n",
    "    model = Reader(pretrained_model_name_or_path=path_model, parm_dict_config=None)\n",
    "\n",
    "\n"
   ]
  },
  {
   "cell_type": "code",
   "execution_count": 56,
   "metadata": {},
   "outputs": [
    {
     "name": "stdout",
     "output_type": "stream",
     "text": [
      "Answer: number of tokens:\n",
      "       answer_text\n",
      "count        34726\n",
      "unique       14884\n",
      "top          three\n",
      "freq           123\n"
     ]
    },
    {
     "data": {
      "image/png": "[encoded data removed]",
      "text/plain": [
       "<Figure size 432x288 with 1 Axes>"
      ]
     },
     "metadata": {
      "needs_background": "light"
     },
     "output_type": "display_data"
    },
    {
     "name": "stdout",
     "output_type": "stream",
     "text": [
      "Tamanho em caracteres de answer\n",
      "count    34726.00\n",
      "mean        18.73\n",
      "std         18.33\n",
      "min          1.00\n",
      "25%          7.00\n",
      "50%         13.00\n",
      "75%         22.00\n",
      "max        160.00\n",
      "Name: answer_text, dtype: object\n"
     ]
    },
    {
     "data": {
      "image/png": "[encoded data removed]",
      "text/plain": [
       "<Figure size 432x288 with 1 Axes>"
      ]
     },
     "metadata": {
      "needs_background": "light"
     },
     "output_type": "display_data"
    },
    {
     "name": "stdout",
     "output_type": "stream",
     "text": [
      "Number of tokens:\n",
      "       n_tokens_question_context  n_tokens_question\n",
      "count               10570.000000       10570.000000\n",
      "mean                  181.640965          14.867077\n",
      "std                    75.466542           4.210699\n",
      "min                    42.000000           6.000000\n",
      "25%                   136.000000          12.000000\n",
      "50%                   167.000000          14.000000\n",
      "75%                   211.000000          17.000000\n",
      "max                   833.000000          44.000000\n"
     ]
    },
    {
     "data": {
      "image/png": "[encoded data removed]",
      "text/plain": [
       "<Figure size 432x288 with 1 Axes>"
      ]
     },
     "metadata": {
      "needs_background": "light"
     },
     "output_type": "display_data"
    },
    {
     "data": {
      "image/png": "[encoded data removed]",
      "text/plain": [
       "<Figure size 432x288 with 1 Axes>"
      ]
     },
     "metadata": {
      "needs_background": "light"
     },
     "output_type": "display_data"
    }
   ],
   "source": [
    "vdataset.print_histogram_num_tokens_given_tokenizer(parm_tokenizer=model.tokenizer)\n"
   ]
  },
  {
   "cell_type": "code",
   "execution_count": 32,
   "metadata": {},
   "outputs": [],
   "source": [
    "df = vdataset.df[['answer_text']].explode('answer_text')"
   ]
  },
  {
   "cell_type": "code",
   "execution_count": 33,
   "metadata": {},
   "outputs": [
    {
     "data": {
      "text/plain": [
       "pandas.core.frame.DataFrame"
      ]
     },
     "execution_count": 33,
     "metadata": {},
     "output_type": "execute_result"
    }
   ],
   "source": [
    "type(df_answer)"
   ]
  },
  {
   "cell_type": "code",
   "execution_count": 34,
   "metadata": {},
   "outputs": [
    {
     "data": {
      "text/plain": [
       "answer_text    Denver Broncos\n",
       "Name: 0, dtype: object"
      ]
     },
     "execution_count": 34,
     "metadata": {},
     "output_type": "execute_result"
    }
   ],
   "source": [
    "df_answer.iloc[0]"
   ]
  },
  {
   "cell_type": "code",
   "execution_count": 30,
   "metadata": {},
   "outputs": [],
   "source": [
    "df_answer2 = df_answer.explode('answer_text')"
   ]
  },
  {
   "cell_type": "code",
   "execution_count": 31,
   "metadata": {},
   "outputs": [
    {
     "data": {
      "text/plain": [
       "answer_text    Denver Broncos\n",
       "Name: 0, dtype: object"
      ]
     },
     "execution_count": 31,
     "metadata": {},
     "output_type": "execute_result"
    }
   ],
   "source": [
    "df_answer2.iloc[0]"
   ]
  },
  {
   "cell_type": "code",
   "execution_count": 29,
   "metadata": {},
   "outputs": [
    {
     "data": {
      "text/plain": [
       "1"
      ]
     },
     "execution_count": 29,
     "metadata": {},
     "output_type": "execute_result"
    }
   ],
   "source": [
    "len(df_answer2)"
   ]
  },
  {
   "cell_type": "code",
   "execution_count": null,
   "metadata": {},
   "outputs": [],
   "source": []
  },
  {
   "cell_type": "code",
   "execution_count": 26,
   "metadata": {},
   "outputs": [
    {
     "name": "stdout",
     "output_type": "stream",
     "text": [
      "Number of tokens:\n",
      "       n_tokens_question_context  n_tokens_question\n",
      "count               10570.000000       10570.000000\n",
      "mean                  181.640965          14.867077\n",
      "std                    75.466542           4.210699\n",
      "min                    42.000000           6.000000\n",
      "25%                   136.000000          12.000000\n",
      "50%                   167.000000          14.000000\n",
      "75%                   211.000000          17.000000\n",
      "max                   833.000000          44.000000\n"
     ]
    },
    {
     "data": {
      "image/png": "[encoded data removed]",
      "text/plain": [
       "<Figure size 432x288 with 1 Axes>"
      ]
     },
     "metadata": {
      "needs_background": "light"
     },
     "output_type": "display_data"
    },
    {
     "data": {
      "image/png": "[encoded data removed]",
      "text/plain": [
       "<Figure size 432x288 with 1 Axes>"
      ]
     },
     "metadata": {
      "needs_background": "light"
     },
     "output_type": "display_data"
    }
   ],
   "source": [
    "vdataset.print_histogram_num_tokens_given_tokenizer(parm_tokenizer=model.tokenizer)"
   ]
  },
  {
   "cell_type": "code",
   "execution_count": 28,
   "metadata": {},
   "outputs": [
    {
     "name": "stderr",
     "output_type": "stream",
     "text": [
      "Using custom data configuration default-61eba6f0d4a86c5d\n",
      "Reusing dataset json (/home/borela/.cache/huggingface/datasets/json/default-61eba6f0d4a86c5d/0.0.0/da492aad5680612e4028e7f6ddc04b1dfcec4b64db470ed7cc5f2bb265b9b6b5)\n",
      "100%|██████████| 1/1 [00:00<00:00, 546.77it/s]\n"
     ]
    }
   ],
   "source": [
    "vdataset =squad_related.load_squad_dataset_1_1('pt')"
   ]
  },
  {
   "cell_type": "code",
   "execution_count": 31,
   "metadata": {},
   "outputs": [],
   "source": [
    "if vdataset._language == 'en':\n",
    "    name_model = 'distilbert-base-cased-distilled-squad'\n",
    "    path_model = \"models/transfer_learning/\"+name_model\n",
    "    model = Reader(pretrained_model_name_or_path=path_model, parm_dict_config=None)\n",
    "else:\n",
    "    name_model = 'pierreguillou/bert-large-cased-squad-v1.1-portuguese'\n",
    "    path_model = \"models/transfer_learning/\"+name_model\n",
    "    model = Reader(pretrained_model_name_or_path=path_model, parm_dict_config=None)"
   ]
  },
  {
   "cell_type": "code",
   "execution_count": 33,
   "metadata": {},
   "outputs": [
    {
     "name": "stdout",
     "output_type": "stream",
     "text": [
      "Number of tokens:\n",
      "       n_tokens_question_context  n_tokens_question\n",
      "count               10570.000000       10570.000000\n",
      "mean                  196.044655          15.734248\n",
      "std                    81.047200           4.541214\n",
      "min                    44.000000           6.000000\n",
      "25%                   147.000000          12.000000\n",
      "50%                   180.000000          15.000000\n",
      "75%                   228.000000          18.000000\n",
      "max                   950.000000          46.000000\n"
     ]
    },
    {
     "data": {
      "image/png": "[encoded data removed]",
      "text/plain": [
       "<Figure size 432x288 with 1 Axes>"
      ]
     },
     "metadata": {
      "needs_background": "light"
     },
     "output_type": "display_data"
    },
    {
     "data": {
      "image/png": "[encoded data removed]",
      "text/plain": [
       "<Figure size 432x288 with 1 Axes>"
      ]
     },
     "metadata": {
      "needs_background": "light"
     },
     "output_type": "display_data"
    }
   ],
   "source": [
    "vdataset.print_histogram_num_tokens_given_tokenizer(parm_tokenizer=model.tokenizer)"
   ]
  },
  {
   "cell_type": "code",
   "execution_count": null,
   "metadata": {},
   "outputs": [],
   "source": []
  },
  {
   "cell_type": "code",
   "execution_count": 10,
   "metadata": {},
   "outputs": [
    {
     "data": {
      "text/plain": [
       "{'id': '56be4db0acb8001400a502ec',\n",
       " 'title': 'Super_Bowl_50',\n",
       " 'context': 'Super Bowl 50 was an American football game to determine the champion of the National Football League (NFL) for the 2015 season. The American Football Conference (AFC) champion Denver Broncos defeated the National Football Conference (NFC) champion Carolina Panthers 24–10 to earn their third Super Bowl title. The game was played on February 7, 2016, at Levi\\'s Stadium in the San Francisco Bay Area at Santa Clara, California. As this was the 50th Super Bowl, the league emphasized the \"golden anniversary\" with various gold-themed initiatives, as well as temporarily suspending the tradition of naming each Super Bowl game with Roman numerals (under which the game would have been known as \"Super Bowl L\"), so that the logo could prominently feature the Arabic numerals 50.',\n",
       " 'question': 'Which NFL team represented the AFC at Super Bowl 50?',\n",
       " 'answer_start': [177, 177, 177],\n",
       " 'answer_text': ['Denver Broncos', 'Denver Broncos', 'Denver Broncos']}"
      ]
     },
     "execution_count": 10,
     "metadata": {},
     "output_type": "execute_result"
    }
   ],
   "source": [
    "vdataset.dataset[0]"
   ]
  },
  {
   "cell_type": "code",
   "execution_count": 11,
   "metadata": {},
   "outputs": [
    {
     "name": "stdout",
     "output_type": "stream",
     "text": [
      "What : 4725\n",
      "What is beta carotene?\n",
      "What type of T cells help with both innnate and adaptive immunity?\n",
      "How : 1087\n",
      "How fast were the winds around St. Augustine in the 1964 hurricane?\n",
      "How many interceptions did Josh Norman score touchdowns with in 2015?\n",
      "Is : 10\n",
      "Is the packet header long\n",
      "Is the output of a functional problem typically characterized by a simple or complex answer?\n",
      "Does : 4\n",
      "Does BSkyB carry any control over the picture quality of a channel?\n",
      "Does the residential architecture of the Tower District compare or contrast with other part of Fresno?\n",
      "Do : 2\n",
      "Do adults or juveniles secretions luminesce brighter?\n",
      "Do the U.S. flags on the moon still have their original coloring or were they faded due to the Sun?\n",
      "Was : 10\n",
      "Was was the plan for Langlades mission?\n",
      "Was the testing of the LM during Apollo 5 a failure or a success?\n",
      "Where : 431\n",
      "Where was Montcalm focusing the defense for New France?\n",
      "Where did he work on the oscillators?\n",
      "Why : 150\n",
      "Why would a person chose civil disobedience against specific laws?\n",
      "Why did he walk?\n",
      "Which : 453\n",
      "Which major cities in Eastern Europe were not destroyed by the Mongol invasion?\n",
      "Which network broadcast the game in Spanish?\n"
     ]
    },
    {
     "data": {
      "image/png": "[encoded data removed]",
      "text/plain": [
       "<Figure size 432x288 with 1 Axes>"
      ]
     },
     "metadata": {
      "needs_background": "light"
     },
     "output_type": "display_data"
    }
   ],
   "source": [
    "dataset_en.print_total_per_question_type()"
   ]
  },
  {
   "cell_type": "code",
   "execution_count": 18,
   "metadata": {},
   "outputs": [
    {
     "data": {
      "text/plain": [
       "'Which NFL team represented the AFC at Super Bowl 50?'"
      ]
     },
     "execution_count": 18,
     "metadata": {},
     "output_type": "execute_result"
    }
   ],
   "source": [
    "dataset_en.dataset[0]['question']\n"
   ]
  },
  {
   "cell_type": "code",
   "execution_count": 20,
   "metadata": {},
   "outputs": [
    {
     "data": {
      "text/plain": [
       "'Where did Super Bowl 50 take place?'"
      ]
     },
     "execution_count": 20,
     "metadata": {},
     "output_type": "execute_result"
    }
   ],
   "source": [
    "dataset_en.dataset[2]['question']"
   ]
  },
  {
   "cell_type": "code",
   "execution_count": 14,
   "metadata": {},
   "outputs": [
    {
     "name": "stdout",
     "output_type": "stream",
     "text": [
      "Dataset dev-v1.1.json \n",
      "#artigos: 48\n",
      "\n",
      "****** artigo ****** \n",
      "  dict_keys(['title', 'paragraphs']) \n",
      "  1o artigo \n",
      "    #paragrafos 54;\n",
      "    Artigo:\n",
      "      Super_Bowl_50, \n",
      "\n",
      "    ****** paragrafo ******\n",
      "      dict_keys(['context', 'qas']) \n",
      "      1o paragrafo: \n",
      "      #perguntas: 30 \n",
      "      Parágrafo: \n",
      "        Super Bowl 50 was an American football game to determine the champion of the National Football League (NFL) for the 2015 season. The American Football Conference (AFC) champion Denver Broncos defeated the National Football Conference (NFC) champion Carolina Panthers 24–10 to earn their third Super Bowl title. The game was played on February 7, 2016, at Levi's Stadium in the San Francisco Bay Area at Santa Clara, California. As this was the 50th Super Bowl, the league emphasized the \"golden anniversary\" with various gold-themed initiatives, as well as temporarily suspending the tradition of naming each Super Bowl game with Roman numerals (under which the game would have been known as \"Super Bowl L\"), so that the logo could prominently feature the Arabic numerals 50.\n",
      "\n",
      "      ****** pergunta ****** \n",
      "        dict_keys(['answers', 'question', 'id']) \n",
      "        1a pergunta: \n",
      "        Qtd respostas: 3; \n",
      "        Pergunta: \n",
      "          Which NFL team represented the AFC at Super Bowl 50?\n",
      "\n",
      "        ****** resposta ****** \n",
      "          dict_keys(['answer_start', 'text']) \n",
      "          1a resposta: \n",
      "          {'answer_start': 177, 'text': 'Denver Broncos'}\n",
      "          Exemplo 1o ground_truths de respostas: \n",
      "            ['Denver Broncos', 'Denver Broncos', 'Denver Broncos']\n"
     ]
    }
   ],
   "source": [
    "dataset_en.print_example()"
   ]
  },
  {
   "cell_type": "code",
   "execution_count": 48,
   "metadata": {},
   "outputs": [
    {
     "data": {
      "text/html": [
       "<div>\n",
       "<style scoped>\n",
       "    .dataframe tbody tr th:only-of-type {\n",
       "        vertical-align: middle;\n",
       "    }\n",
       "\n",
       "    .dataframe tbody tr th {\n",
       "        vertical-align: top;\n",
       "    }\n",
       "\n",
       "    .dataframe thead th {\n",
       "        text-align: right;\n",
       "    }\n",
       "</style>\n",
       "<table border=\"1\" class=\"dataframe\">\n",
       "  <thead>\n",
       "    <tr style=\"text-align: right;\">\n",
       "      <th></th>\n",
       "      <th>id</th>\n",
       "      <th>title</th>\n",
       "      <th>context</th>\n",
       "      <th>question</th>\n",
       "      <th>answer_start</th>\n",
       "      <th>answer_text</th>\n",
       "    </tr>\n",
       "  </thead>\n",
       "  <tbody>\n",
       "    <tr>\n",
       "      <th>0</th>\n",
       "      <td>56be4db0acb8001400a502ec</td>\n",
       "      <td>Super_Bowl_50</td>\n",
       "      <td>Super Bowl 50 was an American football game to...</td>\n",
       "      <td>Which NFL team represented the AFC at Super Bo...</td>\n",
       "      <td>[177, 177, 177]</td>\n",
       "      <td>[Denver Broncos, Denver Broncos, Denver Broncos]</td>\n",
       "    </tr>\n",
       "    <tr>\n",
       "      <th>1</th>\n",
       "      <td>56be4db0acb8001400a502ed</td>\n",
       "      <td>Super_Bowl_50</td>\n",
       "      <td>Super Bowl 50 was an American football game to...</td>\n",
       "      <td>Which NFL team represented the NFC at Super Bo...</td>\n",
       "      <td>[249, 249, 249]</td>\n",
       "      <td>[Carolina Panthers, Carolina Panthers, Carolin...</td>\n",
       "    </tr>\n",
       "    <tr>\n",
       "      <th>2</th>\n",
       "      <td>56be4db0acb8001400a502ee</td>\n",
       "      <td>Super_Bowl_50</td>\n",
       "      <td>Super Bowl 50 was an American football game to...</td>\n",
       "      <td>Where did Super Bowl 50 take place?</td>\n",
       "      <td>[403, 355, 355]</td>\n",
       "      <td>[Santa Clara, California, Levi's Stadium, Levi...</td>\n",
       "    </tr>\n",
       "    <tr>\n",
       "      <th>3</th>\n",
       "      <td>56be4db0acb8001400a502ef</td>\n",
       "      <td>Super_Bowl_50</td>\n",
       "      <td>Super Bowl 50 was an American football game to...</td>\n",
       "      <td>Which NFL team won Super Bowl 50?</td>\n",
       "      <td>[177, 177, 177]</td>\n",
       "      <td>[Denver Broncos, Denver Broncos, Denver Broncos]</td>\n",
       "    </tr>\n",
       "    <tr>\n",
       "      <th>4</th>\n",
       "      <td>56be4db0acb8001400a502f0</td>\n",
       "      <td>Super_Bowl_50</td>\n",
       "      <td>Super Bowl 50 was an American football game to...</td>\n",
       "      <td>What color was used to emphasize the 50th anni...</td>\n",
       "      <td>[488, 488, 521]</td>\n",
       "      <td>[gold, gold, gold]</td>\n",
       "    </tr>\n",
       "  </tbody>\n",
       "</table>\n",
       "</div>"
      ],
      "text/plain": [
       "                         id          title  \\\n",
       "0  56be4db0acb8001400a502ec  Super_Bowl_50   \n",
       "1  56be4db0acb8001400a502ed  Super_Bowl_50   \n",
       "2  56be4db0acb8001400a502ee  Super_Bowl_50   \n",
       "3  56be4db0acb8001400a502ef  Super_Bowl_50   \n",
       "4  56be4db0acb8001400a502f0  Super_Bowl_50   \n",
       "\n",
       "                                             context  \\\n",
       "0  Super Bowl 50 was an American football game to...   \n",
       "1  Super Bowl 50 was an American football game to...   \n",
       "2  Super Bowl 50 was an American football game to...   \n",
       "3  Super Bowl 50 was an American football game to...   \n",
       "4  Super Bowl 50 was an American football game to...   \n",
       "\n",
       "                                            question     answer_start  \\\n",
       "0  Which NFL team represented the AFC at Super Bo...  [177, 177, 177]   \n",
       "1  Which NFL team represented the NFC at Super Bo...  [249, 249, 249]   \n",
       "2                Where did Super Bowl 50 take place?  [403, 355, 355]   \n",
       "3                  Which NFL team won Super Bowl 50?  [177, 177, 177]   \n",
       "4  What color was used to emphasize the 50th anni...  [488, 488, 521]   \n",
       "\n",
       "                                         answer_text  \n",
       "0   [Denver Broncos, Denver Broncos, Denver Broncos]  \n",
       "1  [Carolina Panthers, Carolina Panthers, Carolin...  \n",
       "2  [Santa Clara, California, Levi's Stadium, Levi...  \n",
       "3   [Denver Broncos, Denver Broncos, Denver Broncos]  \n",
       "4                                 [gold, gold, gold]  "
      ]
     },
     "execution_count": 48,
     "metadata": {},
     "output_type": "execute_result"
    }
   ],
   "source": [
    "dataset_en.df.head()"
   ]
  },
  {
   "cell_type": "code",
   "execution_count": 26,
   "metadata": {},
   "outputs": [
    {
     "data": {
      "text/html": [
       "<div>\n",
       "<style scoped>\n",
       "    .dataframe tbody tr th:only-of-type {\n",
       "        vertical-align: middle;\n",
       "    }\n",
       "\n",
       "    .dataframe tbody tr th {\n",
       "        vertical-align: top;\n",
       "    }\n",
       "\n",
       "    .dataframe thead th {\n",
       "        text-align: right;\n",
       "    }\n",
       "</style>\n",
       "<table border=\"1\" class=\"dataframe\">\n",
       "  <thead>\n",
       "    <tr style=\"text-align: right;\">\n",
       "      <th></th>\n",
       "      <th>id</th>\n",
       "      <th>title</th>\n",
       "      <th>context</th>\n",
       "      <th>question</th>\n",
       "      <th>answer_start</th>\n",
       "      <th>answer_text</th>\n",
       "    </tr>\n",
       "  </thead>\n",
       "  <tbody>\n",
       "    <tr>\n",
       "      <th>count</th>\n",
       "      <td>10570</td>\n",
       "      <td>10570</td>\n",
       "      <td>10570</td>\n",
       "      <td>10570</td>\n",
       "      <td>10570</td>\n",
       "      <td>10570</td>\n",
       "    </tr>\n",
       "    <tr>\n",
       "      <th>unique</th>\n",
       "      <td>10570</td>\n",
       "      <td>48</td>\n",
       "      <td>2067</td>\n",
       "      <td>10533</td>\n",
       "      <td>5800</td>\n",
       "      <td>9543</td>\n",
       "    </tr>\n",
       "    <tr>\n",
       "      <th>top</th>\n",
       "      <td>56be4db0acb8001400a502ec</td>\n",
       "      <td>Super_Bowl_50</td>\n",
       "      <td>Super Bowl 50 was an American football game to...</td>\n",
       "      <td>What shape are granal thylakoids?</td>\n",
       "      <td>[0, 0, 0]</td>\n",
       "      <td>[two, two, two]</td>\n",
       "    </tr>\n",
       "    <tr>\n",
       "      <th>freq</th>\n",
       "      <td>1</td>\n",
       "      <td>810</td>\n",
       "      <td>30</td>\n",
       "      <td>2</td>\n",
       "      <td>130</td>\n",
       "      <td>22</td>\n",
       "    </tr>\n",
       "  </tbody>\n",
       "</table>\n",
       "</div>"
      ],
      "text/plain": [
       "                              id          title  \\\n",
       "count                      10570          10570   \n",
       "unique                     10570             48   \n",
       "top     56be4db0acb8001400a502ec  Super_Bowl_50   \n",
       "freq                           1            810   \n",
       "\n",
       "                                                  context  \\\n",
       "count                                               10570   \n",
       "unique                                               2067   \n",
       "top     Super Bowl 50 was an American football game to...   \n",
       "freq                                                   30   \n",
       "\n",
       "                                 question answer_start      answer_text  \n",
       "count                               10570        10570            10570  \n",
       "unique                              10533         5800             9543  \n",
       "top     What shape are granal thylakoids?    [0, 0, 0]  [two, two, two]  \n",
       "freq                                    2          130               22  "
      ]
     },
     "execution_count": 26,
     "metadata": {},
     "output_type": "execute_result"
    }
   ],
   "source": [
    "dataset_en.df.describe()"
   ]
  },
  {
   "cell_type": "code",
   "execution_count": 33,
   "metadata": {},
   "outputs": [
    {
     "name": "stdout",
     "output_type": "stream",
     "text": [
      "Tamanho de context\n",
      "count    10570.00\n",
      "mean       778.98\n",
      "std        350.70\n",
      "min        157.00\n",
      "25%        574.00\n",
      "50%        703.00\n",
      "75%        914.00\n",
      "max       4063.00\n",
      "Name: context, dtype: object\n",
      "Tamanho de question\n",
      "count    10570.00\n",
      "mean        59.98\n",
      "std         21.16\n",
      "min         12.00\n",
      "25%         45.00\n",
      "50%         57.00\n",
      "75%         72.00\n",
      "max        197.00\n",
      "Name: question, dtype: object\n"
     ]
    }
   ],
   "source": [
    "dataset_en =squad_related.carregar_squad_1_1('en')\n",
    "columns = ['context', 'question']\n",
    "for column in columns:\n",
    "    s = dataset_en.df[column].str.len()\n",
    "    print(f\"Tamanho de {column}\")\n",
    "    print(s.describe().apply(\"{0:.2f}\".format))"
   ]
  },
  {
   "cell_type": "code",
   "execution_count": 23,
   "metadata": {},
   "outputs": [],
   "source": [
    "dt = dataset_en.dataset"
   ]
  },
  {
   "cell_type": "code",
   "execution_count": 30,
   "metadata": {},
   "outputs": [
    {
     "data": {
      "text/plain": [
       "['id', 'title', 'context', 'question', 'answer_start', 'answer_text']"
      ]
     },
     "execution_count": 30,
     "metadata": {},
     "output_type": "execute_result"
    }
   ],
   "source": [
    "dt.column_names"
   ]
  },
  {
   "cell_type": "code",
   "execution_count": null,
   "metadata": {},
   "outputs": [],
   "source": []
  }
 ],
 "metadata": {
  "interpreter": {
   "hash": "16b3c0ce748aace455bf65b029a476256c8ff6ef00bd218fbe4819ff37ebf33a"
  },
  "kernelspec": {
   "display_name": "Python 3.7.13 ('exqa-complearning')",
   "language": "python",
   "name": "python3"
  },
  "language_info": {
   "codemirror_mode": {
    "name": "ipython",
    "version": 3
   },
   "file_extension": ".py",
   "mimetype": "text/x-python",
   "name": "python",
   "nbconvert_exporter": "python",
   "pygments_lexer": "ipython3",
   "version": "3.7.13"
  },
  "orig_nbformat": 4,
  "vscode": {
   "interpreter": {
    "hash": "5184730958793e1dccf3f74528df7bd8b01cfba5fc8480fa69f8e22885c01e0d"
   }
  }
 },
 "nbformat": 4,
 "nbformat_minor": 2
}
