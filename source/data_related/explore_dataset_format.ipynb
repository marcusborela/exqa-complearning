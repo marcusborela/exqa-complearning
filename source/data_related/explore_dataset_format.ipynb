{
 "cells": [
  {
   "cell_type": "markdown",
   "metadata": {},
   "source": [
    "## Explore Squad v1.1"
   ]
  },
  {
   "cell_type": "code",
   "execution_count": 1,
   "metadata": {},
   "outputs": [],
   "source": [
    "import os\n",
    "import sys\n",
    "sys.path.append(os.path.abspath('.'))\n",
    "sys.path.append(os.path.abspath(r'./.'))"
   ]
  },
  {
   "cell_type": "code",
   "execution_count": 2,
   "metadata": {},
   "outputs": [
    {
     "data": {
      "text/plain": [
       "'/home/borela/fontes/exqa-complearning/source/data_related'"
      ]
     },
     "execution_count": 2,
     "metadata": {},
     "output_type": "execute_result"
    }
   ],
   "source": [
    "%pwd"
   ]
  },
  {
   "cell_type": "code",
   "execution_count": 3,
   "metadata": {},
   "outputs": [
    {
     "name": "stdout",
     "output_type": "stream",
     "text": [
      "/home/borela/fontes/exqa-complearning\n"
     ]
    }
   ],
   "source": [
    "%cd ../.."
   ]
  },
  {
   "cell_type": "code",
   "execution_count": 4,
   "metadata": {},
   "outputs": [],
   "source": [
    "import pandas as pd"
   ]
  },
  {
   "cell_type": "code",
   "execution_count": 5,
   "metadata": {},
   "outputs": [
    {
     "name": "stderr",
     "output_type": "stream",
     "text": [
      "/home/borela/miniconda3/envs/exqa-complearning/lib/python3.7/site-packages/tqdm/auto.py:22: TqdmWarning: IProgress not found. Please update jupyter and ipywidgets. See https://ipywidgets.readthedocs.io/en/stable/user_install.html\n",
      "  from .autonotebook import tqdm as notebook_tqdm\n"
     ]
    }
   ],
   "source": [
    "from source.data_related import squad_related"
   ]
  },
  {
   "cell_type": "code",
   "execution_count": 6,
   "metadata": {},
   "outputs": [
    {
     "data": {
      "text/plain": [
       "<module 'source.data_related.squad_related' from '/home/borela/fontes/exqa-complearning/source/data_related/squad_related.py'>"
      ]
     },
     "execution_count": 6,
     "metadata": {},
     "output_type": "execute_result"
    }
   ],
   "source": [
    "import importlib\n",
    "importlib.reload(squad_related)"
   ]
  },
  {
   "cell_type": "code",
   "execution_count": 7,
   "metadata": {},
   "outputs": [
    {
     "name": "stderr",
     "output_type": "stream",
     "text": [
      "Using custom data configuration default-d2cdb99fa46933e9\n",
      "Reusing dataset json (/home/borela/.cache/huggingface/datasets/json/default-d2cdb99fa46933e9/0.0.0/da492aad5680612e4028e7f6ddc04b1dfcec4b64db470ed7cc5f2bb265b9b6b5)\n",
      "100%|██████████| 1/1 [00:00<00:00, 639.67it/s]\n"
     ]
    }
   ],
   "source": [
    "vdataset =squad_related.load_squad_dataset_1_1('en')"
   ]
  },
  {
   "cell_type": "code",
   "execution_count": 8,
   "metadata": {},
   "outputs": [
    {
     "data": {
      "text/plain": [
       "{'id': '56be4db0acb8001400a502ec',\n",
       " 'title': 'Super_Bowl_50',\n",
       " 'context': 'Super Bowl 50 was an American football game to determine the champion of the National Football League (NFL) for the 2015 season. The American Football Conference (AFC) champion Denver Broncos defeated the National Football Conference (NFC) champion Carolina Panthers 24–10 to earn their third Super Bowl title. The game was played on February 7, 2016, at Levi\\'s Stadium in the San Francisco Bay Area at Santa Clara, California. As this was the 50th Super Bowl, the league emphasized the \"golden anniversary\" with various gold-themed initiatives, as well as temporarily suspending the tradition of naming each Super Bowl game with Roman numerals (under which the game would have been known as \"Super Bowl L\"), so that the logo could prominently feature the Arabic numerals 50.',\n",
       " 'question': 'Which NFL team represented the AFC at Super Bowl 50?',\n",
       " 'answer_start': [177, 177, 177],\n",
       " 'answer_text': ['Denver Broncos', 'Denver Broncos', 'Denver Broncos']}"
      ]
     },
     "execution_count": 8,
     "metadata": {},
     "output_type": "execute_result"
    }
   ],
   "source": [
    "vdataset.dataset[0]"
   ]
  },
  {
   "cell_type": "code",
   "execution_count": 9,
   "metadata": {},
   "outputs": [],
   "source": [
    "df = vdataset.df"
   ]
  },
  {
   "cell_type": "code",
   "execution_count": 10,
   "metadata": {},
   "outputs": [
    {
     "data": {
      "text/plain": [
       "10570"
      ]
     },
     "execution_count": 10,
     "metadata": {},
     "output_type": "execute_result"
    }
   ],
   "source": [
    "len(df)"
   ]
  },
  {
   "cell_type": "code",
   "execution_count": 11,
   "metadata": {},
   "outputs": [
    {
     "data": {
      "text/html": [
       "<div>\n",
       "<style scoped>\n",
       "    .dataframe tbody tr th:only-of-type {\n",
       "        vertical-align: middle;\n",
       "    }\n",
       "\n",
       "    .dataframe tbody tr th {\n",
       "        vertical-align: top;\n",
       "    }\n",
       "\n",
       "    .dataframe thead th {\n",
       "        text-align: right;\n",
       "    }\n",
       "</style>\n",
       "<table border=\"1\" class=\"dataframe\">\n",
       "  <thead>\n",
       "    <tr style=\"text-align: right;\">\n",
       "      <th></th>\n",
       "      <th>id</th>\n",
       "      <th>title</th>\n",
       "      <th>context</th>\n",
       "      <th>question</th>\n",
       "      <th>answer_start</th>\n",
       "      <th>answer_text</th>\n",
       "      <th>question_len_char</th>\n",
       "      <th>context_len_char</th>\n",
       "      <th>question_context_len_char</th>\n",
       "    </tr>\n",
       "  </thead>\n",
       "  <tbody>\n",
       "    <tr>\n",
       "      <th>0</th>\n",
       "      <td>56be4db0acb8001400a502ec</td>\n",
       "      <td>Super_Bowl_50</td>\n",
       "      <td>Super Bowl 50 was an American football game to...</td>\n",
       "      <td>Which NFL team represented the AFC at Super Bo...</td>\n",
       "      <td>[177, 177, 177]</td>\n",
       "      <td>[Denver Broncos, Denver Broncos, Denver Broncos]</td>\n",
       "      <td>52</td>\n",
       "      <td>775</td>\n",
       "      <td>827</td>\n",
       "    </tr>\n",
       "    <tr>\n",
       "      <th>1</th>\n",
       "      <td>56be4db0acb8001400a502ed</td>\n",
       "      <td>Super_Bowl_50</td>\n",
       "      <td>Super Bowl 50 was an American football game to...</td>\n",
       "      <td>Which NFL team represented the NFC at Super Bo...</td>\n",
       "      <td>[249, 249, 249]</td>\n",
       "      <td>[Carolina Panthers, Carolina Panthers, Carolin...</td>\n",
       "      <td>52</td>\n",
       "      <td>775</td>\n",
       "      <td>827</td>\n",
       "    </tr>\n",
       "  </tbody>\n",
       "</table>\n",
       "</div>"
      ],
      "text/plain": [
       "                         id          title  \\\n",
       "0  56be4db0acb8001400a502ec  Super_Bowl_50   \n",
       "1  56be4db0acb8001400a502ed  Super_Bowl_50   \n",
       "\n",
       "                                             context  \\\n",
       "0  Super Bowl 50 was an American football game to...   \n",
       "1  Super Bowl 50 was an American football game to...   \n",
       "\n",
       "                                            question     answer_start  \\\n",
       "0  Which NFL team represented the AFC at Super Bo...  [177, 177, 177]   \n",
       "1  Which NFL team represented the NFC at Super Bo...  [249, 249, 249]   \n",
       "\n",
       "                                         answer_text  question_len_char  \\\n",
       "0   [Denver Broncos, Denver Broncos, Denver Broncos]                 52   \n",
       "1  [Carolina Panthers, Carolina Panthers, Carolin...                 52   \n",
       "\n",
       "   context_len_char  question_context_len_char  \n",
       "0               775                        827  \n",
       "1               775                        827  "
      ]
     },
     "execution_count": 11,
     "metadata": {},
     "output_type": "execute_result"
    }
   ],
   "source": [
    "df.head(2)"
   ]
  },
  {
   "cell_type": "code",
   "execution_count": 12,
   "metadata": {},
   "outputs": [],
   "source": [
    "from source.data_related import rastro_evaluation_qa\n"
   ]
  },
  {
   "cell_type": "code",
   "execution_count": 15,
   "metadata": {},
   "outputs": [],
   "source": [
    "rastro_eval_qa = rastro_evaluation_qa.RastroEvaluationQa()\n"
   ]
  },
  {
   "cell_type": "code",
   "execution_count": 16,
   "metadata": {},
   "outputs": [
    {
     "data": {
      "text/html": [
       "<div>\n",
       "<style scoped>\n",
       "    .dataframe tbody tr th:only-of-type {\n",
       "        vertical-align: middle;\n",
       "    }\n",
       "\n",
       "    .dataframe tbody tr th {\n",
       "        vertical-align: top;\n",
       "    }\n",
       "\n",
       "    .dataframe thead th {\n",
       "        text-align: right;\n",
       "    }\n",
       "</style>\n",
       "<table border=\"1\" class=\"dataframe\">\n",
       "  <thead>\n",
       "    <tr style=\"text-align: right;\">\n",
       "      <th></th>\n",
       "      <th>cod</th>\n",
       "      <th>name_learning_method</th>\n",
       "      <th>ind_language</th>\n",
       "      <th>name_model</th>\n",
       "      <th>name_device</th>\n",
       "      <th>descr_filter</th>\n",
       "      <th>num_question</th>\n",
       "      <th>datetime_execution</th>\n",
       "      <th>time_execution_total</th>\n",
       "      <th>time_execution_per_question</th>\n",
       "      <th>num_top_k</th>\n",
       "      <th>num_factor_multiply_top_k</th>\n",
       "      <th>num_max_answer_length</th>\n",
       "      <th>num_doc_stride</th>\n",
       "      <th>if_handle_impossible_answer</th>\n",
       "      <th>if_do_sample</th>\n",
       "      <th>val_length_penalty</th>\n",
       "      <th>val_temperature</th>\n",
       "      <th>cod_prompt_format</th>\n",
       "      <th>list_stop_words</th>\n",
       "    </tr>\n",
       "  </thead>\n",
       "  <tbody>\n",
       "    <tr>\n",
       "      <th>0</th>\n",
       "      <td>14</td>\n",
       "      <td>transfer</td>\n",
       "      <td>pt</td>\n",
       "      <td>pierreguillou/bert-large-cased-squad-v1.1-port...</td>\n",
       "      <td>cuda:0</td>\n",
       "      <td>{}</td>\n",
       "      <td>10570</td>\n",
       "      <td>2022-07-17 21:54:25</td>\n",
       "      <td>2632</td>\n",
       "      <td>249</td>\n",
       "      <td>3</td>\n",
       "      <td>10.0</td>\n",
       "      <td>80</td>\n",
       "      <td>128.0</td>\n",
       "      <td>0.0</td>\n",
       "      <td>NaN</td>\n",
       "      <td>NaN</td>\n",
       "      <td>NaN</td>\n",
       "      <td>NaN</td>\n",
       "      <td>NaN</td>\n",
       "    </tr>\n",
       "    <tr>\n",
       "      <th>1</th>\n",
       "      <td>15</td>\n",
       "      <td>transfer</td>\n",
       "      <td>en</td>\n",
       "      <td>distilbert-base-cased-distilled-squad</td>\n",
       "      <td>cuda:0</td>\n",
       "      <td>{}</td>\n",
       "      <td>10570</td>\n",
       "      <td>2022-07-17 22:40:21</td>\n",
       "      <td>2329</td>\n",
       "      <td>220</td>\n",
       "      <td>3</td>\n",
       "      <td>10.0</td>\n",
       "      <td>80</td>\n",
       "      <td>128.0</td>\n",
       "      <td>0.0</td>\n",
       "      <td>NaN</td>\n",
       "      <td>NaN</td>\n",
       "      <td>NaN</td>\n",
       "      <td>NaN</td>\n",
       "      <td>NaN</td>\n",
       "    </tr>\n",
       "  </tbody>\n",
       "</table>\n",
       "</div>"
      ],
      "text/plain": [
       "   cod name_learning_method ind_language  \\\n",
       "0   14             transfer           pt   \n",
       "1   15             transfer           en   \n",
       "\n",
       "                                          name_model name_device descr_filter  \\\n",
       "0  pierreguillou/bert-large-cased-squad-v1.1-port...      cuda:0           {}   \n",
       "1              distilbert-base-cased-distilled-squad      cuda:0           {}   \n",
       "\n",
       "   num_question   datetime_execution  time_execution_total  \\\n",
       "0         10570  2022-07-17 21:54:25                  2632   \n",
       "1         10570  2022-07-17 22:40:21                  2329   \n",
       "\n",
       "   time_execution_per_question  num_top_k  num_factor_multiply_top_k  \\\n",
       "0                          249          3                       10.0   \n",
       "1                          220          3                       10.0   \n",
       "\n",
       "   num_max_answer_length  num_doc_stride  if_handle_impossible_answer  \\\n",
       "0                     80           128.0                          0.0   \n",
       "1                     80           128.0                          0.0   \n",
       "\n",
       "   if_do_sample  val_length_penalty  val_temperature  cod_prompt_format  \\\n",
       "0           NaN                 NaN              NaN                NaN   \n",
       "1           NaN                 NaN              NaN                NaN   \n",
       "\n",
       "  list_stop_words  \n",
       "0             NaN  \n",
       "1             NaN  "
      ]
     },
     "execution_count": 16,
     "metadata": {},
     "output_type": "execute_result"
    }
   ],
   "source": [
    "rastro_eval_qa.df_evaluation.head(2)"
   ]
  },
  {
   "cell_type": "code",
   "execution_count": 17,
   "metadata": {},
   "outputs": [
    {
     "data": {
      "text/html": [
       "<div>\n",
       "<style scoped>\n",
       "    .dataframe tbody tr th:only-of-type {\n",
       "        vertical-align: middle;\n",
       "    }\n",
       "\n",
       "    .dataframe tbody tr th {\n",
       "        vertical-align: top;\n",
       "    }\n",
       "\n",
       "    .dataframe thead th {\n",
       "        text-align: right;\n",
       "    }\n",
       "</style>\n",
       "<table border=\"1\" class=\"dataframe\">\n",
       "  <thead>\n",
       "    <tr style=\"text-align: right;\">\n",
       "      <th></th>\n",
       "      <th>cod_evaluation</th>\n",
       "      <th>cod_metric</th>\n",
       "      <th>value</th>\n",
       "    </tr>\n",
       "  </thead>\n",
       "  <tbody>\n",
       "    <tr>\n",
       "      <th>0</th>\n",
       "      <td>14</td>\n",
       "      <td>EM</td>\n",
       "      <td>72.20</td>\n",
       "    </tr>\n",
       "    <tr>\n",
       "      <th>1</th>\n",
       "      <td>14</td>\n",
       "      <td>F1</td>\n",
       "      <td>83.17</td>\n",
       "    </tr>\n",
       "  </tbody>\n",
       "</table>\n",
       "</div>"
      ],
      "text/plain": [
       "   cod_evaluation cod_metric  value\n",
       "0              14         EM  72.20\n",
       "1              14         F1  83.17"
      ]
     },
     "execution_count": 17,
     "metadata": {},
     "output_type": "execute_result"
    }
   ],
   "source": [
    "rastro_eval_qa.df_calculated_metric.head(2)"
   ]
  },
  {
   "cell_type": "code",
   "execution_count": 18,
   "metadata": {},
   "outputs": [],
   "source": [
    "df_eval = pd.merge(left=rastro_eval_qa.df_evaluation, right=rastro_eval_qa.df_calculated_metric , left_on='cod', right_on='cod_evaluation', how='left')"
   ]
  },
  {
   "cell_type": "code",
   "execution_count": 19,
   "metadata": {},
   "outputs": [
    {
     "data": {
      "text/plain": [
       "92"
      ]
     },
     "execution_count": 19,
     "metadata": {},
     "output_type": "execute_result"
    }
   ],
   "source": [
    "len(df_eval)"
   ]
  },
  {
   "cell_type": "code",
   "execution_count": 20,
   "metadata": {},
   "outputs": [
    {
     "data": {
      "text/html": [
       "<div>\n",
       "<style scoped>\n",
       "    .dataframe tbody tr th:only-of-type {\n",
       "        vertical-align: middle;\n",
       "    }\n",
       "\n",
       "    .dataframe tbody tr th {\n",
       "        vertical-align: top;\n",
       "    }\n",
       "\n",
       "    .dataframe thead th {\n",
       "        text-align: right;\n",
       "    }\n",
       "</style>\n",
       "<table border=\"1\" class=\"dataframe\">\n",
       "  <thead>\n",
       "    <tr style=\"text-align: right;\">\n",
       "      <th></th>\n",
       "      <th>cod</th>\n",
       "      <th>name_learning_method</th>\n",
       "      <th>ind_language</th>\n",
       "      <th>name_model</th>\n",
       "      <th>name_device</th>\n",
       "      <th>descr_filter</th>\n",
       "      <th>num_question</th>\n",
       "      <th>datetime_execution</th>\n",
       "      <th>time_execution_total</th>\n",
       "      <th>time_execution_per_question</th>\n",
       "      <th>...</th>\n",
       "      <th>num_doc_stride</th>\n",
       "      <th>if_handle_impossible_answer</th>\n",
       "      <th>if_do_sample</th>\n",
       "      <th>val_length_penalty</th>\n",
       "      <th>val_temperature</th>\n",
       "      <th>cod_prompt_format</th>\n",
       "      <th>list_stop_words</th>\n",
       "      <th>cod_evaluation</th>\n",
       "      <th>cod_metric</th>\n",
       "      <th>value</th>\n",
       "    </tr>\n",
       "  </thead>\n",
       "  <tbody>\n",
       "    <tr>\n",
       "      <th>0</th>\n",
       "      <td>14</td>\n",
       "      <td>transfer</td>\n",
       "      <td>pt</td>\n",
       "      <td>pierreguillou/bert-large-cased-squad-v1.1-port...</td>\n",
       "      <td>cuda:0</td>\n",
       "      <td>{}</td>\n",
       "      <td>10570</td>\n",
       "      <td>2022-07-17 21:54:25</td>\n",
       "      <td>2632</td>\n",
       "      <td>249</td>\n",
       "      <td>...</td>\n",
       "      <td>128.0</td>\n",
       "      <td>0.0</td>\n",
       "      <td>NaN</td>\n",
       "      <td>NaN</td>\n",
       "      <td>NaN</td>\n",
       "      <td>NaN</td>\n",
       "      <td>NaN</td>\n",
       "      <td>14</td>\n",
       "      <td>EM</td>\n",
       "      <td>72.20</td>\n",
       "    </tr>\n",
       "    <tr>\n",
       "      <th>1</th>\n",
       "      <td>14</td>\n",
       "      <td>transfer</td>\n",
       "      <td>pt</td>\n",
       "      <td>pierreguillou/bert-large-cased-squad-v1.1-port...</td>\n",
       "      <td>cuda:0</td>\n",
       "      <td>{}</td>\n",
       "      <td>10570</td>\n",
       "      <td>2022-07-17 21:54:25</td>\n",
       "      <td>2632</td>\n",
       "      <td>249</td>\n",
       "      <td>...</td>\n",
       "      <td>128.0</td>\n",
       "      <td>0.0</td>\n",
       "      <td>NaN</td>\n",
       "      <td>NaN</td>\n",
       "      <td>NaN</td>\n",
       "      <td>NaN</td>\n",
       "      <td>NaN</td>\n",
       "      <td>14</td>\n",
       "      <td>F1</td>\n",
       "      <td>83.17</td>\n",
       "    </tr>\n",
       "    <tr>\n",
       "      <th>2</th>\n",
       "      <td>14</td>\n",
       "      <td>transfer</td>\n",
       "      <td>pt</td>\n",
       "      <td>pierreguillou/bert-large-cased-squad-v1.1-port...</td>\n",
       "      <td>cuda:0</td>\n",
       "      <td>{}</td>\n",
       "      <td>10570</td>\n",
       "      <td>2022-07-17 21:54:25</td>\n",
       "      <td>2632</td>\n",
       "      <td>249</td>\n",
       "      <td>...</td>\n",
       "      <td>128.0</td>\n",
       "      <td>0.0</td>\n",
       "      <td>NaN</td>\n",
       "      <td>NaN</td>\n",
       "      <td>NaN</td>\n",
       "      <td>NaN</td>\n",
       "      <td>NaN</td>\n",
       "      <td>14</td>\n",
       "      <td>EM@3</td>\n",
       "      <td>84.55</td>\n",
       "    </tr>\n",
       "    <tr>\n",
       "      <th>3</th>\n",
       "      <td>14</td>\n",
       "      <td>transfer</td>\n",
       "      <td>pt</td>\n",
       "      <td>pierreguillou/bert-large-cased-squad-v1.1-port...</td>\n",
       "      <td>cuda:0</td>\n",
       "      <td>{}</td>\n",
       "      <td>10570</td>\n",
       "      <td>2022-07-17 21:54:25</td>\n",
       "      <td>2632</td>\n",
       "      <td>249</td>\n",
       "      <td>...</td>\n",
       "      <td>128.0</td>\n",
       "      <td>0.0</td>\n",
       "      <td>NaN</td>\n",
       "      <td>NaN</td>\n",
       "      <td>NaN</td>\n",
       "      <td>NaN</td>\n",
       "      <td>NaN</td>\n",
       "      <td>14</td>\n",
       "      <td>F1@3</td>\n",
       "      <td>89.74</td>\n",
       "    </tr>\n",
       "    <tr>\n",
       "      <th>4</th>\n",
       "      <td>15</td>\n",
       "      <td>transfer</td>\n",
       "      <td>en</td>\n",
       "      <td>distilbert-base-cased-distilled-squad</td>\n",
       "      <td>cuda:0</td>\n",
       "      <td>{}</td>\n",
       "      <td>10570</td>\n",
       "      <td>2022-07-17 22:40:21</td>\n",
       "      <td>2329</td>\n",
       "      <td>220</td>\n",
       "      <td>...</td>\n",
       "      <td>128.0</td>\n",
       "      <td>0.0</td>\n",
       "      <td>NaN</td>\n",
       "      <td>NaN</td>\n",
       "      <td>NaN</td>\n",
       "      <td>NaN</td>\n",
       "      <td>NaN</td>\n",
       "      <td>15</td>\n",
       "      <td>EM</td>\n",
       "      <td>78.34</td>\n",
       "    </tr>\n",
       "  </tbody>\n",
       "</table>\n",
       "<p>5 rows × 23 columns</p>\n",
       "</div>"
      ],
      "text/plain": [
       "   cod name_learning_method ind_language  \\\n",
       "0   14             transfer           pt   \n",
       "1   14             transfer           pt   \n",
       "2   14             transfer           pt   \n",
       "3   14             transfer           pt   \n",
       "4   15             transfer           en   \n",
       "\n",
       "                                          name_model name_device descr_filter  \\\n",
       "0  pierreguillou/bert-large-cased-squad-v1.1-port...      cuda:0           {}   \n",
       "1  pierreguillou/bert-large-cased-squad-v1.1-port...      cuda:0           {}   \n",
       "2  pierreguillou/bert-large-cased-squad-v1.1-port...      cuda:0           {}   \n",
       "3  pierreguillou/bert-large-cased-squad-v1.1-port...      cuda:0           {}   \n",
       "4              distilbert-base-cased-distilled-squad      cuda:0           {}   \n",
       "\n",
       "   num_question   datetime_execution  time_execution_total  \\\n",
       "0         10570  2022-07-17 21:54:25                  2632   \n",
       "1         10570  2022-07-17 21:54:25                  2632   \n",
       "2         10570  2022-07-17 21:54:25                  2632   \n",
       "3         10570  2022-07-17 21:54:25                  2632   \n",
       "4         10570  2022-07-17 22:40:21                  2329   \n",
       "\n",
       "   time_execution_per_question  ...  num_doc_stride  \\\n",
       "0                          249  ...           128.0   \n",
       "1                          249  ...           128.0   \n",
       "2                          249  ...           128.0   \n",
       "3                          249  ...           128.0   \n",
       "4                          220  ...           128.0   \n",
       "\n",
       "   if_handle_impossible_answer  if_do_sample  val_length_penalty  \\\n",
       "0                          0.0           NaN                 NaN   \n",
       "1                          0.0           NaN                 NaN   \n",
       "2                          0.0           NaN                 NaN   \n",
       "3                          0.0           NaN                 NaN   \n",
       "4                          0.0           NaN                 NaN   \n",
       "\n",
       "   val_temperature  cod_prompt_format  list_stop_words  cod_evaluation  \\\n",
       "0              NaN                NaN              NaN              14   \n",
       "1              NaN                NaN              NaN              14   \n",
       "2              NaN                NaN              NaN              14   \n",
       "3              NaN                NaN              NaN              14   \n",
       "4              NaN                NaN              NaN              15   \n",
       "\n",
       "   cod_metric  value  \n",
       "0          EM  72.20  \n",
       "1          F1  83.17  \n",
       "2        EM@3  84.55  \n",
       "3        F1@3  89.74  \n",
       "4          EM  78.34  \n",
       "\n",
       "[5 rows x 23 columns]"
      ]
     },
     "execution_count": 20,
     "metadata": {},
     "output_type": "execute_result"
    }
   ],
   "source": [
    "df_eval.head(5)"
   ]
  },
  {
   "cell_type": "code",
   "execution_count": 21,
   "metadata": {},
   "outputs": [],
   "source": [
    "df_eval_grouped = df_eval.pivot(index='cod', columns='cod_metric', values='value')"
   ]
  },
  {
   "cell_type": "code",
   "execution_count": 26,
   "metadata": {},
   "outputs": [
    {
     "data": {
      "text/plain": [
       "23"
      ]
     },
     "execution_count": 26,
     "metadata": {},
     "output_type": "execute_result"
    }
   ],
   "source": [
    "len(df_eval_grouped)"
   ]
  },
  {
   "cell_type": "code",
   "execution_count": 27,
   "metadata": {},
   "outputs": [
    {
     "data": {
      "text/html": [
       "<div>\n",
       "<style scoped>\n",
       "    .dataframe tbody tr th:only-of-type {\n",
       "        vertical-align: middle;\n",
       "    }\n",
       "\n",
       "    .dataframe tbody tr th {\n",
       "        vertical-align: top;\n",
       "    }\n",
       "\n",
       "    .dataframe thead th {\n",
       "        text-align: right;\n",
       "    }\n",
       "</style>\n",
       "<table border=\"1\" class=\"dataframe\">\n",
       "  <thead>\n",
       "    <tr style=\"text-align: right;\">\n",
       "      <th></th>\n",
       "      <th>cod</th>\n",
       "      <th>name_learning_method</th>\n",
       "      <th>ind_language</th>\n",
       "      <th>name_model</th>\n",
       "      <th>name_device</th>\n",
       "      <th>descr_filter</th>\n",
       "      <th>num_question</th>\n",
       "      <th>datetime_execution</th>\n",
       "      <th>time_execution_total</th>\n",
       "      <th>time_execution_per_question</th>\n",
       "      <th>...</th>\n",
       "      <th>if_handle_impossible_answer</th>\n",
       "      <th>if_do_sample</th>\n",
       "      <th>val_length_penalty</th>\n",
       "      <th>val_temperature</th>\n",
       "      <th>cod_prompt_format</th>\n",
       "      <th>list_stop_words</th>\n",
       "      <th>EM</th>\n",
       "      <th>EM@3</th>\n",
       "      <th>F1</th>\n",
       "      <th>F1@3</th>\n",
       "    </tr>\n",
       "  </thead>\n",
       "  <tbody>\n",
       "    <tr>\n",
       "      <th>0</th>\n",
       "      <td>14</td>\n",
       "      <td>transfer</td>\n",
       "      <td>pt</td>\n",
       "      <td>pierreguillou/bert-large-cased-squad-v1.1-port...</td>\n",
       "      <td>cuda:0</td>\n",
       "      <td>{}</td>\n",
       "      <td>10570</td>\n",
       "      <td>2022-07-17 21:54:25</td>\n",
       "      <td>2632</td>\n",
       "      <td>249</td>\n",
       "      <td>...</td>\n",
       "      <td>0.0</td>\n",
       "      <td>NaN</td>\n",
       "      <td>NaN</td>\n",
       "      <td>NaN</td>\n",
       "      <td>NaN</td>\n",
       "      <td>NaN</td>\n",
       "      <td>72.20</td>\n",
       "      <td>84.55</td>\n",
       "      <td>83.17</td>\n",
       "      <td>89.74</td>\n",
       "    </tr>\n",
       "    <tr>\n",
       "      <th>1</th>\n",
       "      <td>15</td>\n",
       "      <td>transfer</td>\n",
       "      <td>en</td>\n",
       "      <td>distilbert-base-cased-distilled-squad</td>\n",
       "      <td>cuda:0</td>\n",
       "      <td>{}</td>\n",
       "      <td>10570</td>\n",
       "      <td>2022-07-17 22:40:21</td>\n",
       "      <td>2329</td>\n",
       "      <td>220</td>\n",
       "      <td>...</td>\n",
       "      <td>0.0</td>\n",
       "      <td>NaN</td>\n",
       "      <td>NaN</td>\n",
       "      <td>NaN</td>\n",
       "      <td>NaN</td>\n",
       "      <td>NaN</td>\n",
       "      <td>78.34</td>\n",
       "      <td>88.00</td>\n",
       "      <td>85.94</td>\n",
       "      <td>91.98</td>\n",
       "    </tr>\n",
       "    <tr>\n",
       "      <th>2</th>\n",
       "      <td>16</td>\n",
       "      <td>transfer</td>\n",
       "      <td>pt</td>\n",
       "      <td>pierreguillou/bert-large-cased-squad-v1.1-port...</td>\n",
       "      <td>cuda:0</td>\n",
       "      <td>{}</td>\n",
       "      <td>10570</td>\n",
       "      <td>2022-07-17 23:21:29</td>\n",
       "      <td>2922</td>\n",
       "      <td>276</td>\n",
       "      <td>...</td>\n",
       "      <td>0.0</td>\n",
       "      <td>NaN</td>\n",
       "      <td>NaN</td>\n",
       "      <td>NaN</td>\n",
       "      <td>NaN</td>\n",
       "      <td>NaN</td>\n",
       "      <td>72.14</td>\n",
       "      <td>84.41</td>\n",
       "      <td>83.10</td>\n",
       "      <td>89.65</td>\n",
       "    </tr>\n",
       "    <tr>\n",
       "      <th>3</th>\n",
       "      <td>17</td>\n",
       "      <td>transfer</td>\n",
       "      <td>en</td>\n",
       "      <td>distilbert-base-cased-distilled-squad</td>\n",
       "      <td>cuda:0</td>\n",
       "      <td>{}</td>\n",
       "      <td>10570</td>\n",
       "      <td>2022-07-18 00:12:43</td>\n",
       "      <td>2331</td>\n",
       "      <td>221</td>\n",
       "      <td>...</td>\n",
       "      <td>0.0</td>\n",
       "      <td>NaN</td>\n",
       "      <td>NaN</td>\n",
       "      <td>NaN</td>\n",
       "      <td>NaN</td>\n",
       "      <td>NaN</td>\n",
       "      <td>78.32</td>\n",
       "      <td>87.86</td>\n",
       "      <td>85.92</td>\n",
       "      <td>91.84</td>\n",
       "    </tr>\n",
       "    <tr>\n",
       "      <th>4</th>\n",
       "      <td>18</td>\n",
       "      <td>context</td>\n",
       "      <td>en</td>\n",
       "      <td>EleutherAI/gpt-j-6B</td>\n",
       "      <td>cuda:0</td>\n",
       "      <td>{}</td>\n",
       "      <td>10570</td>\n",
       "      <td>2022-07-18 14:36:12</td>\n",
       "      <td>4937</td>\n",
       "      <td>467</td>\n",
       "      <td>...</td>\n",
       "      <td>NaN</td>\n",
       "      <td>0.0</td>\n",
       "      <td>0.0</td>\n",
       "      <td>0.1</td>\n",
       "      <td>101.0</td>\n",
       "      <td>['.', '\\n', '!']</td>\n",
       "      <td>30.96</td>\n",
       "      <td>36.38</td>\n",
       "      <td>39.49</td>\n",
       "      <td>47.89</td>\n",
       "    </tr>\n",
       "  </tbody>\n",
       "</table>\n",
       "<p>5 rows × 24 columns</p>\n",
       "</div>"
      ],
      "text/plain": [
       "   cod name_learning_method ind_language  \\\n",
       "0   14             transfer           pt   \n",
       "1   15             transfer           en   \n",
       "2   16             transfer           pt   \n",
       "3   17             transfer           en   \n",
       "4   18              context           en   \n",
       "\n",
       "                                          name_model name_device descr_filter  \\\n",
       "0  pierreguillou/bert-large-cased-squad-v1.1-port...      cuda:0           {}   \n",
       "1              distilbert-base-cased-distilled-squad      cuda:0           {}   \n",
       "2  pierreguillou/bert-large-cased-squad-v1.1-port...      cuda:0           {}   \n",
       "3              distilbert-base-cased-distilled-squad      cuda:0           {}   \n",
       "4                                EleutherAI/gpt-j-6B      cuda:0           {}   \n",
       "\n",
       "   num_question   datetime_execution  time_execution_total  \\\n",
       "0         10570  2022-07-17 21:54:25                  2632   \n",
       "1         10570  2022-07-17 22:40:21                  2329   \n",
       "2         10570  2022-07-17 23:21:29                  2922   \n",
       "3         10570  2022-07-18 00:12:43                  2331   \n",
       "4         10570  2022-07-18 14:36:12                  4937   \n",
       "\n",
       "   time_execution_per_question  ...  if_handle_impossible_answer  \\\n",
       "0                          249  ...                          0.0   \n",
       "1                          220  ...                          0.0   \n",
       "2                          276  ...                          0.0   \n",
       "3                          221  ...                          0.0   \n",
       "4                          467  ...                          NaN   \n",
       "\n",
       "   if_do_sample  val_length_penalty  val_temperature  cod_prompt_format  \\\n",
       "0           NaN                 NaN              NaN                NaN   \n",
       "1           NaN                 NaN              NaN                NaN   \n",
       "2           NaN                 NaN              NaN                NaN   \n",
       "3           NaN                 NaN              NaN                NaN   \n",
       "4           0.0                 0.0              0.1              101.0   \n",
       "\n",
       "    list_stop_words     EM   EM@3     F1   F1@3  \n",
       "0               NaN  72.20  84.55  83.17  89.74  \n",
       "1               NaN  78.34  88.00  85.94  91.98  \n",
       "2               NaN  72.14  84.41  83.10  89.65  \n",
       "3               NaN  78.32  87.86  85.92  91.84  \n",
       "4  ['.', '\\n', '!']  30.96  36.38  39.49  47.89  \n",
       "\n",
       "[5 rows x 24 columns]"
      ]
     },
     "execution_count": 27,
     "metadata": {},
     "output_type": "execute_result"
    }
   ],
   "source": [
    "df_eval_grouped.head(5)"
   ]
  },
  {
   "cell_type": "code",
   "execution_count": 24,
   "metadata": {},
   "outputs": [],
   "source": [
    "df_pivoted_metric = rastro_eval_qa._df_calculated_metric.pivot(index='cod_evaluation', columns='cod_metric', values='value')\n"
   ]
  },
  {
   "cell_type": "code",
   "execution_count": 25,
   "metadata": {},
   "outputs": [],
   "source": [
    "df_eval_grouped = pd.merge(left=rastro_eval_qa.df_evaluation, right=df_pivoted_metric , left_on='cod', right_on='cod_evaluation', how='left')\n",
    "\n"
   ]
  },
  {
   "cell_type": "code",
   "execution_count": null,
   "metadata": {},
   "outputs": [],
   "source": []
  },
  {
   "cell_type": "code",
   "execution_count": null,
   "metadata": {},
   "outputs": [],
   "source": []
  },
  {
   "cell_type": "code",
   "execution_count": 53,
   "metadata": {},
   "outputs": [],
   "source": [
    "id_context_len='5726c3da708984140094d0db'"
   ]
  },
  {
   "cell_type": "code",
   "execution_count": 54,
   "metadata": {},
   "outputs": [
    {
     "data": {
      "text/html": [
       "<div>\n",
       "<style scoped>\n",
       "    .dataframe tbody tr th:only-of-type {\n",
       "        vertical-align: middle;\n",
       "    }\n",
       "\n",
       "    .dataframe tbody tr th {\n",
       "        vertical-align: top;\n",
       "    }\n",
       "\n",
       "    .dataframe thead th {\n",
       "        text-align: right;\n",
       "    }\n",
       "</style>\n",
       "<table border=\"1\" class=\"dataframe\">\n",
       "  <thead>\n",
       "    <tr style=\"text-align: right;\">\n",
       "      <th></th>\n",
       "      <th>cod_evaluation</th>\n",
       "      <th>cod_question</th>\n",
       "      <th>cod_metric</th>\n",
       "      <th>value</th>\n",
       "    </tr>\n",
       "  </thead>\n",
       "  <tbody>\n",
       "    <tr>\n",
       "      <th>0</th>\n",
       "      <td>14</td>\n",
       "      <td>56be4db0acb8001400a502ec</td>\n",
       "      <td>EM</td>\n",
       "      <td>1.0</td>\n",
       "    </tr>\n",
       "    <tr>\n",
       "      <th>1</th>\n",
       "      <td>14</td>\n",
       "      <td>56be4db0acb8001400a502ec</td>\n",
       "      <td>F1</td>\n",
       "      <td>1.0</td>\n",
       "    </tr>\n",
       "    <tr>\n",
       "      <th>2</th>\n",
       "      <td>14</td>\n",
       "      <td>56be4db0acb8001400a502ec</td>\n",
       "      <td>EM@3</td>\n",
       "      <td>1.0</td>\n",
       "    </tr>\n",
       "    <tr>\n",
       "      <th>3</th>\n",
       "      <td>14</td>\n",
       "      <td>56be4db0acb8001400a502ec</td>\n",
       "      <td>F1@3</td>\n",
       "      <td>1.0</td>\n",
       "    </tr>\n",
       "    <tr>\n",
       "      <th>4</th>\n",
       "      <td>14</td>\n",
       "      <td>56be4db0acb8001400a502ed</td>\n",
       "      <td>EM</td>\n",
       "      <td>1.0</td>\n",
       "    </tr>\n",
       "  </tbody>\n",
       "</table>\n",
       "</div>"
      ],
      "text/plain": [
       "   cod_evaluation              cod_question cod_metric  value\n",
       "0              14  56be4db0acb8001400a502ec         EM    1.0\n",
       "1              14  56be4db0acb8001400a502ec         F1    1.0\n",
       "2              14  56be4db0acb8001400a502ec       EM@3    1.0\n",
       "3              14  56be4db0acb8001400a502ec       F1@3    1.0\n",
       "4              14  56be4db0acb8001400a502ed         EM    1.0"
      ]
     },
     "execution_count": 54,
     "metadata": {},
     "output_type": "execute_result"
    }
   ],
   "source": [
    "dtype_calculated_metric_per_question = {\n",
    "    'cod_evaluation':int,\n",
    "    'cod_question':str,\n",
    "    'cod_metric':str,\n",
    "    'value':float,\n",
    "}\n",
    "df_eval_per_question = pd.read_csv('data/tab_calculated_metric_per_question.csv', sep = ',',\n",
    "        header=0,\n",
    "        dtype= dtype_calculated_metric_per_question,\n",
    "        index_col=False)\n",
    "for property_name, property_type in dtype_calculated_metric_per_question.items():\n",
    "    if property_type in (int, float, bool):\n",
    "        df_eval_per_question[property_name] = df_eval_per_question[property_name].astype(property_type)\n",
    "\n",
    "df_eval_per_question.head()"
   ]
  },
  {
   "cell_type": "code",
   "execution_count": 65,
   "metadata": {},
   "outputs": [
    {
     "data": {
      "text/html": [
       "<div>\n",
       "<style scoped>\n",
       "    .dataframe tbody tr th:only-of-type {\n",
       "        vertical-align: middle;\n",
       "    }\n",
       "\n",
       "    .dataframe tbody tr th {\n",
       "        vertical-align: top;\n",
       "    }\n",
       "\n",
       "    .dataframe thead th {\n",
       "        text-align: right;\n",
       "    }\n",
       "</style>\n",
       "<table border=\"1\" class=\"dataframe\">\n",
       "  <thead>\n",
       "    <tr style=\"text-align: right;\">\n",
       "      <th></th>\n",
       "      <th>value</th>\n",
       "    </tr>\n",
       "  </thead>\n",
       "  <tbody>\n",
       "    <tr>\n",
       "      <th>count</th>\n",
       "      <td>10570.000000</td>\n",
       "    </tr>\n",
       "    <tr>\n",
       "      <th>mean</th>\n",
       "      <td>0.687339</td>\n",
       "    </tr>\n",
       "    <tr>\n",
       "      <th>std</th>\n",
       "      <td>0.411423</td>\n",
       "    </tr>\n",
       "    <tr>\n",
       "      <th>min</th>\n",
       "      <td>0.000000</td>\n",
       "    </tr>\n",
       "    <tr>\n",
       "      <th>25%</th>\n",
       "      <td>0.315800</td>\n",
       "    </tr>\n",
       "    <tr>\n",
       "      <th>50%</th>\n",
       "      <td>1.000000</td>\n",
       "    </tr>\n",
       "    <tr>\n",
       "      <th>75%</th>\n",
       "      <td>1.000000</td>\n",
       "    </tr>\n",
       "    <tr>\n",
       "      <th>max</th>\n",
       "      <td>1.000000</td>\n",
       "    </tr>\n",
       "  </tbody>\n",
       "</table>\n",
       "</div>"
      ],
      "text/plain": [
       "              value\n",
       "count  10570.000000\n",
       "mean       0.687339\n",
       "std        0.411423\n",
       "min        0.000000\n",
       "25%        0.315800\n",
       "50%        1.000000\n",
       "75%        1.000000\n",
       "max        1.000000"
      ]
     },
     "execution_count": 65,
     "metadata": {},
     "output_type": "execute_result"
    }
   ],
   "source": [
    "df_eval_per_question.query('cod_evaluation==29 and cod_metric==\"F1\"')[['value']].describe()"
   ]
  },
  {
   "cell_type": "code",
   "execution_count": 67,
   "metadata": {},
   "outputs": [],
   "source": [
    "df_eval_per_question_qtd_char = pd.merge(left=df, right=df_eval_per_question , left_on='id', right_on='cod_question', how='left')[['cod_evaluation', 'cod_question', 'cod_metric', 'value','question_context_len_char' ]]"
   ]
  },
  {
   "cell_type": "code",
   "execution_count": 68,
   "metadata": {},
   "outputs": [
    {
     "data": {
      "text/html": [
       "<div>\n",
       "<style scoped>\n",
       "    .dataframe tbody tr th:only-of-type {\n",
       "        vertical-align: middle;\n",
       "    }\n",
       "\n",
       "    .dataframe tbody tr th {\n",
       "        vertical-align: top;\n",
       "    }\n",
       "\n",
       "    .dataframe thead th {\n",
       "        text-align: right;\n",
       "    }\n",
       "</style>\n",
       "<table border=\"1\" class=\"dataframe\">\n",
       "  <thead>\n",
       "    <tr style=\"text-align: right;\">\n",
       "      <th></th>\n",
       "      <th>cod_evaluation</th>\n",
       "      <th>cod_question</th>\n",
       "      <th>cod_metric</th>\n",
       "      <th>value</th>\n",
       "      <th>question_context_len_char</th>\n",
       "    </tr>\n",
       "  </thead>\n",
       "  <tbody>\n",
       "    <tr>\n",
       "      <th>0</th>\n",
       "      <td>14</td>\n",
       "      <td>56be4db0acb8001400a502ec</td>\n",
       "      <td>EM</td>\n",
       "      <td>1.0</td>\n",
       "      <td>827</td>\n",
       "    </tr>\n",
       "    <tr>\n",
       "      <th>1</th>\n",
       "      <td>14</td>\n",
       "      <td>56be4db0acb8001400a502ec</td>\n",
       "      <td>F1</td>\n",
       "      <td>1.0</td>\n",
       "      <td>827</td>\n",
       "    </tr>\n",
       "    <tr>\n",
       "      <th>2</th>\n",
       "      <td>14</td>\n",
       "      <td>56be4db0acb8001400a502ec</td>\n",
       "      <td>EM@3</td>\n",
       "      <td>1.0</td>\n",
       "      <td>827</td>\n",
       "    </tr>\n",
       "    <tr>\n",
       "      <th>3</th>\n",
       "      <td>14</td>\n",
       "      <td>56be4db0acb8001400a502ec</td>\n",
       "      <td>F1@3</td>\n",
       "      <td>1.0</td>\n",
       "      <td>827</td>\n",
       "    </tr>\n",
       "    <tr>\n",
       "      <th>4</th>\n",
       "      <td>15</td>\n",
       "      <td>56be4db0acb8001400a502ec</td>\n",
       "      <td>EM</td>\n",
       "      <td>1.0</td>\n",
       "      <td>827</td>\n",
       "    </tr>\n",
       "  </tbody>\n",
       "</table>\n",
       "</div>"
      ],
      "text/plain": [
       "   cod_evaluation              cod_question cod_metric  value  \\\n",
       "0              14  56be4db0acb8001400a502ec         EM    1.0   \n",
       "1              14  56be4db0acb8001400a502ec         F1    1.0   \n",
       "2              14  56be4db0acb8001400a502ec       EM@3    1.0   \n",
       "3              14  56be4db0acb8001400a502ec       F1@3    1.0   \n",
       "4              15  56be4db0acb8001400a502ec         EM    1.0   \n",
       "\n",
       "   question_context_len_char  \n",
       "0                        827  \n",
       "1                        827  \n",
       "2                        827  \n",
       "3                        827  \n",
       "4                        827  "
      ]
     },
     "execution_count": 68,
     "metadata": {},
     "output_type": "execute_result"
    }
   ],
   "source": [
    "df_eval_per_question_qtd_char.head(5)"
   ]
  },
  {
   "cell_type": "code",
   "execution_count": 73,
   "metadata": {},
   "outputs": [],
   "source": [
    "df_alvo = df_eval_per_question_qtd_char.query('cod_evaluation==29 and cod_metric==\"F1\"')"
   ]
  },
  {
   "cell_type": "code",
   "execution_count": null,
   "metadata": {},
   "outputs": [],
   "source": [
    "df_alvo.plot(kind='bar',x='question_context_len_char', y='value')"
   ]
  },
  {
   "cell_type": "code",
   "execution_count": 74,
   "metadata": {},
   "outputs": [
    {
     "data": {
      "text/plain": [
       "<AxesSubplot:xlabel='question_context_len_char', ylabel='value'>"
      ]
     },
     "execution_count": 74,
     "metadata": {},
     "output_type": "execute_result"
    },
    {
     "data": {
      "image/png": "[encoded data removed]",
      "text/plain": [
       "<Figure size 640x480 with 1 Axes>"
      ]
     },
     "metadata": {},
     "output_type": "display_data"
    }
   ],
   "source": [
    "df_alvo.plot(kind='scatter',x='question_context_len_char', y='value')"
   ]
  },
  {
   "cell_type": "code",
   "execution_count": 75,
   "metadata": {},
   "outputs": [
    {
     "data": {
      "text/plain": [
       "<AxesSubplot:xlabel='question_context_len_char', ylabel='value'>"
      ]
     },
     "execution_count": 75,
     "metadata": {},
     "output_type": "execute_result"
    },
    {
     "data": {
      "image/png": "[encoded data removed]",
      "text/plain": [
       "<Figure size 640x480 with 1 Axes>"
      ]
     },
     "metadata": {},
     "output_type": "display_data"
    }
   ],
   "source": [
    "df_alvo = df_eval_per_question_qtd_char.query('cod_evaluation==26 and cod_metric==\"F1\"')\n",
    "df_alvo.plot(kind='scatter',x='question_context_len_char', y='value')"
   ]
  },
  {
   "cell_type": "code",
   "execution_count": 76,
   "metadata": {},
   "outputs": [
    {
     "data": {
      "text/plain": [
       "<AxesSubplot:xlabel='question_context_len_char', ylabel='value'>"
      ]
     },
     "execution_count": 76,
     "metadata": {},
     "output_type": "execute_result"
    },
    {
     "data": {
      "image/png": "[encoded data removed]",
      "text/plain": [
       "<Figure size 640x480 with 1 Axes>"
      ]
     },
     "metadata": {},
     "output_type": "display_data"
    }
   ],
   "source": [
    "df_alvo = df_eval_per_question_qtd_char.query('cod_evaluation==22 and cod_metric==\"F1\"')\n",
    "df_alvo.plot(kind='scatter',x='question_context_len_char', y='value')"
   ]
  },
  {
   "cell_type": "code",
   "execution_count": 77,
   "metadata": {},
   "outputs": [
    {
     "data": {
      "text/plain": [
       "<AxesSubplot:xlabel='question_context_len_char', ylabel='value'>"
      ]
     },
     "execution_count": 77,
     "metadata": {},
     "output_type": "execute_result"
    },
    {
     "data": {
      "image/png": "[encoded data removed]",
      "text/plain": [
       "<Figure size 640x480 with 1 Axes>"
      ]
     },
     "metadata": {},
     "output_type": "display_data"
    }
   ],
   "source": [
    "df_alvo = df_eval_per_question_qtd_char.query('cod_evaluation==18 and cod_metric==\"F1\"')\n",
    "df_alvo.plot(kind='scatter',x='question_context_len_char', y='value')"
   ]
  },
  {
   "cell_type": "code",
   "execution_count": 78,
   "metadata": {},
   "outputs": [
    {
     "data": {
      "text/html": [
       "<div>\n",
       "<style scoped>\n",
       "    .dataframe tbody tr th:only-of-type {\n",
       "        vertical-align: middle;\n",
       "    }\n",
       "\n",
       "    .dataframe tbody tr th {\n",
       "        vertical-align: top;\n",
       "    }\n",
       "\n",
       "    .dataframe thead th {\n",
       "        text-align: right;\n",
       "    }\n",
       "</style>\n",
       "<table border=\"1\" class=\"dataframe\">\n",
       "  <thead>\n",
       "    <tr style=\"text-align: right;\">\n",
       "      <th></th>\n",
       "      <th>cod_evaluation</th>\n",
       "      <th>value</th>\n",
       "      <th>question_context_len_char</th>\n",
       "    </tr>\n",
       "  </thead>\n",
       "  <tbody>\n",
       "    <tr>\n",
       "      <th>cod_evaluation</th>\n",
       "      <td>NaN</td>\n",
       "      <td>NaN</td>\n",
       "      <td>NaN</td>\n",
       "    </tr>\n",
       "    <tr>\n",
       "      <th>value</th>\n",
       "      <td>NaN</td>\n",
       "      <td>1.000000</td>\n",
       "      <td>0.015014</td>\n",
       "    </tr>\n",
       "    <tr>\n",
       "      <th>question_context_len_char</th>\n",
       "      <td>NaN</td>\n",
       "      <td>0.015014</td>\n",
       "      <td>1.000000</td>\n",
       "    </tr>\n",
       "  </tbody>\n",
       "</table>\n",
       "</div>"
      ],
      "text/plain": [
       "                           cod_evaluation     value  question_context_len_char\n",
       "cod_evaluation                        NaN       NaN                        NaN\n",
       "value                                 NaN  1.000000                   0.015014\n",
       "question_context_len_char             NaN  0.015014                   1.000000"
      ]
     },
     "execution_count": 78,
     "metadata": {},
     "output_type": "execute_result"
    }
   ],
   "source": [
    "df_alvo.corr()"
   ]
  },
  {
   "cell_type": "code",
   "execution_count": 81,
   "metadata": {},
   "outputs": [],
   "source": [
    "import seaborn as sns"
   ]
  },
  {
   "cell_type": "code",
   "execution_count": 82,
   "metadata": {},
   "outputs": [
    {
     "data": {
      "text/plain": [
       "<AxesSubplot:xlabel='question_context_len_char', ylabel='value'>"
      ]
     },
     "execution_count": 82,
     "metadata": {},
     "output_type": "execute_result"
    },
    {
     "data": {
      "image/png": "[encoded data removed]",
      "text/plain": [
       "<Figure size 640x480 with 1 Axes>"
      ]
     },
     "metadata": {},
     "output_type": "display_data"
    }
   ],
   "source": [
    "sns.regplot(x=df_alvo['question_context_len_char'], y=df_alvo['value'])"
   ]
  },
  {
   "cell_type": "code",
   "execution_count": 84,
   "metadata": {},
   "outputs": [
    {
     "name": "stderr",
     "output_type": "stream",
     "text": [
      "/home/borela/miniconda3/envs/exqa-complearning/lib/python3.7/site-packages/seaborn/_decorators.py:43: FutureWarning: Pass the following variable as a keyword arg: x. From version 0.12, the only valid positional argument will be `data`, and passing other arguments without an explicit keyword will result in an error or misinterpretation.\n",
      "  FutureWarning\n"
     ]
    },
    {
     "data": {
      "text/plain": [
       "<AxesSubplot:xlabel='question_context_len_char'>"
      ]
     },
     "execution_count": 84,
     "metadata": {},
     "output_type": "execute_result"
    },
    {
     "data": {
      "image/png": "[encoded data removed]",
      "text/plain": [
       "<Figure size 640x480 with 1 Axes>"
      ]
     },
     "metadata": {},
     "output_type": "display_data"
    }
   ],
   "source": [
    "sns.boxplot(df_alvo['question_context_len_char'])"
   ]
  },
  {
   "cell_type": "code",
   "execution_count": null,
   "metadata": {},
   "outputs": [],
   "source": []
  },
  {
   "cell_type": "code",
   "execution_count": 58,
   "metadata": {},
   "outputs": [
    {
     "data": {
      "text/html": [
       "<div>\n",
       "<style scoped>\n",
       "    .dataframe tbody tr th:only-of-type {\n",
       "        vertical-align: middle;\n",
       "    }\n",
       "\n",
       "    .dataframe tbody tr th {\n",
       "        vertical-align: top;\n",
       "    }\n",
       "\n",
       "    .dataframe thead th {\n",
       "        text-align: right;\n",
       "    }\n",
       "</style>\n",
       "<table border=\"1\" class=\"dataframe\">\n",
       "  <thead>\n",
       "    <tr style=\"text-align: right;\">\n",
       "      <th></th>\n",
       "      <th>cod_evaluation</th>\n",
       "      <th>cod_question</th>\n",
       "      <th>cod_metric</th>\n",
       "      <th>value</th>\n",
       "    </tr>\n",
       "  </thead>\n",
       "  <tbody>\n",
       "    <tr>\n",
       "      <th>186316</th>\n",
       "      <td>18</td>\n",
       "      <td>5726c3da708984140094d0db</td>\n",
       "      <td>EM</td>\n",
       "      <td>0.0000</td>\n",
       "    </tr>\n",
       "    <tr>\n",
       "      <th>186317</th>\n",
       "      <td>18</td>\n",
       "      <td>5726c3da708984140094d0db</td>\n",
       "      <td>F1</td>\n",
       "      <td>0.1250</td>\n",
       "    </tr>\n",
       "    <tr>\n",
       "      <th>186318</th>\n",
       "      <td>18</td>\n",
       "      <td>5726c3da708984140094d0db</td>\n",
       "      <td>EM@3</td>\n",
       "      <td>0.0000</td>\n",
       "    </tr>\n",
       "    <tr>\n",
       "      <th>186319</th>\n",
       "      <td>18</td>\n",
       "      <td>5726c3da708984140094d0db</td>\n",
       "      <td>F1@3</td>\n",
       "      <td>0.1250</td>\n",
       "    </tr>\n",
       "    <tr>\n",
       "      <th>228596</th>\n",
       "      <td>19</td>\n",
       "      <td>5726c3da708984140094d0db</td>\n",
       "      <td>EM</td>\n",
       "      <td>0.0000</td>\n",
       "    </tr>\n",
       "    <tr>\n",
       "      <th>228597</th>\n",
       "      <td>19</td>\n",
       "      <td>5726c3da708984140094d0db</td>\n",
       "      <td>F1</td>\n",
       "      <td>0.0000</td>\n",
       "    </tr>\n",
       "    <tr>\n",
       "      <th>228598</th>\n",
       "      <td>19</td>\n",
       "      <td>5726c3da708984140094d0db</td>\n",
       "      <td>EM@3</td>\n",
       "      <td>0.0000</td>\n",
       "    </tr>\n",
       "    <tr>\n",
       "      <th>228599</th>\n",
       "      <td>19</td>\n",
       "      <td>5726c3da708984140094d0db</td>\n",
       "      <td>F1@3</td>\n",
       "      <td>0.0000</td>\n",
       "    </tr>\n",
       "    <tr>\n",
       "      <th>270876</th>\n",
       "      <td>20</td>\n",
       "      <td>5726c3da708984140094d0db</td>\n",
       "      <td>EM</td>\n",
       "      <td>0.0000</td>\n",
       "    </tr>\n",
       "    <tr>\n",
       "      <th>270877</th>\n",
       "      <td>20</td>\n",
       "      <td>5726c3da708984140094d0db</td>\n",
       "      <td>F1</td>\n",
       "      <td>0.0000</td>\n",
       "    </tr>\n",
       "    <tr>\n",
       "      <th>270878</th>\n",
       "      <td>20</td>\n",
       "      <td>5726c3da708984140094d0db</td>\n",
       "      <td>EM@3</td>\n",
       "      <td>0.0000</td>\n",
       "    </tr>\n",
       "    <tr>\n",
       "      <th>270879</th>\n",
       "      <td>20</td>\n",
       "      <td>5726c3da708984140094d0db</td>\n",
       "      <td>F1@3</td>\n",
       "      <td>0.0000</td>\n",
       "    </tr>\n",
       "    <tr>\n",
       "      <th>313156</th>\n",
       "      <td>21</td>\n",
       "      <td>5726c3da708984140094d0db</td>\n",
       "      <td>EM</td>\n",
       "      <td>0.0000</td>\n",
       "    </tr>\n",
       "    <tr>\n",
       "      <th>313157</th>\n",
       "      <td>21</td>\n",
       "      <td>5726c3da708984140094d0db</td>\n",
       "      <td>F1</td>\n",
       "      <td>0.0000</td>\n",
       "    </tr>\n",
       "    <tr>\n",
       "      <th>313158</th>\n",
       "      <td>21</td>\n",
       "      <td>5726c3da708984140094d0db</td>\n",
       "      <td>EM@3</td>\n",
       "      <td>0.0000</td>\n",
       "    </tr>\n",
       "    <tr>\n",
       "      <th>313159</th>\n",
       "      <td>21</td>\n",
       "      <td>5726c3da708984140094d0db</td>\n",
       "      <td>F1@3</td>\n",
       "      <td>0.0000</td>\n",
       "    </tr>\n",
       "    <tr>\n",
       "      <th>355436</th>\n",
       "      <td>22</td>\n",
       "      <td>5726c3da708984140094d0db</td>\n",
       "      <td>EM</td>\n",
       "      <td>0.0000</td>\n",
       "    </tr>\n",
       "    <tr>\n",
       "      <th>355437</th>\n",
       "      <td>22</td>\n",
       "      <td>5726c3da708984140094d0db</td>\n",
       "      <td>F1</td>\n",
       "      <td>0.0000</td>\n",
       "    </tr>\n",
       "    <tr>\n",
       "      <th>355438</th>\n",
       "      <td>22</td>\n",
       "      <td>5726c3da708984140094d0db</td>\n",
       "      <td>EM@3</td>\n",
       "      <td>0.0000</td>\n",
       "    </tr>\n",
       "    <tr>\n",
       "      <th>355439</th>\n",
       "      <td>22</td>\n",
       "      <td>5726c3da708984140094d0db</td>\n",
       "      <td>F1@3</td>\n",
       "      <td>0.0000</td>\n",
       "    </tr>\n",
       "    <tr>\n",
       "      <th>397716</th>\n",
       "      <td>23</td>\n",
       "      <td>5726c3da708984140094d0db</td>\n",
       "      <td>EM</td>\n",
       "      <td>0.0000</td>\n",
       "    </tr>\n",
       "    <tr>\n",
       "      <th>397717</th>\n",
       "      <td>23</td>\n",
       "      <td>5726c3da708984140094d0db</td>\n",
       "      <td>F1</td>\n",
       "      <td>0.0000</td>\n",
       "    </tr>\n",
       "    <tr>\n",
       "      <th>397718</th>\n",
       "      <td>23</td>\n",
       "      <td>5726c3da708984140094d0db</td>\n",
       "      <td>EM@3</td>\n",
       "      <td>0.0000</td>\n",
       "    </tr>\n",
       "    <tr>\n",
       "      <th>397719</th>\n",
       "      <td>23</td>\n",
       "      <td>5726c3da708984140094d0db</td>\n",
       "      <td>F1@3</td>\n",
       "      <td>0.1212</td>\n",
       "    </tr>\n",
       "    <tr>\n",
       "      <th>439996</th>\n",
       "      <td>24</td>\n",
       "      <td>5726c3da708984140094d0db</td>\n",
       "      <td>EM</td>\n",
       "      <td>0.0000</td>\n",
       "    </tr>\n",
       "    <tr>\n",
       "      <th>439997</th>\n",
       "      <td>24</td>\n",
       "      <td>5726c3da708984140094d0db</td>\n",
       "      <td>F1</td>\n",
       "      <td>0.1250</td>\n",
       "    </tr>\n",
       "    <tr>\n",
       "      <th>439998</th>\n",
       "      <td>24</td>\n",
       "      <td>5726c3da708984140094d0db</td>\n",
       "      <td>EM@3</td>\n",
       "      <td>0.0000</td>\n",
       "    </tr>\n",
       "    <tr>\n",
       "      <th>439999</th>\n",
       "      <td>24</td>\n",
       "      <td>5726c3da708984140094d0db</td>\n",
       "      <td>F1@3</td>\n",
       "      <td>0.1250</td>\n",
       "    </tr>\n",
       "    <tr>\n",
       "      <th>482276</th>\n",
       "      <td>25</td>\n",
       "      <td>5726c3da708984140094d0db</td>\n",
       "      <td>EM</td>\n",
       "      <td>0.0000</td>\n",
       "    </tr>\n",
       "    <tr>\n",
       "      <th>482277</th>\n",
       "      <td>25</td>\n",
       "      <td>5726c3da708984140094d0db</td>\n",
       "      <td>F1</td>\n",
       "      <td>0.0000</td>\n",
       "    </tr>\n",
       "    <tr>\n",
       "      <th>482278</th>\n",
       "      <td>25</td>\n",
       "      <td>5726c3da708984140094d0db</td>\n",
       "      <td>EM@3</td>\n",
       "      <td>0.0000</td>\n",
       "    </tr>\n",
       "    <tr>\n",
       "      <th>482279</th>\n",
       "      <td>25</td>\n",
       "      <td>5726c3da708984140094d0db</td>\n",
       "      <td>F1@3</td>\n",
       "      <td>0.1212</td>\n",
       "    </tr>\n",
       "    <tr>\n",
       "      <th>524556</th>\n",
       "      <td>26</td>\n",
       "      <td>5726c3da708984140094d0db</td>\n",
       "      <td>EM</td>\n",
       "      <td>0.0000</td>\n",
       "    </tr>\n",
       "    <tr>\n",
       "      <th>524557</th>\n",
       "      <td>26</td>\n",
       "      <td>5726c3da708984140094d0db</td>\n",
       "      <td>F1</td>\n",
       "      <td>0.1250</td>\n",
       "    </tr>\n",
       "    <tr>\n",
       "      <th>524558</th>\n",
       "      <td>26</td>\n",
       "      <td>5726c3da708984140094d0db</td>\n",
       "      <td>EM@3</td>\n",
       "      <td>0.0000</td>\n",
       "    </tr>\n",
       "    <tr>\n",
       "      <th>524559</th>\n",
       "      <td>26</td>\n",
       "      <td>5726c3da708984140094d0db</td>\n",
       "      <td>F1@3</td>\n",
       "      <td>0.1250</td>\n",
       "    </tr>\n",
       "    <tr>\n",
       "      <th>566836</th>\n",
       "      <td>27</td>\n",
       "      <td>5726c3da708984140094d0db</td>\n",
       "      <td>EM</td>\n",
       "      <td>0.0000</td>\n",
       "    </tr>\n",
       "    <tr>\n",
       "      <th>566837</th>\n",
       "      <td>27</td>\n",
       "      <td>5726c3da708984140094d0db</td>\n",
       "      <td>F1</td>\n",
       "      <td>0.0000</td>\n",
       "    </tr>\n",
       "    <tr>\n",
       "      <th>566838</th>\n",
       "      <td>27</td>\n",
       "      <td>5726c3da708984140094d0db</td>\n",
       "      <td>EM@3</td>\n",
       "      <td>0.0000</td>\n",
       "    </tr>\n",
       "    <tr>\n",
       "      <th>566839</th>\n",
       "      <td>27</td>\n",
       "      <td>5726c3da708984140094d0db</td>\n",
       "      <td>F1@3</td>\n",
       "      <td>0.0000</td>\n",
       "    </tr>\n",
       "    <tr>\n",
       "      <th>609116</th>\n",
       "      <td>28</td>\n",
       "      <td>5726c3da708984140094d0db</td>\n",
       "      <td>EM</td>\n",
       "      <td>0.0000</td>\n",
       "    </tr>\n",
       "    <tr>\n",
       "      <th>609117</th>\n",
       "      <td>28</td>\n",
       "      <td>5726c3da708984140094d0db</td>\n",
       "      <td>F1</td>\n",
       "      <td>0.1481</td>\n",
       "    </tr>\n",
       "    <tr>\n",
       "      <th>609118</th>\n",
       "      <td>28</td>\n",
       "      <td>5726c3da708984140094d0db</td>\n",
       "      <td>EM@3</td>\n",
       "      <td>0.0000</td>\n",
       "    </tr>\n",
       "    <tr>\n",
       "      <th>609119</th>\n",
       "      <td>28</td>\n",
       "      <td>5726c3da708984140094d0db</td>\n",
       "      <td>F1@3</td>\n",
       "      <td>0.1481</td>\n",
       "    </tr>\n",
       "    <tr>\n",
       "      <th>651396</th>\n",
       "      <td>29</td>\n",
       "      <td>5726c3da708984140094d0db</td>\n",
       "      <td>EM</td>\n",
       "      <td>0.0000</td>\n",
       "    </tr>\n",
       "    <tr>\n",
       "      <th>651397</th>\n",
       "      <td>29</td>\n",
       "      <td>5726c3da708984140094d0db</td>\n",
       "      <td>F1</td>\n",
       "      <td>0.1481</td>\n",
       "    </tr>\n",
       "    <tr>\n",
       "      <th>651398</th>\n",
       "      <td>29</td>\n",
       "      <td>5726c3da708984140094d0db</td>\n",
       "      <td>EM@3</td>\n",
       "      <td>0.0000</td>\n",
       "    </tr>\n",
       "    <tr>\n",
       "      <th>651399</th>\n",
       "      <td>29</td>\n",
       "      <td>5726c3da708984140094d0db</td>\n",
       "      <td>F1@3</td>\n",
       "      <td>0.1481</td>\n",
       "    </tr>\n",
       "    <tr>\n",
       "      <th>693556</th>\n",
       "      <td>30</td>\n",
       "      <td>5726c3da708984140094d0db</td>\n",
       "      <td>EM</td>\n",
       "      <td>0.0000</td>\n",
       "    </tr>\n",
       "    <tr>\n",
       "      <th>693557</th>\n",
       "      <td>30</td>\n",
       "      <td>5726c3da708984140094d0db</td>\n",
       "      <td>F1</td>\n",
       "      <td>0.0000</td>\n",
       "    </tr>\n",
       "    <tr>\n",
       "      <th>693558</th>\n",
       "      <td>30</td>\n",
       "      <td>5726c3da708984140094d0db</td>\n",
       "      <td>EM@3</td>\n",
       "      <td>0.0000</td>\n",
       "    </tr>\n",
       "    <tr>\n",
       "      <th>693559</th>\n",
       "      <td>30</td>\n",
       "      <td>5726c3da708984140094d0db</td>\n",
       "      <td>F1@3</td>\n",
       "      <td>0.0000</td>\n",
       "    </tr>\n",
       "    <tr>\n",
       "      <th>735836</th>\n",
       "      <td>31</td>\n",
       "      <td>5726c3da708984140094d0db</td>\n",
       "      <td>EM</td>\n",
       "      <td>0.0000</td>\n",
       "    </tr>\n",
       "    <tr>\n",
       "      <th>735837</th>\n",
       "      <td>31</td>\n",
       "      <td>5726c3da708984140094d0db</td>\n",
       "      <td>F1</td>\n",
       "      <td>0.0000</td>\n",
       "    </tr>\n",
       "    <tr>\n",
       "      <th>735838</th>\n",
       "      <td>31</td>\n",
       "      <td>5726c3da708984140094d0db</td>\n",
       "      <td>EM@3</td>\n",
       "      <td>0.0000</td>\n",
       "    </tr>\n",
       "    <tr>\n",
       "      <th>735839</th>\n",
       "      <td>31</td>\n",
       "      <td>5726c3da708984140094d0db</td>\n",
       "      <td>F1@3</td>\n",
       "      <td>0.0000</td>\n",
       "    </tr>\n",
       "  </tbody>\n",
       "</table>\n",
       "</div>"
      ],
      "text/plain": [
       "        cod_evaluation              cod_question cod_metric   value\n",
       "186316              18  5726c3da708984140094d0db         EM  0.0000\n",
       "186317              18  5726c3da708984140094d0db         F1  0.1250\n",
       "186318              18  5726c3da708984140094d0db       EM@3  0.0000\n",
       "186319              18  5726c3da708984140094d0db       F1@3  0.1250\n",
       "228596              19  5726c3da708984140094d0db         EM  0.0000\n",
       "228597              19  5726c3da708984140094d0db         F1  0.0000\n",
       "228598              19  5726c3da708984140094d0db       EM@3  0.0000\n",
       "228599              19  5726c3da708984140094d0db       F1@3  0.0000\n",
       "270876              20  5726c3da708984140094d0db         EM  0.0000\n",
       "270877              20  5726c3da708984140094d0db         F1  0.0000\n",
       "270878              20  5726c3da708984140094d0db       EM@3  0.0000\n",
       "270879              20  5726c3da708984140094d0db       F1@3  0.0000\n",
       "313156              21  5726c3da708984140094d0db         EM  0.0000\n",
       "313157              21  5726c3da708984140094d0db         F1  0.0000\n",
       "313158              21  5726c3da708984140094d0db       EM@3  0.0000\n",
       "313159              21  5726c3da708984140094d0db       F1@3  0.0000\n",
       "355436              22  5726c3da708984140094d0db         EM  0.0000\n",
       "355437              22  5726c3da708984140094d0db         F1  0.0000\n",
       "355438              22  5726c3da708984140094d0db       EM@3  0.0000\n",
       "355439              22  5726c3da708984140094d0db       F1@3  0.0000\n",
       "397716              23  5726c3da708984140094d0db         EM  0.0000\n",
       "397717              23  5726c3da708984140094d0db         F1  0.0000\n",
       "397718              23  5726c3da708984140094d0db       EM@3  0.0000\n",
       "397719              23  5726c3da708984140094d0db       F1@3  0.1212\n",
       "439996              24  5726c3da708984140094d0db         EM  0.0000\n",
       "439997              24  5726c3da708984140094d0db         F1  0.1250\n",
       "439998              24  5726c3da708984140094d0db       EM@3  0.0000\n",
       "439999              24  5726c3da708984140094d0db       F1@3  0.1250\n",
       "482276              25  5726c3da708984140094d0db         EM  0.0000\n",
       "482277              25  5726c3da708984140094d0db         F1  0.0000\n",
       "482278              25  5726c3da708984140094d0db       EM@3  0.0000\n",
       "482279              25  5726c3da708984140094d0db       F1@3  0.1212\n",
       "524556              26  5726c3da708984140094d0db         EM  0.0000\n",
       "524557              26  5726c3da708984140094d0db         F1  0.1250\n",
       "524558              26  5726c3da708984140094d0db       EM@3  0.0000\n",
       "524559              26  5726c3da708984140094d0db       F1@3  0.1250\n",
       "566836              27  5726c3da708984140094d0db         EM  0.0000\n",
       "566837              27  5726c3da708984140094d0db         F1  0.0000\n",
       "566838              27  5726c3da708984140094d0db       EM@3  0.0000\n",
       "566839              27  5726c3da708984140094d0db       F1@3  0.0000\n",
       "609116              28  5726c3da708984140094d0db         EM  0.0000\n",
       "609117              28  5726c3da708984140094d0db         F1  0.1481\n",
       "609118              28  5726c3da708984140094d0db       EM@3  0.0000\n",
       "609119              28  5726c3da708984140094d0db       F1@3  0.1481\n",
       "651396              29  5726c3da708984140094d0db         EM  0.0000\n",
       "651397              29  5726c3da708984140094d0db         F1  0.1481\n",
       "651398              29  5726c3da708984140094d0db       EM@3  0.0000\n",
       "651399              29  5726c3da708984140094d0db       F1@3  0.1481\n",
       "693556              30  5726c3da708984140094d0db         EM  0.0000\n",
       "693557              30  5726c3da708984140094d0db         F1  0.0000\n",
       "693558              30  5726c3da708984140094d0db       EM@3  0.0000\n",
       "693559              30  5726c3da708984140094d0db       F1@3  0.0000\n",
       "735836              31  5726c3da708984140094d0db         EM  0.0000\n",
       "735837              31  5726c3da708984140094d0db         F1  0.0000\n",
       "735838              31  5726c3da708984140094d0db       EM@3  0.0000\n",
       "735839              31  5726c3da708984140094d0db       F1@3  0.0000"
      ]
     },
     "execution_count": 58,
     "metadata": {},
     "output_type": "execute_result"
    }
   ],
   "source": [
    "df_eval_per_question.query('cod_question==\"5726c3da708984140094d0db\" and cod_evaluation > 17')"
   ]
  },
  {
   "cell_type": "code",
   "execution_count": null,
   "metadata": {},
   "outputs": [],
   "source": []
  },
  {
   "cell_type": "code",
   "execution_count": 52,
   "metadata": {},
   "outputs": [
    {
     "data": {
      "text/html": [
       "<div>\n",
       "<style scoped>\n",
       "    .dataframe tbody tr th:only-of-type {\n",
       "        vertical-align: middle;\n",
       "    }\n",
       "\n",
       "    .dataframe tbody tr th {\n",
       "        vertical-align: top;\n",
       "    }\n",
       "\n",
       "    .dataframe thead th {\n",
       "        text-align: right;\n",
       "    }\n",
       "</style>\n",
       "<table border=\"1\" class=\"dataframe\">\n",
       "  <thead>\n",
       "    <tr style=\"text-align: right;\">\n",
       "      <th></th>\n",
       "      <th>id</th>\n",
       "      <th>title</th>\n",
       "      <th>context</th>\n",
       "      <th>question</th>\n",
       "      <th>answer_start</th>\n",
       "      <th>answer_text</th>\n",
       "      <th>question_len_char</th>\n",
       "      <th>context_len_char</th>\n",
       "      <th>prim_pergunta</th>\n",
       "      <th>first_word_question</th>\n",
       "      <th>two_first_word_question</th>\n",
       "      <th>second_word_question</th>\n",
       "    </tr>\n",
       "  </thead>\n",
       "  <tbody>\n",
       "    <tr>\n",
       "      <th>4299</th>\n",
       "      <td>5726c3da708984140094d0db</td>\n",
       "      <td>European_Union_law</td>\n",
       "      <td>The \"freedom to provide services\" under TFEU a...</td>\n",
       "      <td>What did the Court of Justice reason were cont...</td>\n",
       "      <td>[2318, 2318, 2318]</td>\n",
       "      <td>[narcotic drugs, narcotic drugs, narcotic drugs]</td>\n",
       "      <td>116</td>\n",
       "      <td>4063</td>\n",
       "      <td>What</td>\n",
       "      <td>What</td>\n",
       "      <td>What did</td>\n",
       "      <td>did</td>\n",
       "    </tr>\n",
       "    <tr>\n",
       "      <th>4298</th>\n",
       "      <td>5726c3da708984140094d0da</td>\n",
       "      <td>European_Union_law</td>\n",
       "      <td>The \"freedom to provide services\" under TFEU a...</td>\n",
       "      <td>Why was the Dutch lawyer who moved to Belgium ...</td>\n",
       "      <td>[369, 377, 377]</td>\n",
       "      <td>[because Dutch law said only people establishe...</td>\n",
       "      <td>121</td>\n",
       "      <td>4063</td>\n",
       "      <td>Why</td>\n",
       "      <td>Why</td>\n",
       "      <td>Why was</td>\n",
       "      <td>was</td>\n",
       "    </tr>\n",
       "    <tr>\n",
       "      <th>4297</th>\n",
       "      <td>5726c3da708984140094d0d9</td>\n",
       "      <td>European_Union_law</td>\n",
       "      <td>The \"freedom to provide services\" under TFEU a...</td>\n",
       "      <td>The freedom to provide services under TFEU art...</td>\n",
       "      <td>[64, 67, 67]</td>\n",
       "      <td>[to people who give services \"for remuneration...</td>\n",
       "      <td>69</td>\n",
       "      <td>4063</td>\n",
       "      <td>The</td>\n",
       "      <td>The</td>\n",
       "      <td>The freedom</td>\n",
       "      <td>freedom</td>\n",
       "    </tr>\n",
       "    <tr>\n",
       "      <th>4300</th>\n",
       "      <td>5726c3da708984140094d0dc</td>\n",
       "      <td>European_Union_law</td>\n",
       "      <td>The \"freedom to provide services\" under TFEU a...</td>\n",
       "      <td>What did the Dutch health authorities regard a...</td>\n",
       "      <td>[1124, 1128, 1128]</td>\n",
       "      <td>[the treatment, treatment, treatment]</td>\n",
       "      <td>101</td>\n",
       "      <td>4063</td>\n",
       "      <td>What</td>\n",
       "      <td>What</td>\n",
       "      <td>What did</td>\n",
       "      <td>did</td>\n",
       "    </tr>\n",
       "    <tr>\n",
       "      <th>4279</th>\n",
       "      <td>5726bc1add62a815002e8ea6</td>\n",
       "      <td>European_Union_law</td>\n",
       "      <td>The Free Movement of Workers Regulation articl...</td>\n",
       "      <td>Which articles of the Free Movement of Workers...</td>\n",
       "      <td>[40, 40, 40]</td>\n",
       "      <td>[articles 1 to 7, articles 1 to 7, articles 1 ...</td>\n",
       "      <td>119</td>\n",
       "      <td>3341</td>\n",
       "      <td>Which</td>\n",
       "      <td>Which</td>\n",
       "      <td>Which articles</td>\n",
       "      <td>articles</td>\n",
       "    </tr>\n",
       "    <tr>\n",
       "      <th>...</th>\n",
       "      <td>...</td>\n",
       "      <td>...</td>\n",
       "      <td>...</td>\n",
       "      <td>...</td>\n",
       "      <td>...</td>\n",
       "      <td>...</td>\n",
       "      <td>...</td>\n",
       "      <td>...</td>\n",
       "      <td>...</td>\n",
       "      <td>...</td>\n",
       "      <td>...</td>\n",
       "      <td>...</td>\n",
       "    </tr>\n",
       "    <tr>\n",
       "      <th>2612</th>\n",
       "      <td>56f8ca289b226e1400dd1008</td>\n",
       "      <td>Martin_Luther</td>\n",
       "      <td>A piece of paper was later found on which Luth...</td>\n",
       "      <td>In what language was most of the statement wri...</td>\n",
       "      <td>[102, 102, 102]</td>\n",
       "      <td>[Latin, Latin, Latin]</td>\n",
       "      <td>51</td>\n",
       "      <td>158</td>\n",
       "      <td>In</td>\n",
       "      <td>In</td>\n",
       "      <td>In what</td>\n",
       "      <td>what</td>\n",
       "    </tr>\n",
       "    <tr>\n",
       "      <th>1491</th>\n",
       "      <td>56e1011ecd28a01900c6740c</td>\n",
       "      <td>Nikola_Tesla</td>\n",
       "      <td>On 7 January 1900, Tesla left Colorado Springs...</td>\n",
       "      <td>What happened to his lab?</td>\n",
       "      <td>[65, 77, 77]</td>\n",
       "      <td>[His lab was torn down, torn down, torn down i...</td>\n",
       "      <td>25</td>\n",
       "      <td>157</td>\n",
       "      <td>What</td>\n",
       "      <td>What</td>\n",
       "      <td>What happened</td>\n",
       "      <td>happened</td>\n",
       "    </tr>\n",
       "    <tr>\n",
       "      <th>1493</th>\n",
       "      <td>56e1011ecd28a01900c6740e</td>\n",
       "      <td>Nikola_Tesla</td>\n",
       "      <td>On 7 January 1900, Tesla left Colorado Springs...</td>\n",
       "      <td>What happened to the things inside the lab aft...</td>\n",
       "      <td>[118, 118, 118]</td>\n",
       "      <td>[sold, sold, sold two years later]</td>\n",
       "      <td>66</td>\n",
       "      <td>157</td>\n",
       "      <td>What</td>\n",
       "      <td>What</td>\n",
       "      <td>What happened</td>\n",
       "      <td>happened</td>\n",
       "    </tr>\n",
       "    <tr>\n",
       "      <th>1492</th>\n",
       "      <td>56e1011ecd28a01900c6740d</td>\n",
       "      <td>Nikola_Tesla</td>\n",
       "      <td>On 7 January 1900, Tesla left Colorado Springs...</td>\n",
       "      <td>When was his lab destroyed?</td>\n",
       "      <td>[90, 90, 90]</td>\n",
       "      <td>[1904, 1904, 1904]</td>\n",
       "      <td>27</td>\n",
       "      <td>157</td>\n",
       "      <td>When</td>\n",
       "      <td>When</td>\n",
       "      <td>When was</td>\n",
       "      <td>was</td>\n",
       "    </tr>\n",
       "    <tr>\n",
       "      <th>1490</th>\n",
       "      <td>56e1011ecd28a01900c6740b</td>\n",
       "      <td>Nikola_Tesla</td>\n",
       "      <td>On 7 January 1900, Tesla left Colorado Springs...</td>\n",
       "      <td>When did Tesla depart from Colorado Springs?</td>\n",
       "      <td>[13, 0, 3]</td>\n",
       "      <td>[1900, On 7 January 1900, 7 January 1900]</td>\n",
       "      <td>44</td>\n",
       "      <td>157</td>\n",
       "      <td>When</td>\n",
       "      <td>When</td>\n",
       "      <td>When did</td>\n",
       "      <td>did</td>\n",
       "    </tr>\n",
       "  </tbody>\n",
       "</table>\n",
       "<p>10570 rows × 12 columns</p>\n",
       "</div>"
      ],
      "text/plain": [
       "                            id               title  \\\n",
       "4299  5726c3da708984140094d0db  European_Union_law   \n",
       "4298  5726c3da708984140094d0da  European_Union_law   \n",
       "4297  5726c3da708984140094d0d9  European_Union_law   \n",
       "4300  5726c3da708984140094d0dc  European_Union_law   \n",
       "4279  5726bc1add62a815002e8ea6  European_Union_law   \n",
       "...                        ...                 ...   \n",
       "2612  56f8ca289b226e1400dd1008       Martin_Luther   \n",
       "1491  56e1011ecd28a01900c6740c        Nikola_Tesla   \n",
       "1493  56e1011ecd28a01900c6740e        Nikola_Tesla   \n",
       "1492  56e1011ecd28a01900c6740d        Nikola_Tesla   \n",
       "1490  56e1011ecd28a01900c6740b        Nikola_Tesla   \n",
       "\n",
       "                                                context  \\\n",
       "4299  The \"freedom to provide services\" under TFEU a...   \n",
       "4298  The \"freedom to provide services\" under TFEU a...   \n",
       "4297  The \"freedom to provide services\" under TFEU a...   \n",
       "4300  The \"freedom to provide services\" under TFEU a...   \n",
       "4279  The Free Movement of Workers Regulation articl...   \n",
       "...                                                 ...   \n",
       "2612  A piece of paper was later found on which Luth...   \n",
       "1491  On 7 January 1900, Tesla left Colorado Springs...   \n",
       "1493  On 7 January 1900, Tesla left Colorado Springs...   \n",
       "1492  On 7 January 1900, Tesla left Colorado Springs...   \n",
       "1490  On 7 January 1900, Tesla left Colorado Springs...   \n",
       "\n",
       "                                               question        answer_start  \\\n",
       "4299  What did the Court of Justice reason were cont...  [2318, 2318, 2318]   \n",
       "4298  Why was the Dutch lawyer who moved to Belgium ...     [369, 377, 377]   \n",
       "4297  The freedom to provide services under TFEU art...        [64, 67, 67]   \n",
       "4300  What did the Dutch health authorities regard a...  [1124, 1128, 1128]   \n",
       "4279  Which articles of the Free Movement of Workers...        [40, 40, 40]   \n",
       "...                                                 ...                 ...   \n",
       "2612  In what language was most of the statement wri...     [102, 102, 102]   \n",
       "1491                          What happened to his lab?        [65, 77, 77]   \n",
       "1493  What happened to the things inside the lab aft...     [118, 118, 118]   \n",
       "1492                        When was his lab destroyed?        [90, 90, 90]   \n",
       "1490       When did Tesla depart from Colorado Springs?          [13, 0, 3]   \n",
       "\n",
       "                                            answer_text  question_len_char  \\\n",
       "4299   [narcotic drugs, narcotic drugs, narcotic drugs]                116   \n",
       "4298  [because Dutch law said only people establishe...                121   \n",
       "4297  [to people who give services \"for remuneration...                 69   \n",
       "4300              [the treatment, treatment, treatment]                101   \n",
       "4279  [articles 1 to 7, articles 1 to 7, articles 1 ...                119   \n",
       "...                                                 ...                ...   \n",
       "2612                              [Latin, Latin, Latin]                 51   \n",
       "1491  [His lab was torn down, torn down, torn down i...                 25   \n",
       "1493                 [sold, sold, sold two years later]                 66   \n",
       "1492                                 [1904, 1904, 1904]                 27   \n",
       "1490          [1900, On 7 January 1900, 7 January 1900]                 44   \n",
       "\n",
       "      context_len_char prim_pergunta first_word_question  \\\n",
       "4299              4063          What                What   \n",
       "4298              4063           Why                 Why   \n",
       "4297              4063           The                 The   \n",
       "4300              4063          What                What   \n",
       "4279              3341         Which               Which   \n",
       "...                ...           ...                 ...   \n",
       "2612               158            In                  In   \n",
       "1491               157          What                What   \n",
       "1493               157          What                What   \n",
       "1492               157          When                When   \n",
       "1490               157          When                When   \n",
       "\n",
       "     two_first_word_question second_word_question  \n",
       "4299                What did                  did  \n",
       "4298                 Why was                  was  \n",
       "4297             The freedom              freedom  \n",
       "4300                What did                  did  \n",
       "4279          Which articles             articles  \n",
       "...                      ...                  ...  \n",
       "2612                 In what                 what  \n",
       "1491           What happened             happened  \n",
       "1493           What happened             happened  \n",
       "1492                When was                  was  \n",
       "1490                When did                  did  \n",
       "\n",
       "[10570 rows x 12 columns]"
      ]
     },
     "execution_count": 52,
     "metadata": {},
     "output_type": "execute_result"
    }
   ],
   "source": [
    "df.sort_values(['context_len_char'], ascending=False)"
   ]
  },
  {
   "cell_type": "code",
   "execution_count": 51,
   "metadata": {},
   "outputs": [
    {
     "data": {
      "text/html": [
       "<div>\n",
       "<style scoped>\n",
       "    .dataframe tbody tr th:only-of-type {\n",
       "        vertical-align: middle;\n",
       "    }\n",
       "\n",
       "    .dataframe tbody tr th {\n",
       "        vertical-align: top;\n",
       "    }\n",
       "\n",
       "    .dataframe thead th {\n",
       "        text-align: right;\n",
       "    }\n",
       "</style>\n",
       "<table border=\"1\" class=\"dataframe\">\n",
       "  <thead>\n",
       "    <tr style=\"text-align: right;\">\n",
       "      <th></th>\n",
       "      <th>id</th>\n",
       "      <th>title</th>\n",
       "      <th>context</th>\n",
       "      <th>question</th>\n",
       "      <th>answer_start</th>\n",
       "      <th>answer_text</th>\n",
       "      <th>question_len_char</th>\n",
       "      <th>context_len_char</th>\n",
       "      <th>prim_pergunta</th>\n",
       "      <th>first_word_question</th>\n",
       "      <th>two_first_word_question</th>\n",
       "      <th>second_word_question</th>\n",
       "    </tr>\n",
       "  </thead>\n",
       "  <tbody>\n",
       "    <tr>\n",
       "      <th>216</th>\n",
       "      <td>56beb3a03aeaaa14008c9247</td>\n",
       "      <td>Super_Bowl_50</td>\n",
       "      <td>The Panthers offense, which led the NFL in sco...</td>\n",
       "      <td>How many Pro Bowlers were on the Panthers offe...</td>\n",
       "      <td>[98, 98, 98]</td>\n",
       "      <td>[six, six, six]</td>\n",
       "      <td>50</td>\n",
       "      <td>1271</td>\n",
       "      <td>How</td>\n",
       "      <td>How</td>\n",
       "      <td>How many</td>\n",
       "      <td>many</td>\n",
       "    </tr>\n",
       "    <tr>\n",
       "      <th>217</th>\n",
       "      <td>56beb3a03aeaaa14008c9248</td>\n",
       "      <td>Super_Bowl_50</td>\n",
       "      <td>The Panthers offense, which led the NFL in sco...</td>\n",
       "      <td>How many total touchdowns did Cam Newton score?</td>\n",
       "      <td>[279, 279, 279]</td>\n",
       "      <td>[45, 45, 45]</td>\n",
       "      <td>47</td>\n",
       "      <td>1271</td>\n",
       "      <td>How</td>\n",
       "      <td>How</td>\n",
       "      <td>How many</td>\n",
       "      <td>many</td>\n",
       "    </tr>\n",
       "    <tr>\n",
       "      <th>218</th>\n",
       "      <td>56beb3a03aeaaa14008c9249</td>\n",
       "      <td>Super_Bowl_50</td>\n",
       "      <td>The Panthers offense, which led the NFL in sco...</td>\n",
       "      <td>How many interceptions did Cam Newton throw?</td>\n",
       "      <td>[312, 338, 338]</td>\n",
       "      <td>[10, 10, 10]</td>\n",
       "      <td>44</td>\n",
       "      <td>1271</td>\n",
       "      <td>How</td>\n",
       "      <td>How</td>\n",
       "      <td>How many</td>\n",
       "      <td>many</td>\n",
       "    </tr>\n",
       "    <tr>\n",
       "      <th>219</th>\n",
       "      <td>56beb3a03aeaaa14008c924a</td>\n",
       "      <td>Super_Bowl_50</td>\n",
       "      <td>The Panthers offense, which led the NFL in sco...</td>\n",
       "      <td>How many punts did Ted Ginn Jr. return?</td>\n",
       "      <td>[659, 659, 659]</td>\n",
       "      <td>[27, 27, 27]</td>\n",
       "      <td>39</td>\n",
       "      <td>1271</td>\n",
       "      <td>How</td>\n",
       "      <td>How</td>\n",
       "      <td>How many</td>\n",
       "      <td>many</td>\n",
       "    </tr>\n",
       "    <tr>\n",
       "      <th>220</th>\n",
       "      <td>56beb3a03aeaaa14008c924b</td>\n",
       "      <td>Super_Bowl_50</td>\n",
       "      <td>The Panthers offense, which led the NFL in sco...</td>\n",
       "      <td>Who started at tight end for the Panthers?</td>\n",
       "      <td>[444, 444, 449]</td>\n",
       "      <td>[Greg Olsen, Greg Olsen, Olsen]</td>\n",
       "      <td>42</td>\n",
       "      <td>1271</td>\n",
       "      <td>Who</td>\n",
       "      <td>Who</td>\n",
       "      <td>Who started</td>\n",
       "      <td>started</td>\n",
       "    </tr>\n",
       "    <tr>\n",
       "      <th>221</th>\n",
       "      <td>56bf6b303aeaaa14008c960b</td>\n",
       "      <td>Super_Bowl_50</td>\n",
       "      <td>The Panthers offense, which led the NFL in sco...</td>\n",
       "      <td>What is the record number of touchdowns Cam Ne...</td>\n",
       "      <td>[279, 279, 279]</td>\n",
       "      <td>[45, 45, 45]</td>\n",
       "      <td>59</td>\n",
       "      <td>1271</td>\n",
       "      <td>What</td>\n",
       "      <td>What</td>\n",
       "      <td>What is</td>\n",
       "      <td>is</td>\n",
       "    </tr>\n",
       "    <tr>\n",
       "      <th>222</th>\n",
       "      <td>56bf6b303aeaaa14008c960c</td>\n",
       "      <td>Super_Bowl_50</td>\n",
       "      <td>The Panthers offense, which led the NFL in sco...</td>\n",
       "      <td>What is the best QB ranking that Cam Newton ho...</td>\n",
       "      <td>[396, 396, 396]</td>\n",
       "      <td>[99.4, 99.4, 99.4.]</td>\n",
       "      <td>50</td>\n",
       "      <td>1271</td>\n",
       "      <td>What</td>\n",
       "      <td>What</td>\n",
       "      <td>What is</td>\n",
       "      <td>is</td>\n",
       "    </tr>\n",
       "    <tr>\n",
       "      <th>223</th>\n",
       "      <td>56bf6b303aeaaa14008c960d</td>\n",
       "      <td>Super_Bowl_50</td>\n",
       "      <td>The Panthers offense, which led the NFL in sco...</td>\n",
       "      <td>What are the most passes that Greg Olsen has had?</td>\n",
       "      <td>[481, 481, 481]</td>\n",
       "      <td>[77 passes, 77, 77]</td>\n",
       "      <td>49</td>\n",
       "      <td>1271</td>\n",
       "      <td>What</td>\n",
       "      <td>What</td>\n",
       "      <td>What are</td>\n",
       "      <td>are</td>\n",
       "    </tr>\n",
       "    <tr>\n",
       "      <th>224</th>\n",
       "      <td>56bf6b303aeaaa14008c960e</td>\n",
       "      <td>Super_Bowl_50</td>\n",
       "      <td>The Panthers offense, which led the NFL in sco...</td>\n",
       "      <td>What position does Jerricho Cotchery play?</td>\n",
       "      <td>[419, 693, 693]</td>\n",
       "      <td>[receivers, receivers, receivers]</td>\n",
       "      <td>42</td>\n",
       "      <td>1271</td>\n",
       "      <td>What</td>\n",
       "      <td>What</td>\n",
       "      <td>What position</td>\n",
       "      <td>position</td>\n",
       "    </tr>\n",
       "    <tr>\n",
       "      <th>225</th>\n",
       "      <td>56bf6b303aeaaa14008c960f</td>\n",
       "      <td>Super_Bowl_50</td>\n",
       "      <td>The Panthers offense, which led the NFL in sco...</td>\n",
       "      <td>Which Panthers RB scored 6 TDs in the 13 games...</td>\n",
       "      <td>[964, 964, 964]</td>\n",
       "      <td>[Jonathan Stewart, Jonathan Stewart, Jonathan ...</td>\n",
       "      <td>75</td>\n",
       "      <td>1271</td>\n",
       "      <td>Which</td>\n",
       "      <td>Which</td>\n",
       "      <td>Which Panthers</td>\n",
       "      <td>Panthers</td>\n",
       "    </tr>\n",
       "  </tbody>\n",
       "</table>\n",
       "</div>"
      ],
      "text/plain": [
       "                           id          title  \\\n",
       "216  56beb3a03aeaaa14008c9247  Super_Bowl_50   \n",
       "217  56beb3a03aeaaa14008c9248  Super_Bowl_50   \n",
       "218  56beb3a03aeaaa14008c9249  Super_Bowl_50   \n",
       "219  56beb3a03aeaaa14008c924a  Super_Bowl_50   \n",
       "220  56beb3a03aeaaa14008c924b  Super_Bowl_50   \n",
       "221  56bf6b303aeaaa14008c960b  Super_Bowl_50   \n",
       "222  56bf6b303aeaaa14008c960c  Super_Bowl_50   \n",
       "223  56bf6b303aeaaa14008c960d  Super_Bowl_50   \n",
       "224  56bf6b303aeaaa14008c960e  Super_Bowl_50   \n",
       "225  56bf6b303aeaaa14008c960f  Super_Bowl_50   \n",
       "\n",
       "                                               context  \\\n",
       "216  The Panthers offense, which led the NFL in sco...   \n",
       "217  The Panthers offense, which led the NFL in sco...   \n",
       "218  The Panthers offense, which led the NFL in sco...   \n",
       "219  The Panthers offense, which led the NFL in sco...   \n",
       "220  The Panthers offense, which led the NFL in sco...   \n",
       "221  The Panthers offense, which led the NFL in sco...   \n",
       "222  The Panthers offense, which led the NFL in sco...   \n",
       "223  The Panthers offense, which led the NFL in sco...   \n",
       "224  The Panthers offense, which led the NFL in sco...   \n",
       "225  The Panthers offense, which led the NFL in sco...   \n",
       "\n",
       "                                              question     answer_start  \\\n",
       "216  How many Pro Bowlers were on the Panthers offe...     [98, 98, 98]   \n",
       "217    How many total touchdowns did Cam Newton score?  [279, 279, 279]   \n",
       "218       How many interceptions did Cam Newton throw?  [312, 338, 338]   \n",
       "219            How many punts did Ted Ginn Jr. return?  [659, 659, 659]   \n",
       "220         Who started at tight end for the Panthers?  [444, 444, 449]   \n",
       "221  What is the record number of touchdowns Cam Ne...  [279, 279, 279]   \n",
       "222  What is the best QB ranking that Cam Newton ho...  [396, 396, 396]   \n",
       "223  What are the most passes that Greg Olsen has had?  [481, 481, 481]   \n",
       "224         What position does Jerricho Cotchery play?  [419, 693, 693]   \n",
       "225  Which Panthers RB scored 6 TDs in the 13 games...  [964, 964, 964]   \n",
       "\n",
       "                                           answer_text  question_len_char  \\\n",
       "216                                    [six, six, six]                 50   \n",
       "217                                       [45, 45, 45]                 47   \n",
       "218                                       [10, 10, 10]                 44   \n",
       "219                                       [27, 27, 27]                 39   \n",
       "220                    [Greg Olsen, Greg Olsen, Olsen]                 42   \n",
       "221                                       [45, 45, 45]                 59   \n",
       "222                                [99.4, 99.4, 99.4.]                 50   \n",
       "223                                [77 passes, 77, 77]                 49   \n",
       "224                  [receivers, receivers, receivers]                 42   \n",
       "225  [Jonathan Stewart, Jonathan Stewart, Jonathan ...                 75   \n",
       "\n",
       "     context_len_char prim_pergunta first_word_question  \\\n",
       "216              1271           How                 How   \n",
       "217              1271           How                 How   \n",
       "218              1271           How                 How   \n",
       "219              1271           How                 How   \n",
       "220              1271           Who                 Who   \n",
       "221              1271          What                What   \n",
       "222              1271          What                What   \n",
       "223              1271          What                What   \n",
       "224              1271          What                What   \n",
       "225              1271         Which               Which   \n",
       "\n",
       "    two_first_word_question second_word_question  \n",
       "216                How many                 many  \n",
       "217                How many                 many  \n",
       "218                How many                 many  \n",
       "219                How many                 many  \n",
       "220             Who started              started  \n",
       "221                 What is                   is  \n",
       "222                 What is                   is  \n",
       "223                What are                  are  \n",
       "224           What position             position  \n",
       "225          Which Panthers             Panthers  "
      ]
     },
     "execution_count": 51,
     "metadata": {},
     "output_type": "execute_result"
    }
   ],
   "source": [
    "df[df['context_len_char'] > 1000].head(10)"
   ]
  },
  {
   "cell_type": "code",
   "execution_count": 47,
   "metadata": {},
   "outputs": [
    {
     "data": {
      "text/plain": [
       "count    10570.000000\n",
       "mean        59.980889\n",
       "std         21.155669\n",
       "min         12.000000\n",
       "25%         45.000000\n",
       "50%         57.000000\n",
       "75%         72.000000\n",
       "max        197.000000\n",
       "Name: question_len_char, dtype: float64"
      ]
     },
     "execution_count": 47,
     "metadata": {},
     "output_type": "execute_result"
    }
   ],
   "source": [
    "df['question_len_char'].describe()\n"
   ]
  },
  {
   "cell_type": "code",
   "execution_count": 28,
   "metadata": {},
   "outputs": [],
   "source": [
    "df['first_word_question'] = df[\"question\"].str.split().str[0]\n"
   ]
  },
  {
   "cell_type": "code",
   "execution_count": 41,
   "metadata": {},
   "outputs": [],
   "source": [
    "df['second_word_question'] = df[\"question\"].str.split().str[1]"
   ]
  },
  {
   "cell_type": "code",
   "execution_count": 43,
   "metadata": {},
   "outputs": [],
   "source": [
    "df['two_first_word_question'] = df['first_word_question'] + ' ' + df['second_word_question']"
   ]
  },
  {
   "cell_type": "code",
   "execution_count": 37,
   "metadata": {},
   "outputs": [],
   "source": [
    "def proc(s):\n",
    "    l = s.split()\n",
    "    return ' '.join(l[:len(l) // 2])\n"
   ]
  },
  {
   "cell_type": "code",
   "execution_count": 38,
   "metadata": {},
   "outputs": [],
   "source": [
    "\n",
    "df['two_first_word_question'] = [proc(s) for s in df['question'].values.tolist()]"
   ]
  },
  {
   "cell_type": "code",
   "execution_count": null,
   "metadata": {},
   "outputs": [],
   "source": [
    "question_types = [\"Are\", \"Are there\", \"Did\", \"Does\", \"Do\", \"Is\", \"How\", \"Since\", \"Is there\", \"Was\", \"Were\", \"What\", \"When\", \"Where\", \"Who\", \"Which\", \"Why\" ]"
   ]
  },
  {
   "cell_type": "code",
   "execution_count": 46,
   "metadata": {},
   "outputs": [
    {
     "data": {
      "text/plain": [
       "array(['Which', 'Where', 'What', 'Who', 'If', 'Super', 'The', 'How', 'At',\n",
       "       'In', 'When', 'One', 'On', 'Prior', 'Before', 'Whic', 'how',\n",
       "       'According', 'During', 'Peyton', 'Manning', 'Newton', 'Since',\n",
       "       'Rather', 'Normally', 'Because', 'A', 'As', 'Who,', 'New',\n",
       "       'Besides', 'Along', 'Paramount', 'Universal', 'Disney', 'Aside',\n",
       "       'British', 'Into', 'This', 'Whose', 'Graham', 'Early', 'Over',\n",
       "       'Why', \"Warsaw's\", 'Warsaw', 'King', 'Of', 'From', 'To', \"Tesla's\",\n",
       "       'Were', 'Other', 'Did', 'Milutin', 'what', 'which', 'By', 'when',\n",
       "       'where', 'For', 'Down', 'With', 'Is', 'Complexity', 'Assuming',\n",
       "       'It', 'Turing', 'Time', 'Communication', 'Decision', 'Case',\n",
       "       'Classification', 'Big', 'Difficulty', 'Concrete', 'Bounding',\n",
       "       'AC', 'BQP', 'IP', 'Resources', 'Within', 'Reduction',\n",
       "       'Polynomial', 'An', 'NP', 'That', 'Though', 'Problems',\n",
       "       'Intractable', 'Despite', 'Name', \"Teacher's\", \"What's\",\n",
       "       'Students', 'Nonverbal', 'Enthusiastic', 'Humor', 'What,', 'Would',\n",
       "       'After', 'Luther', 'Teaching', 'Orange,', 'Southern',\n",
       "       'Geographically', 'Point', 'Los', 'Although', 'Outside',\n",
       "       'Generally', 'Cities', 'Each', 'There', 'Motion', 'Downtown',\n",
       "       'Warner', 'Century', 'Jamboree', 'University', 'WHat', \"Who's\",\n",
       "       'Sky', 'Can', 'Does', 'Compared', 'Jean', 'France', 'Charleston',\n",
       "       'William', 'French', \"D'Olier\", 'Families', 'Against', 'About',\n",
       "       'Under', 'Huguenots', 'Reports', 'These', 'Thomas', 'Above',\n",
       "       'Most', 'Full', 'High', 'Compounding', 'People', 'Roughly,', 'Are',\n",
       "       'Oxygen', 'Photosynthesis', '_____', 'John', '\"An', 'Pneumatica',\n",
       "       'Philo', 'Combustion', 'Peroxides,', '______', 'Granite',\n",
       "       'Silicates', 'Upon', 'Pollution', 'While', 'Electrolysis',\n",
       "       'Pressures', 'Some', 'US', 'Scholars', 'Interest', 'Harold',\n",
       "       'Mazda,', 'Kurt', 'President', 'Was', 'Apollo', 'Crew', 'Charles',\n",
       "       'Do', 'Currently,', 'Breaking', 'Article', 'All', 'Beginning',\n",
       "       'Savannah', 'Near', 'Many', 'Analysis', 'Changes', 'Scientists',\n",
       "       'Geoglyphs', 'Evidence', 'Large', 'Acessing', 'Highways',\n",
       "       'Indigenous', 'Tribal', 'Classifying', 'Fossils', 'Cypiddids',\n",
       "       'Jellyfish', 'Ctenophora', 'Ctenophores', 'Ctenophores,', 'Comb',\n",
       "       'Combs', 'Cilia', 'Ciliary', 'Cydippid', 'Cydippids', 'Beroida',\n",
       "       'Juvenile', 'Haeckelia', 'Turtles', 'Ediacaran', 'Stromatoveris',\n",
       "       'Vendobionta', 'Recent', 'Between', 'State', 'Packet', 'WHen', '2',\n",
       "       'X.25', 'DEC', 'WHy', 'Purpose', 'Telnet', 'Gateways', 'Strictly',\n",
       "       'Funding', 'ableine', 'Sedimentary', 'Plate', 'Recently',\n",
       "       'Finding', 'Rocks', 'Xenoliths', 'Previous', 'Rock', 'Stretched',\n",
       "       'Stable', 'Petrologists', 'Data', 'Zones', 'Horizontal',\n",
       "       'Stratigraphers', 'Fielding', 'Living', 'James', 'First',\n",
       "       'Newcastle', 'Gosforth', 'Harrogate', 'Jesmond', 'Scottish',\n",
       "       'Strang', '\"Bairn\"', 'Statues', 'Approximately', 'Sir', 'Included',\n",
       "       'Suzuki', 'Tibetan', \"Britain's\", 'Disney-ABC', 'ABC', 'Noble',\n",
       "       'Goldenson', 'Ugly', '2011-12', 'Shark', 'Relegation', 'Very',\n",
       "       'Leonard', '$500', 'Capital', 'Miller-Boyett', 'Red', 'Blue',\n",
       "       'Among', \"Which's\", \"Jochi's\", 'Genghis', 'Later', 'Khitan',\n",
       "       'Jenggis', 'Developments', 'Has', 'Antigens', 'Pattern', 'Semen',\n",
       "       'Vaginal', 'Commensal', 'Eicosanoids', 'Phagocytes',\n",
       "       'Phagocytosis', 'Innate', 'Dendritic', 'Natural', 'Missing', 'MHC',\n",
       "       'Antigen', 'Killer', 'Helper', 'Activation', 'Gamma',\n",
       "       'Immunological', 'Long-lived', 'Newborns', 'Antibodies',\n",
       "       'Hormones', 'Female', 'Disruptions', 'Older', 'Lots', 'Tumor',\n",
       "       'Plants', 'Plant', 'Cells', 'Vaccination', 'Bacteria', 'Low',\n",
       "       'Inflammation', 'Melatonin', 'Primitive', 'Evolution',\n",
       "       'Invertebrates', 'Tumors', 'Cytokine', 'Antibody-dependent',\n",
       "       'Drop', 'Sleep', 'Complement', 'Sophocles', 'Antigone', 'His',\n",
       "       'Inspired', 'Gandhi', 'Vice', 'Civil', 'More', 'Le',\n",
       "       'Constitutional', 'Thoreau', 'Brownlee', 'Browlee', 'Stephen',\n",
       "       'Cristian', 'Debates', 'Revolutionary', 'Bedau', 'Such', \"WBAI's\",\n",
       "       'Boycotting,', 'Anarchists', 'Going', 'Construction', 'Zoning',\n",
       "       'Building', 'Infrastructure', 'Refineries,', 'ENR', 'Residential',\n",
       "       'Site', 'Dutch', 'Working', 'Even', 'Cost', 'Constructing',\n",
       "       'Contracts', 'Focus', 'Any', 'Having', 'Up', 'School', 'Granting',\n",
       "       'Ministers', 'in', \"Agassiz's\", 'Common', 'Post', 'Starting',\n",
       "       'Harvard', 'Based', 'Soon', 'Supplies', \"Jacksonville's\",\n",
       "       'Jacksonville', 'Survivial', 'Survival', 'Income', 'Higher',\n",
       "       'Persistent', 'Policies', 'Health', 'Inequality', 'Barro',\n",
       "       'Excessive', 'Fans', 'Dimensions', 'Hutchinson', 'UChicago',\n",
       "       'Around', 'Roughly', 'Hank', 'Ludwig', 'Preschool', 'Levels',\n",
       "       'Trial', 'the', 'Completing', 'Messiaen', 'Lake', \"There's\",\n",
       "       'Microplates', 'Vetra', 'Taking', 'Different', 'Economy,',\n",
       "       'Setting', 'Issues', 'Members', 'MPs', 'Western', 'Salafism',\n",
       "       'Conservative', 'Iqbal', 'Maududi', 'Secular', 'Mohammad', 'Iran',\n",
       "       'Until', 'Unsurprisingly,', 'Thousands', 'Imperialism', 'colonial',\n",
       "       'imperialism', 'Informal', 'Colonialism', 'Political', 'Friedrich',\n",
       "       'J.', 'Halford', 'Terra', 'Orientalism', 'bassett', 'European',\n",
       "       'Theories', 'some', 'Hobson', 'Humans', 'Europe', 'Jules',\n",
       "       'Germany', 'Colonies', 'Trotsky', 'Rudyard', 'Richard',\n",
       "       'Prevenient', 'Today,', 'Historically,', 'Healing', 'Clergy',\n",
       "       'Elders', 'No', 'Deacons', 'Unlike', 'Local', 'Governon', 'Given',\n",
       "       \"Pitt's\", 'Whwn', 'Static', 'Objects', 'Matter', 'Whatare',\n",
       "       'Tension,'], dtype=object)"
      ]
     },
     "execution_count": 46,
     "metadata": {},
     "output_type": "execute_result"
    }
   ],
   "source": [
    "df[\"first_word_question\"].unique()"
   ]
  },
  {
   "cell_type": "code",
   "execution_count": 44,
   "metadata": {},
   "outputs": [
    {
     "data": {
      "text/plain": [
       "id                                                  56be4db0acb8001400a502ef\n",
       "title                                                          Super_Bowl_50\n",
       "context                    Super Bowl 50 was an American football game to...\n",
       "question                                   Which NFL team won Super Bowl 50?\n",
       "answer_start                                                 [177, 177, 177]\n",
       "answer_text                 [Denver Broncos, Denver Broncos, Denver Broncos]\n",
       "question_len_char                                                         33\n",
       "context_len_char                                                         775\n",
       "prim_pergunta                                                          Which\n",
       "first_word_question                                                    Which\n",
       "two_first_word_question                                            Which NFL\n",
       "second_word_question                                                     NFL\n",
       "Name: 3, dtype: object"
      ]
     },
     "execution_count": 44,
     "metadata": {},
     "output_type": "execute_result"
    }
   ],
   "source": [
    "df.iloc[3]"
   ]
  },
  {
   "cell_type": "code",
   "execution_count": null,
   "metadata": {},
   "outputs": [],
   "source": [
    "# criar no dataframe: \n",
    "# tipo pergunta\n",
    "question_types = [\"What \", \"How \", \"Is \", \"Does \", \"Do \", \"Was \", \"Where \", \"Why \", \"Which \"]\n",
    "self._df[\"question\"].str.startswith(question_type)\n",
    "\n",
    "# qtd_char_pergunta\n",
    "self._df['question_len_char'] = self._df['question'].str.len()\n",
    "\n",
    "# qtd_char_contexto\n",
    "self._df['context_len_char'] = self._df['context'].str.len()\n",
    "\n",
    "# qtd_char_menor_resposta\n",
    "df_answer = self._df[['id','answer_text']].explode('answer_text')\n",
    "# qtd_char_maior_resposta\n",
    "\n",
    "# qtd_ground_truth \n",
    "self._df['qtd_ground_truth'] = self._df['answer_text'].len()"
   ]
  },
  {
   "cell_type": "code",
   "execution_count": null,
   "metadata": {},
   "outputs": [],
   "source": []
  },
  {
   "cell_type": "code",
   "execution_count": null,
   "metadata": {},
   "outputs": [],
   "source": []
  },
  {
   "cell_type": "code",
   "execution_count": null,
   "metadata": {},
   "outputs": [],
   "source": []
  },
  {
   "cell_type": "markdown",
   "metadata": {},
   "source": [
    "# Context"
   ]
  },
  {
   "cell_type": "code",
   "execution_count": 6,
   "metadata": {},
   "outputs": [],
   "source": [
    "from source.calculation.context_learning import trata_reader_pipe"
   ]
  },
  {
   "cell_type": "code",
   "execution_count": 7,
   "metadata": {},
   "outputs": [],
   "source": [
    "dict_config_model = {\n",
    "                # parâmetros complementares\n",
    "                \"learning_method\":'context',\n",
    "                \"num_top_k\": 3,\n",
    "                \"num_max_answer_length\":80,\n",
    "                # parâmetros transfer # deixar branco\n",
    "                \"num_doc_stride\": '',\n",
    "                \"num_factor_multiply_top_k\": '',\n",
    "                \"if_handle_impossible_answer\": '',\n",
    "                # parâmetros context\n",
    "                'list_stop_words': ['.', '\\n','!'],\n",
    "                'cod_prompt_format': 102.,\n",
    "                'if_do_sample': False,\n",
    "                \"val_length_penalty\":0.,\n",
    "                'val_temperature': 0.1,\n",
    "}\n"
   ]
  },
  {
   "cell_type": "code",
   "execution_count": null,
   "metadata": {},
   "outputs": [],
   "source": [
    "name_model = \"EleutherAI/gpt-j-6B\""
   ]
  },
  {
   "cell_type": "code",
   "execution_count": 10,
   "metadata": {},
   "outputs": [],
   "source": [
    "model = trata_reader_pipe.Reader(name_model, dict_config_model)"
   ]
  },
  {
   "cell_type": "code",
   "execution_count": 12,
   "metadata": {},
   "outputs": [
    {
     "name": "stdout",
     "output_type": "stream",
     "text": [
      "Answer: number of tokens:\n",
      "       answer_text\n",
      "count        31168\n",
      "unique       12378\n",
      "top           três\n",
      "freq           126\n"
     ]
    },
    {
     "data": {
      "image/png": "[encoded data removed]",
      "text/plain": [
       "<Figure size 432x288 with 1 Axes>"
      ]
     },
     "metadata": {
      "needs_background": "light"
     },
     "output_type": "display_data"
    },
    {
     "name": "stdout",
     "output_type": "stream",
     "text": [
      "Tamanho em caracteres de answer\n",
      "count    31168.00\n",
      "mean        19.29\n",
      "std         19.62\n",
      "min          1.00\n",
      "25%          7.00\n",
      "50%         14.00\n",
      "75%         23.00\n",
      "max        198.00\n",
      "Name: answer_text, dtype: object\n"
     ]
    },
    {
     "data": {
      "image/png": "[encoded data removed]",
      "text/plain": [
       "<Figure size 432x288 with 1 Axes>"
      ]
     },
     "metadata": {
      "needs_background": "light"
     },
     "output_type": "display_data"
    },
    {
     "name": "stdout",
     "output_type": "stream",
     "text": [
      "Number of tokens:\n",
      "       n_tokens_question_context  n_tokens_question\n",
      "count               10570.000000       10570.000000\n",
      "mean                  309.847682          21.827815\n",
      "std                   132.024003           8.044292\n",
      "min                    60.000000           5.000000\n",
      "25%                   233.000000          16.000000\n",
      "50%                   285.000000          21.000000\n",
      "75%                   362.000000          26.000000\n",
      "max                  1602.000000          70.000000\n"
     ]
    },
    {
     "data": {
      "image/png": "[encoded data removed]",
      "text/plain": [
       "<Figure size 432x288 with 1 Axes>"
      ]
     },
     "metadata": {
      "needs_background": "light"
     },
     "output_type": "display_data"
    },
    {
     "data": {
      "image/png": "[encoded data removed]",
      "text/plain": [
       "<Figure size 432x288 with 1 Axes>"
      ]
     },
     "metadata": {
      "needs_background": "light"
     },
     "output_type": "display_data"
    }
   ],
   "source": [
    "vdataset.print_histogram_num_tokens_given_tokenizer(parm_tokenizer=model.tokenizer)"
   ]
  },
  {
   "cell_type": "code",
   "execution_count": 8,
   "metadata": {},
   "outputs": [],
   "source": [
    "name_model = \"EleutherAI/gpt-neo-2.7B\"\n",
    "model = trata_reader_pipe.Reader(name_model, dict_config_model)"
   ]
  },
  {
   "cell_type": "code",
   "execution_count": 13,
   "metadata": {},
   "outputs": [
    {
     "name": "stdout",
     "output_type": "stream",
     "text": [
      "Answer: number of tokens:\n",
      "       answer_text\n",
      "count        34726\n",
      "unique       14884\n",
      "top          three\n",
      "freq           123\n"
     ]
    },
    {
     "data": {
      "image/png": "[encoded data removed]",
      "text/plain": [
       "<Figure size 432x288 with 1 Axes>"
      ]
     },
     "metadata": {
      "needs_background": "light"
     },
     "output_type": "display_data"
    },
    {
     "name": "stdout",
     "output_type": "stream",
     "text": [
      "Tamanho em caracteres de answer\n",
      "count    34726.00\n",
      "mean        18.73\n",
      "std         18.33\n",
      "min          1.00\n",
      "25%          7.00\n",
      "50%         13.00\n",
      "75%         22.00\n",
      "max        160.00\n",
      "Name: answer_text, dtype: object\n"
     ]
    },
    {
     "data": {
      "image/png": "[encoded data removed]",
      "text/plain": [
       "<Figure size 432x288 with 1 Axes>"
      ]
     },
     "metadata": {
      "needs_background": "light"
     },
     "output_type": "display_data"
    },
    {
     "name": "stdout",
     "output_type": "stream",
     "text": [
      "Number of tokens:\n",
      "       n_tokens_question_context  n_tokens_question\n",
      "count               10570.000000       10570.000000\n",
      "mean                  173.366887          12.493661\n",
      "std                    73.010888           4.065530\n",
      "min                    37.000000           4.000000\n",
      "25%                   129.000000          10.000000\n",
      "50%                   159.000000          12.000000\n",
      "75%                   203.000000          15.000000\n",
      "max                   810.000000          40.000000\n"
     ]
    },
    {
     "data": {
      "image/png": "[encoded data removed]",
      "text/plain": [
       "<Figure size 432x288 with 1 Axes>"
      ]
     },
     "metadata": {
      "needs_background": "light"
     },
     "output_type": "display_data"
    },
    {
     "data": {
      "image/png": "[encoded data removed]",
      "text/plain": [
       "<Figure size 432x288 with 1 Axes>"
      ]
     },
     "metadata": {
      "needs_background": "light"
     },
     "output_type": "display_data"
    }
   ],
   "source": [
    "vdataset.print_histogram_num_tokens_given_tokenizer(parm_tokenizer=model.tokenizer)"
   ]
  },
  {
   "cell_type": "markdown",
   "metadata": {},
   "source": [
    "# Transfer"
   ]
  },
  {
   "cell_type": "code",
   "execution_count": null,
   "metadata": {},
   "outputs": [],
   "source": [
    "from source.calculation.transfer_learning.trata_reader import Reader"
   ]
  },
  {
   "cell_type": "code",
   "execution_count": 8,
   "metadata": {},
   "outputs": [],
   "source": [
    "\n",
    "if vdataset._language == 'en':\n",
    "    name_model = 'distilbert-base-cased-distilled-squad'\n",
    "    path_model = \"models/transfer_learning/\"+name_model\n",
    "    model = Reader(pretrained_model_name_or_path=path_model, parm_dict_config=None)\n",
    "else:\n",
    "    name_model = 'pierreguillou/bert-large-cased-squad-v1.1-portuguese'\n",
    "    path_model = \"models/transfer_learning/\"+name_model\n",
    "    model = Reader(pretrained_model_name_or_path=path_model, parm_dict_config=None)\n",
    "\n",
    "\n"
   ]
  },
  {
   "cell_type": "code",
   "execution_count": 56,
   "metadata": {},
   "outputs": [
    {
     "name": "stdout",
     "output_type": "stream",
     "text": [
      "Answer: number of tokens:\n",
      "       answer_text\n",
      "count        34726\n",
      "unique       14884\n",
      "top          three\n",
      "freq           123\n"
     ]
    },
    {
     "data": {
      "image/png": "[encoded data removed]",
      "text/plain": [
       "<Figure size 432x288 with 1 Axes>"
      ]
     },
     "metadata": {
      "needs_background": "light"
     },
     "output_type": "display_data"
    },
    {
     "name": "stdout",
     "output_type": "stream",
     "text": [
      "Tamanho em caracteres de answer\n",
      "count    34726.00\n",
      "mean        18.73\n",
      "std         18.33\n",
      "min          1.00\n",
      "25%          7.00\n",
      "50%         13.00\n",
      "75%         22.00\n",
      "max        160.00\n",
      "Name: answer_text, dtype: object\n"
     ]
    },
    {
     "data": {
      "image/png": "[encoded data removed]",
      "text/plain": [
       "<Figure size 432x288 with 1 Axes>"
      ]
     },
     "metadata": {
      "needs_background": "light"
     },
     "output_type": "display_data"
    },
    {
     "name": "stdout",
     "output_type": "stream",
     "text": [
      "Number of tokens:\n",
      "       n_tokens_question_context  n_tokens_question\n",
      "count               10570.000000       10570.000000\n",
      "mean                  181.640965          14.867077\n",
      "std                    75.466542           4.210699\n",
      "min                    42.000000           6.000000\n",
      "25%                   136.000000          12.000000\n",
      "50%                   167.000000          14.000000\n",
      "75%                   211.000000          17.000000\n",
      "max                   833.000000          44.000000\n"
     ]
    },
    {
     "data": {
      "image/png": "[encoded data removed]",
      "text/plain": [
       "<Figure size 432x288 with 1 Axes>"
      ]
     },
     "metadata": {
      "needs_background": "light"
     },
     "output_type": "display_data"
    },
    {
     "data": {
      "image/png": "[encoded data removed]",
      "text/plain": [
       "<Figure size 432x288 with 1 Axes>"
      ]
     },
     "metadata": {
      "needs_background": "light"
     },
     "output_type": "display_data"
    }
   ],
   "source": [
    "vdataset.print_histogram_num_tokens_given_tokenizer(parm_tokenizer=model.tokenizer)\n"
   ]
  },
  {
   "cell_type": "code",
   "execution_count": 32,
   "metadata": {},
   "outputs": [],
   "source": [
    "df = vdataset.df[['answer_text']].explode('answer_text')"
   ]
  },
  {
   "cell_type": "code",
   "execution_count": 33,
   "metadata": {},
   "outputs": [
    {
     "data": {
      "text/plain": [
       "pandas.core.frame.DataFrame"
      ]
     },
     "execution_count": 33,
     "metadata": {},
     "output_type": "execute_result"
    }
   ],
   "source": [
    "type(df_answer)"
   ]
  },
  {
   "cell_type": "code",
   "execution_count": 34,
   "metadata": {},
   "outputs": [
    {
     "data": {
      "text/plain": [
       "answer_text    Denver Broncos\n",
       "Name: 0, dtype: object"
      ]
     },
     "execution_count": 34,
     "metadata": {},
     "output_type": "execute_result"
    }
   ],
   "source": [
    "df_answer.iloc[0]"
   ]
  },
  {
   "cell_type": "code",
   "execution_count": 30,
   "metadata": {},
   "outputs": [],
   "source": [
    "df_answer2 = df_answer.explode('answer_text')"
   ]
  },
  {
   "cell_type": "code",
   "execution_count": 31,
   "metadata": {},
   "outputs": [
    {
     "data": {
      "text/plain": [
       "answer_text    Denver Broncos\n",
       "Name: 0, dtype: object"
      ]
     },
     "execution_count": 31,
     "metadata": {},
     "output_type": "execute_result"
    }
   ],
   "source": [
    "df_answer2.iloc[0]"
   ]
  },
  {
   "cell_type": "code",
   "execution_count": 29,
   "metadata": {},
   "outputs": [
    {
     "data": {
      "text/plain": [
       "1"
      ]
     },
     "execution_count": 29,
     "metadata": {},
     "output_type": "execute_result"
    }
   ],
   "source": [
    "len(df_answer2)"
   ]
  },
  {
   "cell_type": "code",
   "execution_count": null,
   "metadata": {},
   "outputs": [],
   "source": []
  },
  {
   "cell_type": "code",
   "execution_count": 26,
   "metadata": {},
   "outputs": [
    {
     "name": "stdout",
     "output_type": "stream",
     "text": [
      "Number of tokens:\n",
      "       n_tokens_question_context  n_tokens_question\n",
      "count               10570.000000       10570.000000\n",
      "mean                  181.640965          14.867077\n",
      "std                    75.466542           4.210699\n",
      "min                    42.000000           6.000000\n",
      "25%                   136.000000          12.000000\n",
      "50%                   167.000000          14.000000\n",
      "75%                   211.000000          17.000000\n",
      "max                   833.000000          44.000000\n"
     ]
    },
    {
     "data": {
      "image/png": "[encoded data removed]",
      "text/plain": [
       "<Figure size 432x288 with 1 Axes>"
      ]
     },
     "metadata": {
      "needs_background": "light"
     },
     "output_type": "display_data"
    },
    {
     "data": {
      "image/png": "[encoded data removed]",
      "text/plain": [
       "<Figure size 432x288 with 1 Axes>"
      ]
     },
     "metadata": {
      "needs_background": "light"
     },
     "output_type": "display_data"
    }
   ],
   "source": [
    "vdataset.print_histogram_num_tokens_given_tokenizer(parm_tokenizer=model.tokenizer)"
   ]
  },
  {
   "cell_type": "code",
   "execution_count": 28,
   "metadata": {},
   "outputs": [
    {
     "name": "stderr",
     "output_type": "stream",
     "text": [
      "Using custom data configuration default-61eba6f0d4a86c5d\n",
      "Reusing dataset json (/home/borela/.cache/huggingface/datasets/json/default-61eba6f0d4a86c5d/0.0.0/da492aad5680612e4028e7f6ddc04b1dfcec4b64db470ed7cc5f2bb265b9b6b5)\n",
      "100%|██████████| 1/1 [00:00<00:00, 546.77it/s]\n"
     ]
    }
   ],
   "source": [
    "vdataset =squad_related.load_squad_dataset_1_1('pt')"
   ]
  },
  {
   "cell_type": "code",
   "execution_count": 31,
   "metadata": {},
   "outputs": [],
   "source": [
    "if vdataset._language == 'en':\n",
    "    name_model = 'distilbert-base-cased-distilled-squad'\n",
    "    path_model = \"models/transfer_learning/\"+name_model\n",
    "    model = Reader(pretrained_model_name_or_path=path_model, parm_dict_config=None)\n",
    "else:\n",
    "    name_model = 'pierreguillou/bert-large-cased-squad-v1.1-portuguese'\n",
    "    path_model = \"models/transfer_learning/\"+name_model\n",
    "    model = Reader(pretrained_model_name_or_path=path_model, parm_dict_config=None)"
   ]
  },
  {
   "cell_type": "code",
   "execution_count": 33,
   "metadata": {},
   "outputs": [
    {
     "name": "stdout",
     "output_type": "stream",
     "text": [
      "Number of tokens:\n",
      "       n_tokens_question_context  n_tokens_question\n",
      "count               10570.000000       10570.000000\n",
      "mean                  196.044655          15.734248\n",
      "std                    81.047200           4.541214\n",
      "min                    44.000000           6.000000\n",
      "25%                   147.000000          12.000000\n",
      "50%                   180.000000          15.000000\n",
      "75%                   228.000000          18.000000\n",
      "max                   950.000000          46.000000\n"
     ]
    },
    {
     "data": {
      "image/png": "[encoded data removed]",
      "text/plain": [
       "<Figure size 432x288 with 1 Axes>"
      ]
     },
     "metadata": {
      "needs_background": "light"
     },
     "output_type": "display_data"
    },
    {
     "data": {
      "image/png": "[encoded data removed]",
      "text/plain": [
       "<Figure size 432x288 with 1 Axes>"
      ]
     },
     "metadata": {
      "needs_background": "light"
     },
     "output_type": "display_data"
    }
   ],
   "source": [
    "vdataset.print_histogram_num_tokens_given_tokenizer(parm_tokenizer=model.tokenizer)"
   ]
  },
  {
   "cell_type": "code",
   "execution_count": null,
   "metadata": {},
   "outputs": [],
   "source": []
  },
  {
   "cell_type": "code",
   "execution_count": 10,
   "metadata": {},
   "outputs": [
    {
     "data": {
      "text/plain": [
       "{'id': '56be4db0acb8001400a502ec',\n",
       " 'title': 'Super_Bowl_50',\n",
       " 'context': 'Super Bowl 50 was an American football game to determine the champion of the National Football League (NFL) for the 2015 season. The American Football Conference (AFC) champion Denver Broncos defeated the National Football Conference (NFC) champion Carolina Panthers 24–10 to earn their third Super Bowl title. The game was played on February 7, 2016, at Levi\\'s Stadium in the San Francisco Bay Area at Santa Clara, California. As this was the 50th Super Bowl, the league emphasized the \"golden anniversary\" with various gold-themed initiatives, as well as temporarily suspending the tradition of naming each Super Bowl game with Roman numerals (under which the game would have been known as \"Super Bowl L\"), so that the logo could prominently feature the Arabic numerals 50.',\n",
       " 'question': 'Which NFL team represented the AFC at Super Bowl 50?',\n",
       " 'answer_start': [177, 177, 177],\n",
       " 'answer_text': ['Denver Broncos', 'Denver Broncos', 'Denver Broncos']}"
      ]
     },
     "execution_count": 10,
     "metadata": {},
     "output_type": "execute_result"
    }
   ],
   "source": [
    "vdataset.dataset[0]"
   ]
  },
  {
   "cell_type": "code",
   "execution_count": 11,
   "metadata": {},
   "outputs": [
    {
     "name": "stdout",
     "output_type": "stream",
     "text": [
      "What : 4725\n",
      "What is beta carotene?\n",
      "What type of T cells help with both innnate and adaptive immunity?\n",
      "How : 1087\n",
      "How fast were the winds around St. Augustine in the 1964 hurricane?\n",
      "How many interceptions did Josh Norman score touchdowns with in 2015?\n",
      "Is : 10\n",
      "Is the packet header long\n",
      "Is the output of a functional problem typically characterized by a simple or complex answer?\n",
      "Does : 4\n",
      "Does BSkyB carry any control over the picture quality of a channel?\n",
      "Does the residential architecture of the Tower District compare or contrast with other part of Fresno?\n",
      "Do : 2\n",
      "Do adults or juveniles secretions luminesce brighter?\n",
      "Do the U.S. flags on the moon still have their original coloring or were they faded due to the Sun?\n",
      "Was : 10\n",
      "Was was the plan for Langlades mission?\n",
      "Was the testing of the LM during Apollo 5 a failure or a success?\n",
      "Where : 431\n",
      "Where was Montcalm focusing the defense for New France?\n",
      "Where did he work on the oscillators?\n",
      "Why : 150\n",
      "Why would a person chose civil disobedience against specific laws?\n",
      "Why did he walk?\n",
      "Which : 453\n",
      "Which major cities in Eastern Europe were not destroyed by the Mongol invasion?\n",
      "Which network broadcast the game in Spanish?\n"
     ]
    },
    {
     "data": {
      "image/png": "[encoded data removed]",
      "text/plain": [
       "<Figure size 432x288 with 1 Axes>"
      ]
     },
     "metadata": {
      "needs_background": "light"
     },
     "output_type": "display_data"
    }
   ],
   "source": [
    "dataset_en.print_total_per_question_type()"
   ]
  },
  {
   "cell_type": "code",
   "execution_count": 18,
   "metadata": {},
   "outputs": [
    {
     "data": {
      "text/plain": [
       "'Which NFL team represented the AFC at Super Bowl 50?'"
      ]
     },
     "execution_count": 18,
     "metadata": {},
     "output_type": "execute_result"
    }
   ],
   "source": [
    "dataset_en.dataset[0]['question']\n"
   ]
  },
  {
   "cell_type": "code",
   "execution_count": 20,
   "metadata": {},
   "outputs": [
    {
     "data": {
      "text/plain": [
       "'Where did Super Bowl 50 take place?'"
      ]
     },
     "execution_count": 20,
     "metadata": {},
     "output_type": "execute_result"
    }
   ],
   "source": [
    "dataset_en.dataset[2]['question']"
   ]
  },
  {
   "cell_type": "code",
   "execution_count": 14,
   "metadata": {},
   "outputs": [
    {
     "name": "stdout",
     "output_type": "stream",
     "text": [
      "Dataset dev-v1.1.json \n",
      "#artigos: 48\n",
      "\n",
      "****** artigo ****** \n",
      "  dict_keys(['title', 'paragraphs']) \n",
      "  1o artigo \n",
      "    #paragrafos 54;\n",
      "    Artigo:\n",
      "      Super_Bowl_50, \n",
      "\n",
      "    ****** paragrafo ******\n",
      "      dict_keys(['context', 'qas']) \n",
      "      1o paragrafo: \n",
      "      #perguntas: 30 \n",
      "      Parágrafo: \n",
      "        Super Bowl 50 was an American football game to determine the champion of the National Football League (NFL) for the 2015 season. The American Football Conference (AFC) champion Denver Broncos defeated the National Football Conference (NFC) champion Carolina Panthers 24–10 to earn their third Super Bowl title. The game was played on February 7, 2016, at Levi's Stadium in the San Francisco Bay Area at Santa Clara, California. As this was the 50th Super Bowl, the league emphasized the \"golden anniversary\" with various gold-themed initiatives, as well as temporarily suspending the tradition of naming each Super Bowl game with Roman numerals (under which the game would have been known as \"Super Bowl L\"), so that the logo could prominently feature the Arabic numerals 50.\n",
      "\n",
      "      ****** pergunta ****** \n",
      "        dict_keys(['answers', 'question', 'id']) \n",
      "        1a pergunta: \n",
      "        Qtd respostas: 3; \n",
      "        Pergunta: \n",
      "          Which NFL team represented the AFC at Super Bowl 50?\n",
      "\n",
      "        ****** resposta ****** \n",
      "          dict_keys(['answer_start', 'text']) \n",
      "          1a resposta: \n",
      "          {'answer_start': 177, 'text': 'Denver Broncos'}\n",
      "          Exemplo 1o ground_truths de respostas: \n",
      "            ['Denver Broncos', 'Denver Broncos', 'Denver Broncos']\n"
     ]
    }
   ],
   "source": [
    "dataset_en.print_example()"
   ]
  },
  {
   "cell_type": "code",
   "execution_count": 48,
   "metadata": {},
   "outputs": [
    {
     "data": {
      "text/html": [
       "<div>\n",
       "<style scoped>\n",
       "    .dataframe tbody tr th:only-of-type {\n",
       "        vertical-align: middle;\n",
       "    }\n",
       "\n",
       "    .dataframe tbody tr th {\n",
       "        vertical-align: top;\n",
       "    }\n",
       "\n",
       "    .dataframe thead th {\n",
       "        text-align: right;\n",
       "    }\n",
       "</style>\n",
       "<table border=\"1\" class=\"dataframe\">\n",
       "  <thead>\n",
       "    <tr style=\"text-align: right;\">\n",
       "      <th></th>\n",
       "      <th>id</th>\n",
       "      <th>title</th>\n",
       "      <th>context</th>\n",
       "      <th>question</th>\n",
       "      <th>answer_start</th>\n",
       "      <th>answer_text</th>\n",
       "    </tr>\n",
       "  </thead>\n",
       "  <tbody>\n",
       "    <tr>\n",
       "      <th>0</th>\n",
       "      <td>56be4db0acb8001400a502ec</td>\n",
       "      <td>Super_Bowl_50</td>\n",
       "      <td>Super Bowl 50 was an American football game to...</td>\n",
       "      <td>Which NFL team represented the AFC at Super Bo...</td>\n",
       "      <td>[177, 177, 177]</td>\n",
       "      <td>[Denver Broncos, Denver Broncos, Denver Broncos]</td>\n",
       "    </tr>\n",
       "    <tr>\n",
       "      <th>1</th>\n",
       "      <td>56be4db0acb8001400a502ed</td>\n",
       "      <td>Super_Bowl_50</td>\n",
       "      <td>Super Bowl 50 was an American football game to...</td>\n",
       "      <td>Which NFL team represented the NFC at Super Bo...</td>\n",
       "      <td>[249, 249, 249]</td>\n",
       "      <td>[Carolina Panthers, Carolina Panthers, Carolin...</td>\n",
       "    </tr>\n",
       "    <tr>\n",
       "      <th>2</th>\n",
       "      <td>56be4db0acb8001400a502ee</td>\n",
       "      <td>Super_Bowl_50</td>\n",
       "      <td>Super Bowl 50 was an American football game to...</td>\n",
       "      <td>Where did Super Bowl 50 take place?</td>\n",
       "      <td>[403, 355, 355]</td>\n",
       "      <td>[Santa Clara, California, Levi's Stadium, Levi...</td>\n",
       "    </tr>\n",
       "    <tr>\n",
       "      <th>3</th>\n",
       "      <td>56be4db0acb8001400a502ef</td>\n",
       "      <td>Super_Bowl_50</td>\n",
       "      <td>Super Bowl 50 was an American football game to...</td>\n",
       "      <td>Which NFL team won Super Bowl 50?</td>\n",
       "      <td>[177, 177, 177]</td>\n",
       "      <td>[Denver Broncos, Denver Broncos, Denver Broncos]</td>\n",
       "    </tr>\n",
       "    <tr>\n",
       "      <th>4</th>\n",
       "      <td>56be4db0acb8001400a502f0</td>\n",
       "      <td>Super_Bowl_50</td>\n",
       "      <td>Super Bowl 50 was an American football game to...</td>\n",
       "      <td>What color was used to emphasize the 50th anni...</td>\n",
       "      <td>[488, 488, 521]</td>\n",
       "      <td>[gold, gold, gold]</td>\n",
       "    </tr>\n",
       "  </tbody>\n",
       "</table>\n",
       "</div>"
      ],
      "text/plain": [
       "                         id          title  \\\n",
       "0  56be4db0acb8001400a502ec  Super_Bowl_50   \n",
       "1  56be4db0acb8001400a502ed  Super_Bowl_50   \n",
       "2  56be4db0acb8001400a502ee  Super_Bowl_50   \n",
       "3  56be4db0acb8001400a502ef  Super_Bowl_50   \n",
       "4  56be4db0acb8001400a502f0  Super_Bowl_50   \n",
       "\n",
       "                                             context  \\\n",
       "0  Super Bowl 50 was an American football game to...   \n",
       "1  Super Bowl 50 was an American football game to...   \n",
       "2  Super Bowl 50 was an American football game to...   \n",
       "3  Super Bowl 50 was an American football game to...   \n",
       "4  Super Bowl 50 was an American football game to...   \n",
       "\n",
       "                                            question     answer_start  \\\n",
       "0  Which NFL team represented the AFC at Super Bo...  [177, 177, 177]   \n",
       "1  Which NFL team represented the NFC at Super Bo...  [249, 249, 249]   \n",
       "2                Where did Super Bowl 50 take place?  [403, 355, 355]   \n",
       "3                  Which NFL team won Super Bowl 50?  [177, 177, 177]   \n",
       "4  What color was used to emphasize the 50th anni...  [488, 488, 521]   \n",
       "\n",
       "                                         answer_text  \n",
       "0   [Denver Broncos, Denver Broncos, Denver Broncos]  \n",
       "1  [Carolina Panthers, Carolina Panthers, Carolin...  \n",
       "2  [Santa Clara, California, Levi's Stadium, Levi...  \n",
       "3   [Denver Broncos, Denver Broncos, Denver Broncos]  \n",
       "4                                 [gold, gold, gold]  "
      ]
     },
     "execution_count": 48,
     "metadata": {},
     "output_type": "execute_result"
    }
   ],
   "source": [
    "dataset_en.df.head()"
   ]
  },
  {
   "cell_type": "code",
   "execution_count": 26,
   "metadata": {},
   "outputs": [
    {
     "data": {
      "text/html": [
       "<div>\n",
       "<style scoped>\n",
       "    .dataframe tbody tr th:only-of-type {\n",
       "        vertical-align: middle;\n",
       "    }\n",
       "\n",
       "    .dataframe tbody tr th {\n",
       "        vertical-align: top;\n",
       "    }\n",
       "\n",
       "    .dataframe thead th {\n",
       "        text-align: right;\n",
       "    }\n",
       "</style>\n",
       "<table border=\"1\" class=\"dataframe\">\n",
       "  <thead>\n",
       "    <tr style=\"text-align: right;\">\n",
       "      <th></th>\n",
       "      <th>id</th>\n",
       "      <th>title</th>\n",
       "      <th>context</th>\n",
       "      <th>question</th>\n",
       "      <th>answer_start</th>\n",
       "      <th>answer_text</th>\n",
       "    </tr>\n",
       "  </thead>\n",
       "  <tbody>\n",
       "    <tr>\n",
       "      <th>count</th>\n",
       "      <td>10570</td>\n",
       "      <td>10570</td>\n",
       "      <td>10570</td>\n",
       "      <td>10570</td>\n",
       "      <td>10570</td>\n",
       "      <td>10570</td>\n",
       "    </tr>\n",
       "    <tr>\n",
       "      <th>unique</th>\n",
       "      <td>10570</td>\n",
       "      <td>48</td>\n",
       "      <td>2067</td>\n",
       "      <td>10533</td>\n",
       "      <td>5800</td>\n",
       "      <td>9543</td>\n",
       "    </tr>\n",
       "    <tr>\n",
       "      <th>top</th>\n",
       "      <td>56be4db0acb8001400a502ec</td>\n",
       "      <td>Super_Bowl_50</td>\n",
       "      <td>Super Bowl 50 was an American football game to...</td>\n",
       "      <td>What shape are granal thylakoids?</td>\n",
       "      <td>[0, 0, 0]</td>\n",
       "      <td>[two, two, two]</td>\n",
       "    </tr>\n",
       "    <tr>\n",
       "      <th>freq</th>\n",
       "      <td>1</td>\n",
       "      <td>810</td>\n",
       "      <td>30</td>\n",
       "      <td>2</td>\n",
       "      <td>130</td>\n",
       "      <td>22</td>\n",
       "    </tr>\n",
       "  </tbody>\n",
       "</table>\n",
       "</div>"
      ],
      "text/plain": [
       "                              id          title  \\\n",
       "count                      10570          10570   \n",
       "unique                     10570             48   \n",
       "top     56be4db0acb8001400a502ec  Super_Bowl_50   \n",
       "freq                           1            810   \n",
       "\n",
       "                                                  context  \\\n",
       "count                                               10570   \n",
       "unique                                               2067   \n",
       "top     Super Bowl 50 was an American football game to...   \n",
       "freq                                                   30   \n",
       "\n",
       "                                 question answer_start      answer_text  \n",
       "count                               10570        10570            10570  \n",
       "unique                              10533         5800             9543  \n",
       "top     What shape are granal thylakoids?    [0, 0, 0]  [two, two, two]  \n",
       "freq                                    2          130               22  "
      ]
     },
     "execution_count": 26,
     "metadata": {},
     "output_type": "execute_result"
    }
   ],
   "source": [
    "dataset_en.df.describe()"
   ]
  },
  {
   "cell_type": "code",
   "execution_count": 33,
   "metadata": {},
   "outputs": [
    {
     "name": "stdout",
     "output_type": "stream",
     "text": [
      "Tamanho de context\n",
      "count    10570.00\n",
      "mean       778.98\n",
      "std        350.70\n",
      "min        157.00\n",
      "25%        574.00\n",
      "50%        703.00\n",
      "75%        914.00\n",
      "max       4063.00\n",
      "Name: context, dtype: object\n",
      "Tamanho de question\n",
      "count    10570.00\n",
      "mean        59.98\n",
      "std         21.16\n",
      "min         12.00\n",
      "25%         45.00\n",
      "50%         57.00\n",
      "75%         72.00\n",
      "max        197.00\n",
      "Name: question, dtype: object\n"
     ]
    }
   ],
   "source": [
    "dataset_en =squad_related.carregar_squad_1_1('en')\n",
    "columns = ['context', 'question']\n",
    "for column in columns:\n",
    "    s = dataset_en.df[column].str.len()\n",
    "    print(f\"Tamanho de {column}\")\n",
    "    print(s.describe().apply(\"{0:.2f}\".format))"
   ]
  },
  {
   "cell_type": "code",
   "execution_count": 23,
   "metadata": {},
   "outputs": [],
   "source": [
    "dt = dataset_en.dataset"
   ]
  },
  {
   "cell_type": "code",
   "execution_count": 30,
   "metadata": {},
   "outputs": [
    {
     "data": {
      "text/plain": [
       "['id', 'title', 'context', 'question', 'answer_start', 'answer_text']"
      ]
     },
     "execution_count": 30,
     "metadata": {},
     "output_type": "execute_result"
    }
   ],
   "source": [
    "dt.column_names"
   ]
  },
  {
   "cell_type": "code",
   "execution_count": null,
   "metadata": {},
   "outputs": [],
   "source": []
  }
 ],
 "metadata": {
  "interpreter": {
   "hash": "16b3c0ce748aace455bf65b029a476256c8ff6ef00bd218fbe4819ff37ebf33a"
  },
  "kernelspec": {
   "display_name": "Python 3.7.13 ('exqa-complearning')",
   "language": "python",
   "name": "python3"
  },
  "language_info": {
   "codemirror_mode": {
    "name": "ipython",
    "version": 3
   },
   "file_extension": ".py",
   "mimetype": "text/x-python",
   "name": "python",
   "nbconvert_exporter": "python",
   "pygments_lexer": "ipython3",
   "version": "3.7.13"
  },
  "orig_nbformat": 4,
  "vscode": {
   "interpreter": {
    "hash": "5184730958793e1dccf3f74528df7bd8b01cfba5fc8480fa69f8e22885c01e0d"
   }
  }
 },
 "nbformat": 4,
 "nbformat_minor": 2
}
